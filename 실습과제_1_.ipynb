{
  "nbformat": 4,
  "nbformat_minor": 0,
  "metadata": {
    "colab": {
      "name": "실습과제 1 .ipynb",
      "provenance": [],
      "collapsed_sections": [],
      "authorship_tag": "ABX9TyONeJ0pexsy3aRHBl5V6t/X",
      "include_colab_link": true
    },
    "kernelspec": {
      "name": "python3",
      "display_name": "Python 3"
    }
  },
  "cells": [
    {
      "cell_type": "markdown",
      "metadata": {
        "id": "view-in-github",
        "colab_type": "text"
      },
      "source": [
        "<a href=\"https://colab.research.google.com/github/bmt21409/bmt_pyson/blob/main/%EC%8B%A4%EC%8A%B5%EA%B3%BC%EC%A0%9C_1_.ipynb\" target=\"_parent\"><img src=\"https://colab.research.google.com/assets/colab-badge.svg\" alt=\"Open In Colab\"/></a>"
      ]
    },
    {
      "cell_type": "markdown",
      "metadata": {
        "id": "BAWGdQeTODhw"
      },
      "source": [
        "## 기초문법"
      ]
    },
    {
      "cell_type": "code",
      "metadata": {
        "id": "jqo502drNuCU"
      },
      "source": [
        "names = ['정밀','폴리','산설','로봇','메카','전기']"
      ],
      "execution_count": 15,
      "outputs": []
    },
    {
      "cell_type": "code",
      "metadata": {
        "colab": {
          "base_uri": "https://localhost:8080/"
        },
        "id": "at3K13R6OuZI",
        "outputId": "b85bfe39-cbb0-4ed8-f787-4973997a15f8"
      },
      "source": [
        "names"
      ],
      "execution_count": 16,
      "outputs": [
        {
          "output_type": "execute_result",
          "data": {
            "text/plain": [
              "['정밀', '폴리', '산설', '로봇', '메카', '전기']"
            ]
          },
          "metadata": {
            "tags": []
          },
          "execution_count": 16
        }
      ]
    },
    {
      "cell_type": "code",
      "metadata": {
        "colab": {
          "base_uri": "https://localhost:8080/",
          "height": 35
        },
        "id": "2DKqMn38OyTg",
        "outputId": "b45ed613-1d96-4f2c-decb-3d1492f05f49"
      },
      "source": [
        "names[-1]"
      ],
      "execution_count": 3,
      "outputs": [
        {
          "output_type": "execute_result",
          "data": {
            "application/vnd.google.colaboratory.intrinsic+json": {
              "type": "string"
            },
            "text/plain": [
              "'전기'"
            ]
          },
          "metadata": {
            "tags": []
          },
          "execution_count": 3
        }
      ]
    },
    {
      "cell_type": "code",
      "metadata": {
        "colab": {
          "base_uri": "https://localhost:8080/",
          "height": 35
        },
        "id": "-Riervt4O5Lf",
        "outputId": "09935121-cbee-49e3-ab2d-67e4d88e9b18"
      },
      "source": [
        "names[5]"
      ],
      "execution_count": 4,
      "outputs": [
        {
          "output_type": "execute_result",
          "data": {
            "application/vnd.google.colaboratory.intrinsic+json": {
              "type": "string"
            },
            "text/plain": [
              "'전기'"
            ]
          },
          "metadata": {
            "tags": []
          },
          "execution_count": 4
        }
      ]
    },
    {
      "cell_type": "code",
      "metadata": {
        "id": "Rrs2IlHMO_bv"
      },
      "source": [
        "names.append('부산기계')"
      ],
      "execution_count": 18,
      "outputs": []
    },
    {
      "cell_type": "code",
      "metadata": {
        "colab": {
          "base_uri": "https://localhost:8080/"
        },
        "id": "dWqJOTWAPBh_",
        "outputId": "14aac525-cd6f-4c9c-e5b5-af70cdabf726"
      },
      "source": [
        "names"
      ],
      "execution_count": 17,
      "outputs": [
        {
          "output_type": "execute_result",
          "data": {
            "text/plain": [
              "['정밀', '폴리', '산설', '로봇', '메카', '전기']"
            ]
          },
          "metadata": {
            "tags": []
          },
          "execution_count": 17
        }
      ]
    },
    {
      "cell_type": "code",
      "metadata": {
        "colab": {
          "base_uri": "https://localhost:8080/"
        },
        "id": "WL4REL2oPDvH",
        "outputId": "ff763006-740b-408c-d37d-26d7e252efa5"
      },
      "source": [
        "for name in names:\r\n",
        "    if len(name) > 2:\r\n",
        "      print(name,'공업고등학교')\r\n",
        "      print(name,'공업고등학교')\r\n",
        "    else:\r\n",
        "        print(name,'전공')"
      ],
      "execution_count": 40,
      "outputs": [
        {
          "output_type": "stream",
          "text": [
            "정밀 전공\n",
            "폴리 전공\n",
            "산설 전공\n",
            "로봇 전공\n",
            "메카 전공\n",
            "전기 전공\n",
            "부산기계 공업고등학교\n",
            "부산기계 공업고등학교\n"
          ],
          "name": "stdout"
        }
      ]
    },
    {
      "cell_type": "code",
      "metadata": {
        "colab": {
          "base_uri": "https://localhost:8080/"
        },
        "id": "PCBHx6dQWy4v",
        "outputId": "351d5bc9-1a8e-4294-9bfe-c89fba0e9bb8"
      },
      "source": [
        "# 출력 print함수 공부\r\n",
        "print(20**3)"
      ],
      "execution_count": 41,
      "outputs": [
        {
          "output_type": "stream",
          "text": [
            "8000\n"
          ],
          "name": "stdout"
        }
      ]
    },
    {
      "cell_type": "code",
      "metadata": {
        "colab": {
          "base_uri": "https://localhost:8080/"
        },
        "id": "hqCj1GeVPF2Q",
        "outputId": "ed579765-dde7-45a9-ece3-b0ccf915f422"
      },
      "source": [
        "print(2**16)"
      ],
      "execution_count": 42,
      "outputs": [
        {
          "output_type": "stream",
          "text": [
            "65536\n"
          ],
          "name": "stdout"
        }
      ]
    },
    {
      "cell_type": "code",
      "metadata": {
        "colab": {
          "base_uri": "https://localhost:8080/"
        },
        "id": "Vgh3Ds2DPHbI",
        "outputId": "bad9ea38-6ec9-4857-e39b-ebe5f223d3af"
      },
      "source": [
        "print('Hello, World!')"
      ],
      "execution_count": 9,
      "outputs": [
        {
          "output_type": "stream",
          "text": [
            "Hello, World!\n"
          ],
          "name": "stdout"
        }
      ]
    },
    {
      "cell_type": "code",
      "metadata": {
        "colab": {
          "base_uri": "https://localhost:8080/"
        },
        "id": "G78SHFd0XYEe",
        "outputId": "6696ead1-cc0c-480a-f5d1-fa4de53d1340"
      },
      "source": [
        "print('안녕하세요전기과여러분')"
      ],
      "execution_count": 43,
      "outputs": [
        {
          "output_type": "stream",
          "text": [
            "안녕하세요전기과여러분\n"
          ],
          "name": "stdout"
        }
      ]
    },
    {
      "cell_type": "code",
      "metadata": {
        "colab": {
          "base_uri": "https://localhost:8080/"
        },
        "id": "nHOJAbsaX8sr",
        "outputId": "11867bcf-37b5-485b-9864-af698c94aa8b"
      },
      "source": [
        "s = 1024\r\n",
        "print(a)"
      ],
      "execution_count": 47,
      "outputs": [
        {
          "output_type": "stream",
          "text": [
            "215\n"
          ],
          "name": "stdout"
        }
      ]
    },
    {
      "cell_type": "code",
      "metadata": {
        "colab": {
          "base_uri": "https://localhost:8080/"
        },
        "id": "I6Pwx50zPJK4",
        "outputId": "cce7ec73-a515-402f-e0e3-41ff2916cbb4"
      },
      "source": [
        "school=\"부산기계공고\"\r\n",
        "print(school)\r\n",
        "\r\n",
        "a=215\r\n",
        "print(a)\r\n",
        "\r\n",
        "name='전기과'\r\n",
        "print(name+'화이팅!!!')"
      ],
      "execution_count": 10,
      "outputs": [
        {
          "output_type": "stream",
          "text": [
            "부산기계공고\n",
            "215\n",
            "전기과화이팅!!!\n"
          ],
          "name": "stdout"
        }
      ]
    },
    {
      "cell_type": "code",
      "metadata": {
        "colab": {
          "base_uri": "https://localhost:8080/"
        },
        "id": "AT-D9An3PK7h",
        "outputId": "643bb4e8-5931-4054-8c55-7b2ea436ba21"
      },
      "source": [
        "print(f'2021년도 {name} 화이팅!!!') #f 포매팅"
      ],
      "execution_count": 11,
      "outputs": [
        {
          "output_type": "stream",
          "text": [
            "2021년도 전기과 화이팅!!!\n"
          ],
          "name": "stdout"
        }
      ]
    },
    {
      "cell_type": "code",
      "metadata": {
        "colab": {
          "base_uri": "https://localhost:8080/"
        },
        "id": "bIEVcUT3PR-n",
        "outputId": "58e58a48-ad7a-48f1-b644-ce19757c77fb"
      },
      "source": [
        "name=input()\r\n",
        "\r\n",
        "print(name+'님! 안녕하세요')"
      ],
      "execution_count": 28,
      "outputs": [
        {
          "output_type": "stream",
          "text": [
            "박주형\n",
            "박주형님! 안녕하세요\n"
          ],
          "name": "stdout"
        }
      ]
    },
    {
      "cell_type": "code",
      "metadata": {
        "colab": {
          "base_uri": "https://localhost:8080/"
        },
        "id": "PY6vinFbRWKH",
        "outputId": "18531394-df1a-49ef-d269-7650a97da068"
      },
      "source": [
        "name=input('이름을 입력해 주세요:')\r\n",
        "print(name+'안녕하세요.')"
      ],
      "execution_count": 29,
      "outputs": [
        {
          "output_type": "stream",
          "text": [
            "이름을 입력해 주세요:박주형\n",
            "박주형안녕하세요.\n"
          ],
          "name": "stdout"
        }
      ]
    },
    {
      "cell_type": "code",
      "metadata": {
        "colab": {
          "base_uri": "https://localhost:8080/"
        },
        "id": "eWmg7GaCRnvX",
        "outputId": "e7de3d20-92bf-45b0-eee0-1f467d3f6adf"
      },
      "source": [
        "age =float(input('나이입력: '))\r\n",
        "print(age-1)"
      ],
      "execution_count": 26,
      "outputs": [
        {
          "output_type": "stream",
          "text": [
            "나이입력: 17\n",
            "16.0\n"
          ],
          "name": "stdout"
        }
      ]
    },
    {
      "cell_type": "code",
      "metadata": {
        "colab": {
          "base_uri": "https://localhost:8080/"
        },
        "id": "om27ShDzbohd",
        "outputId": "5769e8f2-5f1a-40dd-e3fe-a3fb77f72efa"
      },
      "source": [
        "age = input('나이 입력 : ')\r\n",
        "\r\n",
        "age = int(age)\r\n",
        "\r\n",
        "print(age - 1 )"
      ],
      "execution_count": 59,
      "outputs": [
        {
          "output_type": "stream",
          "text": [
            "나이 입력 : 18\n"
          ],
          "name": "stdout"
        }
      ]
    },
    {
      "cell_type": "code",
      "metadata": {
        "colab": {
          "base_uri": "https://localhost:8080/",
          "height": 136
        },
        "id": "6W-a-nM1blso",
        "outputId": "2f590cc8-3d15-4c0b-81bf-fc2c313e47ef"
      },
      "source": [
        "name = input('이름입력 : ')\r\n",
        "age = int(input('나이입력 : '))\r\n",
        "\r\n",
        "print( f 안녕하세요! {name}님! 당신의 만 나이는 (age-1 ) 입니다')"
      ],
      "execution_count": 61,
      "outputs": [
        {
          "output_type": "error",
          "ename": "SyntaxError",
          "evalue": "ignored",
          "traceback": [
            "\u001b[0;36m  File \u001b[0;32m\"<ipython-input-61-671acfe544fd>\"\u001b[0;36m, line \u001b[0;32m3\u001b[0m\n\u001b[0;31m    print( f 안녕하세요! (name)님! 당신의 만 나이는 (age-1 ) 입니다')\u001b[0m\n\u001b[0m                 ^\u001b[0m\n\u001b[0;31mSyntaxError\u001b[0m\u001b[0;31m:\u001b[0m invalid syntax\n"
          ]
        }
      ]
    },
    {
      "cell_type": "code",
      "metadata": {
        "colab": {
          "base_uri": "https://localhost:8080/",
          "height": 136
        },
        "id": "kJSFIbUdaM7a",
        "outputId": "666bbff5-3b06-4029-e3a4-4c186132515c"
      },
      "source": [
        "key = 'pass'\r\n",
        "\r\n",
        "while True:\r\n",
        "  pwd = input('비밀키를 입력: ')\r\n",
        "\r\n",
        "if key == pwd:\r\n",
        "  print('암호 해제')\r\n",
        "  break\r\n",
        " else :\r\n",
        "  print('다시 입력')"
      ],
      "execution_count": 58,
      "outputs": [
        {
          "output_type": "error",
          "ename": "IndentationError",
          "evalue": "ignored",
          "traceback": [
            "\u001b[0;36m  File \u001b[0;32m\"<ipython-input-58-25cad4195031>\"\u001b[0;36m, line \u001b[0;32m9\u001b[0m\n\u001b[0;31m    else :\u001b[0m\n\u001b[0m          ^\u001b[0m\n\u001b[0;31mIndentationError\u001b[0m\u001b[0;31m:\u001b[0m unindent does not match any outer indentation level\n"
          ]
        }
      ]
    },
    {
      "cell_type": "code",
      "metadata": {
        "colab": {
          "base_uri": "https://localhost:8080/"
        },
        "id": "BmlNvqueRpZP",
        "outputId": "3853f9fa-b9d8-4c3a-e90f-cf7305b184b7"
      },
      "source": [
        "key='abcd'\r\n",
        "password=input('암호 입력(4글자):')\r\n",
        "if key == password:\r\n",
        "  print(\"암호해제\")\r\n",
        "else:\r\n",
        "    print(\"다시입력\")"
      ],
      "execution_count": 27,
      "outputs": [
        {
          "output_type": "stream",
          "text": [
            "암호 입력(4글자):abcd\n",
            "암호해제\n"
          ],
          "name": "stdout"
        }
      ]
    },
    {
      "cell_type": "code",
      "metadata": {
        "colab": {
          "base_uri": "https://localhost:8080/"
        },
        "id": "-8OZMMP6RrEX",
        "outputId": "f73b2643-08aa-425c-8ddf-72e0f48c77bb"
      },
      "source": [
        "10/3 "
      ],
      "execution_count": 62,
      "outputs": [
        {
          "output_type": "execute_result",
          "data": {
            "text/plain": [
              "3.3333333333333335"
            ]
          },
          "metadata": {
            "tags": []
          },
          "execution_count": 62
        }
      ]
    },
    {
      "cell_type": "code",
      "metadata": {
        "colab": {
          "base_uri": "https://localhost:8080/"
        },
        "id": "p6o3SqsvdErw",
        "outputId": "72f89cf3-cd93-46b2-bf96-d673e130482e"
      },
      "source": [
        "10>=2\r\n"
      ],
      "execution_count": 63,
      "outputs": [
        {
          "output_type": "execute_result",
          "data": {
            "text/plain": [
              "True"
            ]
          },
          "metadata": {
            "tags": []
          },
          "execution_count": 63
        }
      ]
    },
    {
      "cell_type": "code",
      "metadata": {
        "colab": {
          "base_uri": "https://localhost:8080/"
        },
        "id": "F9EWyN75dRy1",
        "outputId": "ed375477-67c5-4042-a347-19645d882d8c"
      },
      "source": [
        "10<=2\r\n"
      ],
      "execution_count": 64,
      "outputs": [
        {
          "output_type": "execute_result",
          "data": {
            "text/plain": [
              "False"
            ]
          },
          "metadata": {
            "tags": []
          },
          "execution_count": 64
        }
      ]
    },
    {
      "cell_type": "code",
      "metadata": {
        "colab": {
          "base_uri": "https://localhost:8080/"
        },
        "id": "18Ph-obqdeHN",
        "outputId": "28466077-19ad-4c6e-cbb5-d8b509bbda5a"
      },
      "source": [
        "10%4"
      ],
      "execution_count": 65,
      "outputs": [
        {
          "output_type": "execute_result",
          "data": {
            "text/plain": [
              "2"
            ]
          },
          "metadata": {
            "tags": []
          },
          "execution_count": 65
        }
      ]
    },
    {
      "cell_type": "code",
      "metadata": {
        "colab": {
          "base_uri": "https://localhost:8080/"
        },
        "id": "ZJA5lNbUdgZP",
        "outputId": "d4060ace-c92a-4f1a-e60d-fb391c2af8e8"
      },
      "source": [
        "10 ==2"
      ],
      "execution_count": 66,
      "outputs": [
        {
          "output_type": "execute_result",
          "data": {
            "text/plain": [
              "False"
            ]
          },
          "metadata": {
            "tags": []
          },
          "execution_count": 66
        }
      ]
    },
    {
      "cell_type": "code",
      "metadata": {
        "colab": {
          "base_uri": "https://localhost:8080/"
        },
        "id": "vFVKsNhDdlhN",
        "outputId": "827a21b3-1a7a-4f44-fe85-d44583b7d8ef"
      },
      "source": [
        "10!=2\r\n"
      ],
      "execution_count": 67,
      "outputs": [
        {
          "output_type": "execute_result",
          "data": {
            "text/plain": [
              "True"
            ]
          },
          "metadata": {
            "tags": []
          },
          "execution_count": 67
        }
      ]
    },
    {
      "cell_type": "code",
      "metadata": {
        "colab": {
          "base_uri": "https://localhost:8080/"
        },
        "id": "3AS6SUuQduw1",
        "outputId": "424aea1f-8e9c-4257-8023-57b1dc994929"
      },
      "source": [
        "10%2==1"
      ],
      "execution_count": 68,
      "outputs": [
        {
          "output_type": "execute_result",
          "data": {
            "text/plain": [
              "False"
            ]
          },
          "metadata": {
            "tags": []
          },
          "execution_count": 68
        }
      ]
    },
    {
      "cell_type": "code",
      "metadata": {
        "colab": {
          "base_uri": "https://localhost:8080/"
        },
        "id": "TSoGz6POd6QG",
        "outputId": "4ca23950-f20a-4cdb-e352-9b0e9c065391"
      },
      "source": [
        "1 == 1 and 2!=1"
      ],
      "execution_count": 70,
      "outputs": [
        {
          "output_type": "execute_result",
          "data": {
            "text/plain": [
              "True"
            ]
          },
          "metadata": {
            "tags": []
          },
          "execution_count": 70
        }
      ]
    },
    {
      "cell_type": "code",
      "metadata": {
        "colab": {
          "base_uri": "https://localhost:8080/"
        },
        "id": "2jHgcYW_eW_W",
        "outputId": "c5cfa8ea-0168-4efb-f068-4a3eef3db5ac"
      },
      "source": [
        "10>5 or 10==5\r\n"
      ],
      "execution_count": 72,
      "outputs": [
        {
          "output_type": "execute_result",
          "data": {
            "text/plain": [
              "True"
            ]
          },
          "metadata": {
            "tags": []
          },
          "execution_count": 72
        }
      ]
    },
    {
      "cell_type": "code",
      "metadata": {
        "colab": {
          "base_uri": "https://localhost:8080/"
        },
        "id": "7YGTDjymeipR",
        "outputId": "d8ce43d5-478b-4aea-f2a0-8956f377d32c"
      },
      "source": [
        "not 10>5"
      ],
      "execution_count": 73,
      "outputs": [
        {
          "output_type": "execute_result",
          "data": {
            "text/plain": [
              "False"
            ]
          },
          "metadata": {
            "tags": []
          },
          "execution_count": 73
        }
      ]
    },
    {
      "cell_type": "code",
      "metadata": {
        "colab": {
          "base_uri": "https://localhost:8080/"
        },
        "id": "LzmRgPEHevR3",
        "outputId": "e1ff287f-f24c-4d2d-f2d2-2065fcfbbe79"
      },
      "source": [
        "print('머야,,,왜이리 많아')\r\n"
      ],
      "execution_count": 76,
      "outputs": [
        {
          "output_type": "stream",
          "text": [
            "머야,,,왜이리 많아\n"
          ],
          "name": "stdout"
        }
      ]
    },
    {
      "cell_type": "code",
      "metadata": {
        "id": "TYF-A0UKe9f4"
      },
      "source": [
        ""
      ],
      "execution_count": null,
      "outputs": []
    }
  ]
}