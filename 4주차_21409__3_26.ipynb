{
  "nbformat": 4,
  "nbformat_minor": 0,
  "metadata": {
    "colab": {
      "name": "4주차 21409_ 3.26",
      "provenance": [],
      "collapsed_sections": [],
      "authorship_tag": "ABX9TyMylFm8s7kiUme9bJ47kzbW",
      "include_colab_link": true
    },
    "kernelspec": {
      "name": "python3",
      "display_name": "Python 3"
    }
  },
  "cells": [
    {
      "cell_type": "markdown",
      "metadata": {
        "id": "view-in-github",
        "colab_type": "text"
      },
      "source": [
        "<a href=\"https://colab.research.google.com/github/bmt21409/bmt_pyson/blob/main/4%EC%A3%BC%EC%B0%A8_21409__3_26.ipynb\" target=\"_parent\"><img src=\"https://colab.research.google.com/assets/colab-badge.svg\" alt=\"Open In Colab\"/></a>"
      ]
    },
    {
      "cell_type": "code",
      "metadata": {
        "colab": {
          "base_uri": "https://localhost:8080/"
        },
        "id": "RQkBxRa4McIa",
        "outputId": "bcffb2a1-0873-4590-f985-a8cf50bec1fe"
      },
      "source": [
        "print('Hello', end = ' ') # end 속성\n",
        "print('World'*3)"
      ],
      "execution_count": 15,
      "outputs": [
        {
          "output_type": "stream",
          "text": [
            "Hello WorldWorldWorld\n"
          ],
          "name": "stdout"
        }
      ]
    },
    {
      "cell_type": "code",
      "metadata": {
        "colab": {
          "base_uri": "https://localhost:8080/"
        },
        "id": "3MAdQpt3O2YO",
        "outputId": "fdc7819d-4f01-4408-b537-6e18063e5f4f"
      },
      "source": [
        "print('hellow,word','qntks')\n",
        "print('hello'+'Word')"
      ],
      "execution_count": 14,
      "outputs": [
        {
          "output_type": "stream",
          "text": [
            "hellow,word qntks\n",
            "helloWord\n"
          ],
          "name": "stdout"
        }
      ]
    },
    {
      "cell_type": "code",
      "metadata": {
        "colab": {
          "base_uri": "https://localhost:8080/"
        },
        "id": "_-7-uSlwQXOW",
        "outputId": "1859b4a8-d986-473b-84f4-a35b8d89f509"
      },
      "source": [
        "print('Hello\\'')"
      ],
      "execution_count": 21,
      "outputs": [
        {
          "output_type": "stream",
          "text": [
            "Hello'\n"
          ],
          "name": "stdout"
        }
      ]
    },
    {
      "cell_type": "code",
      "metadata": {
        "colab": {
          "base_uri": "https://localhost:8080/"
        },
        "id": "zyuOTYZTRW0u",
        "outputId": "0560ab0e-1185-422e-dda8-836cb668e3e2"
      },
      "source": [
        "x = input('x 입력 : ')\n",
        "y = input('y 입력 : ')"
      ],
      "execution_count": 22,
      "outputs": [
        {
          "output_type": "stream",
          "text": [
            "x 입력 : 20\n",
            "y 입력 : 20\n"
          ],
          "name": "stdout"
        }
      ]
    },
    {
      "cell_type": "code",
      "metadata": {
        "colab": {
          "base_uri": "https://localhost:8080/"
        },
        "id": "IbP-WQeTSj7y",
        "outputId": "5e610ef8-3d97-413b-809f-6cb988c4b91b"
      },
      "source": [
        "x = input('x 입력 : ')\n",
        "y = input('y 입력 : ')"
      ],
      "execution_count": 23,
      "outputs": [
        {
          "output_type": "stream",
          "text": [
            "x 입력 : 1\n",
            "y 입력 : 231\n"
          ],
          "name": "stdout"
        }
      ]
    },
    {
      "cell_type": "code",
      "metadata": {
        "colab": {
          "base_uri": "https://localhost:8080/"
        },
        "id": "BtJCKzSDTS_y",
        "outputId": "83024c35-f4c3-4378-8ae0-389f53cb0df2"
      },
      "source": [
        "x = input('x 입력 : ')\n",
        "y = input('y 입력 : ')\n"
      ],
      "execution_count": 24,
      "outputs": [
        {
          "output_type": "stream",
          "text": [
            "x 입력 : 1\n",
            "y 입력 : 15434\n"
          ],
          "name": "stdout"
        }
      ]
    },
    {
      "cell_type": "code",
      "metadata": {
        "colab": {
          "base_uri": "https://localhost:8080/"
        },
        "id": "EntXwRXYTYHS",
        "outputId": "d678be42-a624-4bb0-f1a3-536919a90a18"
      },
      "source": [
        "x = int(input('x 입력 : '))\n",
        "y = float(input('y 입력 : '))\n",
        "\n",
        "print(f'{x} + {y} = {x+y}')"
      ],
      "execution_count": 25,
      "outputs": [
        {
          "output_type": "stream",
          "text": [
            "x 입력 : 45\n",
            "y 입력 : 5\n",
            "45 + 5.0 = 50.0\n"
          ],
          "name": "stdout"
        }
      ]
    },
    {
      "cell_type": "code",
      "metadata": {
        "colab": {
          "base_uri": "https://localhost:8080/"
        },
        "id": "zgmUpGxNTciy",
        "outputId": "5fba7fee-5445-48f7-dbe4-69d954df9373"
      },
      "source": [
        "x = int(input('첫 번째 정수 입력 : '))\n",
        "y = int(input('첫 번째 정수 입력 : '))\n",
        "\n",
        "print(x, '+', y, '=', (x + y))\n",
        "print(x, '-', y, '=', (x - y))\n",
        "print(x, 'x', y, '=', (x * y))\n",
        "print(x, '/', y, '=', (x / y))\n"
      ],
      "execution_count": 28,
      "outputs": [
        {
          "output_type": "stream",
          "text": [
            "첫 번째 정수 입력 : 4156\n",
            "첫 번째 정수 입력 : 3514\n",
            "4156 + 3514 = 7670\n",
            "4156 - 3514 = 642\n",
            "4156 x 3514 = 14604184\n",
            "4156 / 3514 = 1.182697780307342\n"
          ],
          "name": "stdout"
        }
      ]
    },
    {
      "cell_type": "code",
      "metadata": {
        "colab": {
          "base_uri": "https://localhost:8080/"
        },
        "id": "GD1zgQPVTgwS",
        "outputId": "0fd6d07c-c8b4-416e-b0eb-cf57541880cc"
      },
      "source": [
        "weight = int(input('weight(kg) : '))\n",
        "height = int(input('height(cm) : '))\n",
        "\n",
        "BMI = weight /  ( height/100)**2\n",
        "\n",
        "print(f'BMI : {BMI:.2f}')\n"
      ],
      "execution_count": 34,
      "outputs": [
        {
          "output_type": "stream",
          "text": [
            "weight(kg) : 44\n",
            "height(cm) : 165\n",
            "BMI : 16.16\n"
          ],
          "name": "stdout"
        }
      ]
    },
    {
      "cell_type": "code",
      "metadata": {
        "colab": {
          "base_uri": "https://localhost:8080/"
        },
        "id": "ewgUZqNKUsuC",
        "outputId": "583d54eb-5cdb-4431-bf23-f2921cf995d2"
      },
      "source": [
        "print('ExchangeRate Calc : $ - \\ ')\n",
        "ExchangeRate = float(input(' 1$ ExchangeRate : '))\n",
        "KRW = int(input('KRW : '))"
      ],
      "execution_count": 37,
      "outputs": [
        {
          "output_type": "stream",
          "text": [
            "ExchangeRate Calc : $ - \\ \n",
            " 1$ ExchangeRate : 0.84\n",
            "KRW : 100000\n"
          ],
          "name": "stdout"
        }
      ]
    },
    {
      "cell_type": "code",
      "metadata": {
        "colab": {
          "base_uri": "https://localhost:8080/"
        },
        "id": "9x0vF6q1Vkon",
        "outputId": "e3d009b1-07b5-44ba-a8fa-49a2ec273f8c"
      },
      "source": [
        "celsius = float(input('Celsius : '))\n",
        "\n",
        "fahrenheit = (celsius * 1.8) + 32\n",
        "\n",
        "print(f'Fahrenheit : {fahrenheit}')"
      ],
      "execution_count": 38,
      "outputs": [
        {
          "output_type": "stream",
          "text": [
            "Celsius : 123\n",
            "Fahrenheit : 253.4\n"
          ],
          "name": "stdout"
        }
      ]
    },
    {
      "cell_type": "code",
      "metadata": {
        "colab": {
          "base_uri": "https://localhost:8080/"
        },
        "id": "RdICEvFcXAWo",
        "outputId": "09a3cd03-f364-4e0e-fbb9-296daf71c5ff"
      },
      "source": [
        "x = 'hello python'\n",
        "len(x)"
      ],
      "execution_count": 42,
      "outputs": [
        {
          "output_type": "execute_result",
          "data": {
            "text/plain": [
              "12"
            ]
          },
          "metadata": {
            "tags": []
          },
          "execution_count": 42
        }
      ]
    },
    {
      "cell_type": "code",
      "metadata": {
        "colab": {
          "base_uri": "https://localhost:8080/"
        },
        "id": "O8vCEQs-anyj",
        "outputId": "df445d2c-d76c-4366-8c37-9c77c1d3222b"
      },
      "source": [
        "x.count('K')\n"
      ],
      "execution_count": 50,
      "outputs": [
        {
          "output_type": "execute_result",
          "data": {
            "text/plain": [
              "0"
            ]
          },
          "metadata": {
            "tags": []
          },
          "execution_count": 50
        }
      ]
    },
    {
      "cell_type": "code",
      "metadata": {
        "colab": {
          "base_uri": "https://localhost:8080/"
        },
        "id": "-fhqabPqbe7T",
        "outputId": "663e1666-31c9-46e4-986c-01954a1ccfac"
      },
      "source": [
        "x.find('j')"
      ],
      "execution_count": 52,
      "outputs": [
        {
          "output_type": "execute_result",
          "data": {
            "text/plain": [
              "-1"
            ]
          },
          "metadata": {
            "tags": []
          },
          "execution_count": 52
        }
      ]
    },
    {
      "cell_type": "code",
      "metadata": {
        "colab": {
          "base_uri": "https://localhost:8080/"
        },
        "id": "RkF1Q7Mqb93j",
        "outputId": "44d1b39d-f5c9-4968-d619-63e13f56c18c"
      },
      "source": [
        "\n",
        "\n",
        "\n",
        "x = 'Hello Python'\n",
        "\n",
        "x.index(\"Python\")\n",
        "print(f'x.index(\"Python\") : {x.index(\"Python\")}')"
      ],
      "execution_count": 56,
      "outputs": [
        {
          "output_type": "stream",
          "text": [
            "x.index(\"Python\") : 6\n"
          ],
          "name": "stdout"
        }
      ]
    },
    {
      "cell_type": "code",
      "metadata": {
        "colab": {
          "base_uri": "https://localhost:8080/",
          "height": 36
        },
        "id": "hEkWKFD7cgqD",
        "outputId": "9bc4ee23-d5a5-4348-a3a1-9e2fcb5b9afa"
      },
      "source": [
        "x [6:]"
      ],
      "execution_count": 58,
      "outputs": [
        {
          "output_type": "execute_result",
          "data": {
            "application/vnd.google.colaboratory.intrinsic+json": {
              "type": "string"
            },
            "text/plain": [
              "'Python'"
            ]
          },
          "metadata": {
            "tags": []
          },
          "execution_count": 58
        }
      ]
    },
    {
      "cell_type": "code",
      "metadata": {
        "colab": {
          "base_uri": "https://localhost:8080/"
        },
        "id": "HpEXJkvvcx00",
        "outputId": "109b1f74-ea53-4984-e67b-167ba13e1c7a"
      },
      "source": [
        "x = 'Hello Python'\n",
        "\n",
        "z = '-'.join(x)\n",
        "print(z)\n"
      ],
      "execution_count": 59,
      "outputs": [
        {
          "output_type": "stream",
          "text": [
            "H-e-l-l-o- -P-y-t-h-o-n\n"
          ],
          "name": "stdout"
        }
      ]
    },
    {
      "cell_type": "code",
      "metadata": {
        "colab": {
          "base_uri": "https://localhost:8080/",
          "height": 36
        },
        "id": "zWFefzl1c8i0",
        "outputId": "addfcdd8-6045-4700-ff14-9a5a31f67894"
      },
      "source": [
        "x.upper()"
      ],
      "execution_count": 60,
      "outputs": [
        {
          "output_type": "execute_result",
          "data": {
            "application/vnd.google.colaboratory.intrinsic+json": {
              "type": "string"
            },
            "text/plain": [
              "'HELLO PYTHON'"
            ]
          },
          "metadata": {
            "tags": []
          },
          "execution_count": 60
        }
      ]
    },
    {
      "cell_type": "code",
      "metadata": {
        "colab": {
          "base_uri": "https://localhost:8080/",
          "height": 36
        },
        "id": "fJdtMg3RdC70",
        "outputId": "586eb682-3434-43fc-b30e-a26829d16fa4"
      },
      "source": [
        "x"
      ],
      "execution_count": 61,
      "outputs": [
        {
          "output_type": "execute_result",
          "data": {
            "application/vnd.google.colaboratory.intrinsic+json": {
              "type": "string"
            },
            "text/plain": [
              "'Hello Python'"
            ]
          },
          "metadata": {
            "tags": []
          },
          "execution_count": 61
        }
      ]
    },
    {
      "cell_type": "code",
      "metadata": {
        "colab": {
          "base_uri": "https://localhost:8080/",
          "height": 36
        },
        "id": "RErW8fiFdETj",
        "outputId": "66a3a4e4-eac9-4196-a43e-c46bd75c5c89"
      },
      "source": [
        "x.lower()"
      ],
      "execution_count": 63,
      "outputs": [
        {
          "output_type": "execute_result",
          "data": {
            "application/vnd.google.colaboratory.intrinsic+json": {
              "type": "string"
            },
            "text/plain": [
              "'hello python'"
            ]
          },
          "metadata": {
            "tags": []
          },
          "execution_count": 63
        }
      ]
    },
    {
      "cell_type": "code",
      "metadata": {
        "colab": {
          "base_uri": "https://localhost:8080/",
          "height": 36
        },
        "id": "uot5k2_PdFnU",
        "outputId": "b2b2738d-a595-4199-c910-b1a16bcd25d2"
      },
      "source": [
        "x.replace(\"P\", \"★\")"
      ],
      "execution_count": 67,
      "outputs": [
        {
          "output_type": "execute_result",
          "data": {
            "application/vnd.google.colaboratory.intrinsic+json": {
              "type": "string"
            },
            "text/plain": [
              "'Hello ★ython'"
            ]
          },
          "metadata": {
            "tags": []
          },
          "execution_count": 67
        }
      ]
    },
    {
      "cell_type": "code",
      "metadata": {
        "id": "AV-xYlVydS2k"
      },
      "source": [
        "y = '-'.join(x)"
      ],
      "execution_count": 68,
      "outputs": []
    },
    {
      "cell_type": "code",
      "metadata": {
        "colab": {
          "base_uri": "https://localhost:8080/"
        },
        "id": "sMYaHmFSdyXE",
        "outputId": "00475c55-1205-4ec3-f943-9cc38af69e74"
      },
      "source": [
        "\n",
        "y.split(\"-\")"
      ],
      "execution_count": 69,
      "outputs": [
        {
          "output_type": "execute_result",
          "data": {
            "text/plain": [
              "['H', 'e', 'l', 'l', 'o', ' ', 'P', 'y', 't', 'h', 'o', 'n']"
            ]
          },
          "metadata": {
            "tags": []
          },
          "execution_count": 69
        }
      ]
    },
    {
      "cell_type": "code",
      "metadata": {
        "colab": {
          "base_uri": "https://localhost:8080/"
        },
        "id": "7VtmTe9Rd2Xk",
        "outputId": "436137a3-3b2f-4b78-bd83-2017c8bd39bf"
      },
      "source": [
        "corona = '''\n",
        "코로나(corona)는 라틴말로 왕관을 뜻하며 통상 태양을 둘러싼 외곽의 빛(광환)을 지칭한다.\n",
        "코로나 바이러스라는 이름은 전자현미경으로 이 바이러스를 관찰했을 때 마치 코로나와 유사한 모양을 띠어 붙여진 이름이다.\n",
        "이번에 중국의 우환에서 시작된 코로나 바이러스는 2019년에 발견된 새로운 코로나 바이러스라는 뜻으로 2019-nCov로 붙여졌다.\n",
        "nCov는 novel(새로운) Cov(코로나 바이러스)라는 뜻이다.\n",
        "'''\n",
        "\n",
        "print('-'*1)"
      ],
      "execution_count": 73,
      "outputs": [
        {
          "output_type": "stream",
          "text": [
            "-\n"
          ],
          "name": "stdout"
        }
      ]
    },
    {
      "cell_type": "code",
      "metadata": {
        "colab": {
          "base_uri": "https://localhost:8080/"
        },
        "id": "crZt82FoegCU",
        "outputId": "67ca1435-a0e7-4133-d6f6-5db8d3fac1ba"
      },
      "source": [
        "sentence = corona.count('.')  \n",
        "print(f'{sentence} 개의 문장으로 이루어짐')\n",
        "print(corona.replace('\\n','').split('.'))"
      ],
      "execution_count": 76,
      "outputs": [
        {
          "output_type": "stream",
          "text": [
            "4 개의 문장으로 이루어짐\n",
            "['코로나(corona)는 라틴말로 왕관을 뜻하며 통상 태양을 둘러싼 외곽의 빛(광환)을 지칭한다', '코로나 바이러스라는 이름은 전자현미경으로 이 바이러스를 관찰했을 때 마치 코로나와 유사한 모양을 띠어 붙여진 이름이다', '이번에 중국의 우환에서 시작된 코로나 바이러스는 2019년에 발견된 새로운 코로나 바이러스라는 뜻으로 2019-nCov로 붙여졌다', 'nCov는 novel(새로운) Cov(코로나 바이러스)라는 뜻이다', '']\n"
          ],
          "name": "stdout"
        }
      ]
    },
    {
      "cell_type": "code",
      "metadata": {
        "colab": {
          "base_uri": "https://localhost:8080/",
          "height": 176
        },
        "id": "ETwxugekfEYV",
        "outputId": "c42b3aef-0ad2-43c2-98e7-ddcb82c84f0e"
      },
      "source": [
        "replace"
      ],
      "execution_count": 77,
      "outputs": [
        {
          "output_type": "error",
          "ename": "NameError",
          "evalue": "ignored",
          "traceback": [
            "\u001b[0;31m---------------------------------------------------------------------------\u001b[0m",
            "\u001b[0;31mNameError\u001b[0m                                 Traceback (most recent call last)",
            "\u001b[0;32m<ipython-input-77-87c2b45ce2a3>\u001b[0m in \u001b[0;36m<module>\u001b[0;34m()\u001b[0m\n\u001b[0;32m----> 1\u001b[0;31m \u001b[0mreplace\u001b[0m\u001b[0;34m\u001b[0m\u001b[0;34m\u001b[0m\u001b[0m\n\u001b[0m",
            "\u001b[0;31mNameError\u001b[0m: name 'replace' is not defined"
          ]
        }
      ]
    },
    {
      "cell_type": "code",
      "metadata": {
        "colab": {
          "base_uri": "https://localhost:8080/"
        },
        "id": "42RwGN5Hfanz",
        "outputId": "18625964-4153-4ae0-fb73-fef3c567efbe"
      },
      "source": [
        "str = input('찾으려는 단어를 입력하시요 : ')\n",
        "cnt = corona.count(str)\n",
        "print(f\"'{str}'(은/는) {cnt} 번 언급됨\")"
      ],
      "execution_count": 82,
      "outputs": [
        {
          "output_type": "stream",
          "text": [
            "찾으려는 단어를 입력하시요 : 왕관\n",
            "'왕관'(은/는) 1 번 언급됨\n"
          ],
          "name": "stdout"
        }
      ]
    },
    {
      "cell_type": "code",
      "metadata": {
        "id": "bQTbimSMf71U"
      },
      "source": [
        "anysong = '''\n",
        "왜들 그리 다운돼있어? 뭐가 문제야 say something\n",
        "분위기가 겁나 싸해 요새는 이런 게 유행인가\n",
        "왜들 그리 재미없어? 아 그건 나도 마찬가지\n",
        "Tell me what I got to do 급한 대로 블루투스 켜\n",
        "아무 노래나 일단 틀어 아무거나 신나는 걸로\n",
        "아무렇게나 춤춰 아무렇지 않아 보이게\n",
        "아무 생각 하기 싫어 아무개로 살래 잠시\n",
        "I'm sick and tired of my every day, keep it up 한 곡 더\n",
        "아무 노래나 일단 틀어 아무렴 어때 it's so boring\n",
        "아무래도 refresh가 시급한 듯해 쌓여가 스트레스가\n",
        "배꼽 빠질 만큼만 폭소하고 싶은 날이야\n",
        "What up my dawgs? 어디야 너희 올 때 병맥주랑 까까 몇 개 사 와 uh\n",
        "클럽은 구미가 잘 안 당겨 우리 집 거실로 빨랑 모여\n",
        "외부인은 요령껏 차단 시켜 밤새 수다 떨 시간도 모자라\n",
        "누군 힘들어 죽겠고 누군 축제 괜히 싱숭생숭 I want my youth back\n",
        "좀 전까지 왁자지껄 하다 한 명 두 명씩 자릴 떠\n",
        "왜들 그리 다운돼있어? 뭐가 문제야 say something\n",
        "분위기가 겁나 싸해 요새는 이런 게 유행인가\n",
        "왜들 그리 재미없어? 아 그건 나도 마찬가지\n",
        "Tell me what I got to do 급한 대로 블루투스 켜\n",
        "아무 노래나 일단 틀어 아무거나 신나는 걸로\n",
        "아무렇게나 춤춰 아무렇지 않아 보이게\n",
        "아무 생각 하기 싫어 아무개로 살래 잠시\n",
        "I'm sick and tired of my every day, keep it up 한 곡 더\n",
        "떠나질 못할 바엔\n",
        "창밖은 쳐다도 안 봐\n",
        "회까닥해서 추태를 부려도\n",
        "No worries at all 이미지 왜 챙겨 그래 봤자 우리끼린데\n",
        "Ooh 늦기 전에 막판 스퍼트 20대가 얼마 안 남았어\n",
        "편한 옷으로 갈아입어 you look nice, get 'em high\n",
        "얼핏 보면 그냥 코미디 이렇게 무해한 파티 처음이지?\n",
        "만감이 교차하는 새벽 2시경 술잔과 감정이 소용돌이쳐\n",
        "왜들 그리 다운돼있어? 뭐가 문제야 say something\n",
        "분위기가 겁나 싸해 요새는 이런 게 유행인가\n",
        "왜들 그리 재미없어? 아 그건 나도 마찬가지\n",
        "Tell me what I got to do 급한 대로 블루투스 켜\n",
        "아무 노래나 일단 틀어 아무거나 신나는 걸로\n",
        "아무렇게나 춤춰 아무렇지 않아 보이게\n",
        "아무 생각 하기 싫어 아무개로 살래 잠시\n",
        "I'm sick and tired of my every day, keep it up 한 곡 더\n",
        "아무 노래나 일단\n",
        "La-la-la, la-la-la, la-la-la-la\n",
        "La-la-la, la-la-la, la-la-la-la (You ain't gonna get a day like this)\n",
        "아무 노래 아무 노래 아무 노래나 틀어봐\n",
        "아무 노래 아무 노래 아무 노래나 틀어봐 (Yeah)\n",
        "아무 노래 (ooh) 아무 노래 아무 노래나 틀어봐\n",
        "아무 노래 아무 노래 아무 노래나 KOZ\n",
        "'''\n",
        "\n",
        "\n",
        "\n",
        "\n",
        "\n",
        "\n",
        "\n"
      ],
      "execution_count": null,
      "outputs": []
    },
    {
      "cell_type": "code",
      "metadata": {
        "id": "zKy8NcgMZ8T6",
        "colab": {
          "base_uri": "https://localhost:8080/"
        },
        "outputId": "831b23df-d02f-4d5e-ab68-da6f2d997946"
      },
      "source": [
        "# 지코의 아무노래 가사\n",
        "\n",
        "anysong = '''\n",
        "왜들 그리 다운돼있어? 뭐가 문제야 say something\n",
        "분위기가 겁나 싸해 요새는 이런 게 유행인가\n",
        "왜들 그리 재미없어? 아 그건 나도 마찬가지\n",
        "Tell me what I got to do 급한 대로 블루투스 켜\n",
        "아무 노래나 일단 틀어 아무거나 신나는 걸로\n",
        "아무렇게나 춤춰 아무렇지 않아 보이게\n",
        "아무 생각 하기 싫어 아무개로 살래 잠시\n",
        "I'm sick and tired of my every day, keep it up 한 곡 더\n",
        "아무 노래나 일단 틀어 아무렴 어때 it's so boring\n",
        "아무래도 refresh가 시급한 듯해 쌓여가 스트레스가\n",
        "배꼽 빠질 만큼만 폭소하고 싶은 날이야\n",
        "What up my dawgs? 어디야 너희 올 때 병맥주랑 까까 몇 개 사 와 uh\n",
        "클럽은 구미가 잘 안 당겨 우리 집 거실로 빨랑 모여\n",
        "외부인은 요령껏 차단 시켜 밤새 수다 떨 시간도 모자라\n",
        "누군 힘들어 죽겠고 누군 축제 괜히 싱숭생숭 I want my youth back\n",
        "좀 전까지 왁자지껄 하다 한 명 두 명씩 자릴 떠\n",
        "왜들 그리 다운돼있어? 뭐가 문제야 say something\n",
        "분위기가 겁나 싸해 요새는 이런 게 유행인가\n",
        "왜들 그리 재미없어? 아 그건 나도 마찬가지\n",
        "Tell me what I got to do 급한 대로 블루투스 켜\n",
        "아무 노래나 일단 틀어 아무거나 신나는 걸로\n",
        "아무렇게나 춤춰 아무렇지 않아 보이게\n",
        "아무 생각 하기 싫어 아무개로 살래 잠시\n",
        "I'm sick and tired of my every day, keep it up 한 곡 더\n",
        "떠나질 못할 바엔\n",
        "창밖은 쳐다도 안 봐\n",
        "회까닥해서 추태를 부려도\n",
        "No worries at all 이미지 왜 챙겨 그래 봤자 우리끼린데\n",
        "Ooh 늦기 전에 막판 스퍼트 20대가 얼마 안 남았어\n",
        "편한 옷으로 갈아입어 you look nice, get 'em high\n",
        "얼핏 보면 그냥 코미디 이렇게 무해한 파티 처음이지?\n",
        "만감이 교차하는 새벽 2시경 술잔과 감정이 소용돌이쳐\n",
        "왜들 그리 다운돼있어? 뭐가 문제야 say something\n",
        "분위기가 겁나 싸해 요새는 이런 게 유행인가\n",
        "왜들 그리 재미없어? 아 그건 나도 마찬가지\n",
        "Tell me what I got to do 급한 대로 블루투스 켜\n",
        "아무 노래나 일단 틀어 아무거나 신나는 걸로\n",
        "아무렇게나 춤춰 아무렇지 않아 보이게\n",
        "아무 생각 하기 싫어 아무개로 살래 잠시\n",
        "I'm sick and tired of my every day, keep it up 한 곡 더\n",
        "아무 노래나 일단\n",
        "La-la-la, la-la-la, la-la-la-la\n",
        "La-la-la, la-la-la, la-la-la-la (You ain't gonna get a day like this)\n",
        "아무 노래 아무 노래 아무 노래나 틀어봐\n",
        "아무 노래 아무 노래 아무 노래나 틀어봐 (Yeah)\n",
        "아무 노래 (ooh) 아무 노래 아무 노래나 틀어봐\n",
        "아무 노래 아무 노래 아무 노래나 KOZ\n",
        "'''\n",
        "\n",
        "song = anysong.count('\\n')\n",
        "print(f'{song-1} 개의 문장으로 이루어짐')\n",
        "\n",
        "print(anysong.replace('\\n', ', ').split('\\n'))\n",
        "print('-'*50)\n",
        "\n",
        "str = input('찾으려는 단어를 입력하세요 : ')\n",
        "cnt = anysong.count(str)\n",
        "print(f\"'{str}'(은/는) {cnt} 번 언급됨.\")"
      ],
      "execution_count": 83,
      "outputs": [
        {
          "output_type": "stream",
          "text": [
            "47 개의 문장으로 이루어짐\n",
            "[\", 왜들 그리 다운돼있어? 뭐가 문제야 say something, 분위기가 겁나 싸해 요새는 이런 게 유행인가, 왜들 그리 재미없어? 아 그건 나도 마찬가지, Tell me what I got to do 급한 대로 블루투스 켜, 아무 노래나 일단 틀어 아무거나 신나는 걸로, 아무렇게나 춤춰 아무렇지 않아 보이게, 아무 생각 하기 싫어 아무개로 살래 잠시, I'm sick and tired of my every day, keep it up 한 곡 더, 아무 노래나 일단 틀어 아무렴 어때 it's so boring, 아무래도 refresh가 시급한 듯해 쌓여가 스트레스가, 배꼽 빠질 만큼만 폭소하고 싶은 날이야, What up my dawgs? 어디야 너희 올 때 병맥주랑 까까 몇 개 사 와 uh, 클럽은 구미가 잘 안 당겨 우리 집 거실로 빨랑 모여, 외부인은 요령껏 차단 시켜 밤새 수다 떨 시간도 모자라, 누군 힘들어 죽겠고 누군 축제 괜히 싱숭생숭 I want my youth back, 좀 전까지 왁자지껄 하다 한 명 두 명씩 자릴 떠, 왜들 그리 다운돼있어? 뭐가 문제야 say something, 분위기가 겁나 싸해 요새는 이런 게 유행인가, 왜들 그리 재미없어? 아 그건 나도 마찬가지, Tell me what I got to do 급한 대로 블루투스 켜, 아무 노래나 일단 틀어 아무거나 신나는 걸로, 아무렇게나 춤춰 아무렇지 않아 보이게, 아무 생각 하기 싫어 아무개로 살래 잠시, I'm sick and tired of my every day, keep it up 한 곡 더, 떠나질 못할 바엔, 창밖은 쳐다도 안 봐, 회까닥해서 추태를 부려도, No worries at all 이미지 왜 챙겨 그래 봤자 우리끼린데, Ooh 늦기 전에 막판 스퍼트 20대가 얼마 안 남았어, 편한 옷으로 갈아입어 you look nice, get 'em high, 얼핏 보면 그냥 코미디 이렇게 무해한 파티 처음이지?, 만감이 교차하는 새벽 2시경 술잔과 감정이 소용돌이쳐, 왜들 그리 다운돼있어? 뭐가 문제야 say something, 분위기가 겁나 싸해 요새는 이런 게 유행인가, 왜들 그리 재미없어? 아 그건 나도 마찬가지, Tell me what I got to do 급한 대로 블루투스 켜, 아무 노래나 일단 틀어 아무거나 신나는 걸로, 아무렇게나 춤춰 아무렇지 않아 보이게, 아무 생각 하기 싫어 아무개로 살래 잠시, I'm sick and tired of my every day, keep it up 한 곡 더, 아무 노래나 일단, La-la-la, la-la-la, la-la-la-la, La-la-la, la-la-la, la-la-la-la (You ain't gonna get a day like this), 아무 노래 아무 노래 아무 노래나 틀어봐, 아무 노래 아무 노래 아무 노래나 틀어봐 (Yeah), 아무 노래 (ooh) 아무 노래 아무 노래나 틀어봐, 아무 노래 아무 노래 아무 노래나 KOZ, \"]\n",
            "--------------------------------------------------\n",
            "찾으려는 단어를 입력하세요 : 아무\n",
            "'아무'(은/는) 34 번 언급됨.\n"
          ],
          "name": "stdout"
        }
      ]
    },
    {
      "cell_type": "code",
      "metadata": {
        "colab": {
          "base_uri": "https://localhost:8080/"
        },
        "id": "DQZDlQ1Pgz-c",
        "outputId": "a6ba82e6-80e5-4070-de73-ecb955a36198"
      },
      "source": [
        "lst = []\n",
        "print(lst)\n",
        "\n",
        "lst = list()\n",
        "print(lst)\n",
        "\n",
        "lst = [10, 20, 30]\n",
        "print(lst)"
      ],
      "execution_count": 84,
      "outputs": [
        {
          "output_type": "stream",
          "text": [
            "[]\n",
            "[]\n",
            "[10, 20, 30]\n"
          ],
          "name": "stdout"
        }
      ]
    },
    {
      "cell_type": "code",
      "metadata": {
        "colab": {
          "base_uri": "https://localhost:8080/"
        },
        "id": "GsoLETPYgz48",
        "outputId": "57c9213a-cb8e-4a65-f940-fb80630d4391"
      },
      "source": [
        "\n",
        "lst = [10, 20, 30]\n",
        "\n",
        "print(f'lst[0] : {lst[0]}')   \n",
        "print(f'lst[-1] : {lst[-1]}')"
      ],
      "execution_count": 85,
      "outputs": [
        {
          "output_type": "stream",
          "text": [
            "lst[0] : 10\n",
            "lst[-1] : 30\n"
          ],
          "name": "stdout"
        }
      ]
    },
    {
      "cell_type": "code",
      "metadata": {
        "colab": {
          "base_uri": "https://localhost:8080/"
        },
        "id": "bndreHKKiFiM",
        "outputId": "2b4ce29a-cda3-4c1f-bf92-65b504f460f7"
      },
      "source": [
        "lst = [10, 20, 30]\n",
        "\n",
        "print(lst[:2]) "
      ],
      "execution_count": 86,
      "outputs": [
        {
          "output_type": "stream",
          "text": [
            "[10, 20]\n"
          ],
          "name": "stdout"
        }
      ]
    },
    {
      "cell_type": "code",
      "metadata": {
        "colab": {
          "base_uri": "https://localhost:8080/"
        },
        "id": "Id23UDS6iNrk",
        "outputId": "26851a2e-e0ed-48f3-e681-a9a745bfb5e7"
      },
      "source": [
        "lst1 = [10, 20]\n",
        "lst2 = [100, 200]\n",
        "\n",
        "lst1 + lst2\n",
        "\n",
        "lst2 * 3"
      ],
      "execution_count": 89,
      "outputs": [
        {
          "output_type": "execute_result",
          "data": {
            "text/plain": [
              "[100, 200, 100, 200, 100, 200]"
            ]
          },
          "metadata": {
            "tags": []
          },
          "execution_count": 89
        }
      ]
    },
    {
      "cell_type": "code",
      "metadata": {
        "id": "YN57R_q5ivjo"
      },
      "source": [
        ""
      ],
      "execution_count": null,
      "outputs": []
    },
    {
      "cell_type": "code",
      "metadata": {
        "id": "f_gLBsLsiYnV"
      },
      "source": [
        "lst = ['a', 'b', 'c']\n",
        "\n",
        "lst.append('d')"
      ],
      "execution_count": 92,
      "outputs": []
    },
    {
      "cell_type": "code",
      "metadata": {
        "colab": {
          "base_uri": "https://localhost:8080/"
        },
        "id": "eHYhppRMi_g-",
        "outputId": "50019236-01af-497a-9055-6c51ca0d1d7f"
      },
      "source": [
        "print(lst.pop())\n",
        "print(lst)"
      ],
      "execution_count": 94,
      "outputs": [
        {
          "output_type": "stream",
          "text": [
            "c\n",
            "['a', 'b']\n"
          ],
          "name": "stdout"
        }
      ]
    },
    {
      "cell_type": "code",
      "metadata": {
        "id": "96icHnBoi_1l"
      },
      "source": [
        "lst = ['a', 'b', 'c']"
      ],
      "execution_count": 95,
      "outputs": []
    },
    {
      "cell_type": "code",
      "metadata": {
        "id": "wE9ORY8OjGBV"
      },
      "source": [
        "\n",
        "lst[0] = 'e'"
      ],
      "execution_count": 96,
      "outputs": []
    },
    {
      "cell_type": "code",
      "metadata": {
        "colab": {
          "base_uri": "https://localhost:8080/",
          "height": 36
        },
        "id": "LnIpjMKkjJQV",
        "outputId": "2bc4a409-766b-4b91-8779-2a88341b02d1"
      },
      "source": [
        "lst[2]"
      ],
      "execution_count": 97,
      "outputs": [
        {
          "output_type": "execute_result",
          "data": {
            "application/vnd.google.colaboratory.intrinsic+json": {
              "type": "string"
            },
            "text/plain": [
              "'c'"
            ]
          },
          "metadata": {
            "tags": []
          },
          "execution_count": 97
        }
      ]
    },
    {
      "cell_type": "code",
      "metadata": {
        "colab": {
          "base_uri": "https://localhost:8080/"
        },
        "id": "XJzsh1mSjgt2",
        "outputId": "031e2581-d1d3-4581-b70d-4d0463886a08"
      },
      "source": [
        "lst.count"
      ],
      "execution_count": 98,
      "outputs": [
        {
          "output_type": "execute_result",
          "data": {
            "text/plain": [
              "<function list.count>"
            ]
          },
          "metadata": {
            "tags": []
          },
          "execution_count": 98
        }
      ]
    },
    {
      "cell_type": "code",
      "metadata": {
        "colab": {
          "base_uri": "https://localhost:8080/",
          "height": 176
        },
        "id": "XoWMcMS2jlYF",
        "outputId": "fdfc0c7e-60f4-4658-e690-b8c99b76456e"
      },
      "source": [
        "lst.count['a']"
      ],
      "execution_count": 100,
      "outputs": [
        {
          "output_type": "error",
          "ename": "TypeError",
          "evalue": "ignored",
          "traceback": [
            "\u001b[0;31m---------------------------------------------------------------------------\u001b[0m",
            "\u001b[0;31mTypeError\u001b[0m                                 Traceback (most recent call last)",
            "\u001b[0;32m<ipython-input-100-c51787e0dbeb>\u001b[0m in \u001b[0;36m<module>\u001b[0;34m()\u001b[0m\n\u001b[0;32m----> 1\u001b[0;31m \u001b[0mlst\u001b[0m\u001b[0;34m.\u001b[0m\u001b[0mcount\u001b[0m\u001b[0;34m[\u001b[0m\u001b[0;34m'a'\u001b[0m\u001b[0;34m]\u001b[0m\u001b[0;34m\u001b[0m\u001b[0;34m\u001b[0m\u001b[0m\n\u001b[0m",
            "\u001b[0;31mTypeError\u001b[0m: 'builtin_function_or_method' object is not subscriptable"
          ]
        }
      ]
    },
    {
      "cell_type": "code",
      "metadata": {
        "colab": {
          "base_uri": "https://localhost:8080/",
          "height": 176
        },
        "id": "b4o3mY04jrNl",
        "outputId": "4c391869-6514-4809-de8c-551bca124137"
      },
      "source": [
        "lst.pop['a']"
      ],
      "execution_count": 101,
      "outputs": [
        {
          "output_type": "error",
          "ename": "TypeError",
          "evalue": "ignored",
          "traceback": [
            "\u001b[0;31m---------------------------------------------------------------------------\u001b[0m",
            "\u001b[0;31mTypeError\u001b[0m                                 Traceback (most recent call last)",
            "\u001b[0;32m<ipython-input-101-e6c1f6cbc4ef>\u001b[0m in \u001b[0;36m<module>\u001b[0;34m()\u001b[0m\n\u001b[0;32m----> 1\u001b[0;31m \u001b[0mlst\u001b[0m\u001b[0;34m.\u001b[0m\u001b[0mpop\u001b[0m\u001b[0;34m[\u001b[0m\u001b[0;34m'a'\u001b[0m\u001b[0;34m]\u001b[0m\u001b[0;34m\u001b[0m\u001b[0;34m\u001b[0m\u001b[0m\n\u001b[0m",
            "\u001b[0;31mTypeError\u001b[0m: 'builtin_function_or_method' object is not subscriptable"
          ]
        }
      ]
    },
    {
      "cell_type": "code",
      "metadata": {
        "colab": {
          "base_uri": "https://localhost:8080/"
        },
        "id": "KooOcJ7Ej2Vl",
        "outputId": "269dd149-f25f-4a24-8435-650c1cf41c0b"
      },
      "source": [
        "lst"
      ],
      "execution_count": 102,
      "outputs": [
        {
          "output_type": "execute_result",
          "data": {
            "text/plain": [
              "['e', 'b', 'c']"
            ]
          },
          "metadata": {
            "tags": []
          },
          "execution_count": 102
        }
      ]
    },
    {
      "cell_type": "code",
      "metadata": {
        "colab": {
          "base_uri": "https://localhost:8080/"
        },
        "id": "WxbtCQP8j4-V",
        "outputId": "7acec3d2-22d0-4173-9be2-6dee6e5cc0f1"
      },
      "source": [
        "lst.sort"
      ],
      "execution_count": 103,
      "outputs": [
        {
          "output_type": "execute_result",
          "data": {
            "text/plain": [
              "<function list.sort>"
            ]
          },
          "metadata": {
            "tags": []
          },
          "execution_count": 103
        }
      ]
    },
    {
      "cell_type": "code",
      "metadata": {
        "id": "JlC1pJNyj8ql"
      },
      "source": [
        "lst.sort(reverse=True)"
      ],
      "execution_count": 105,
      "outputs": []
    },
    {
      "cell_type": "code",
      "metadata": {
        "colab": {
          "base_uri": "https://localhost:8080/"
        },
        "id": "93i2WH8CkWYW",
        "outputId": "a4b6e0ac-f0c8-46d5-abd7-a84fdd9138f8"
      },
      "source": [
        "lst.reverse"
      ],
      "execution_count": 106,
      "outputs": [
        {
          "output_type": "execute_result",
          "data": {
            "text/plain": [
              "<function list.reverse>"
            ]
          },
          "metadata": {
            "tags": []
          },
          "execution_count": 106
        }
      ]
    },
    {
      "cell_type": "code",
      "metadata": {
        "id": "41ah-GibkeFm"
      },
      "source": [
        ""
      ],
      "execution_count": null,
      "outputs": []
    }
  ]
}