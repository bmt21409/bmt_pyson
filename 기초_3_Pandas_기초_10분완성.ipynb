{
  "nbformat": 4,
  "nbformat_minor": 0,
  "metadata": {
    "colab": {
      "name": "기초_3_Pandas_기초_10분완성.ipynb",
      "provenance": [],
      "collapsed_sections": [],
      "include_colab_link": true
    },
    "kernelspec": {
      "name": "python3",
      "display_name": "Python 3"
    }
  },
  "cells": [
    {
      "cell_type": "markdown",
      "metadata": {
        "id": "view-in-github",
        "colab_type": "text"
      },
      "source": [
        "<a href=\"https://colab.research.google.com/github/bmt21409/bmt_pyson/blob/main/%EA%B8%B0%EC%B4%88_3_Pandas_%EA%B8%B0%EC%B4%88_10%EB%B6%84%EC%99%84%EC%84%B1.ipynb\" target=\"_parent\"><img src=\"https://colab.research.google.com/assets/colab-badge.svg\" alt=\"Open In Colab\"/></a>"
      ]
    },
    {
      "cell_type": "markdown",
      "metadata": {
        "id": "njJmaZNFcb8-"
      },
      "source": [
        "https://pandas.pydata.org/pandas-docs/stable/user_guide/10min.html\n",
        "\n",
        "https://dataitgirls2.github.io/10minutes2pandas/\n",
        "\n"
      ]
    },
    {
      "cell_type": "markdown",
      "metadata": {
        "id": "-xZ708EXcvkf"
      },
      "source": [
        "이 소개서는 주로 신규 사용자를 대상으로 한 판다스에 대한 간략한 소개로, 아래와 같이 구성되어 있습니다. 더 자세한 방법은 Cookbook에서 볼 수 있습니다.\n",
        "\n",
        "1. Object Creation (객체 생성)\n",
        "2. Viewing Data (데이터 확인하기)\n",
        "3. Selection (선택)\n",
        "4. Missing Data (결측치)\n",
        "5. Operation (연산)\n",
        "6. Merge (병합)\n",
        "7. Grouping (그룹화)\n",
        "8. Reshaping (변형)\n",
        "9. Time Series (시계열)\n",
        "10. Categoricals (범주화)\n",
        "11. Plotting (그래프)\n",
        "12. Getting Data In / Out (데이터 입 / 출력)\n",
        "13. Gotchas (잡았다!)"
      ]
    },
    {
      "cell_type": "code",
      "metadata": {
        "id": "0cBb4aPIcMHF"
      },
      "source": [
        "# 일반적으로 각 패키지는 별칭으로 pd, np, plt라는 이름으로 불림\n",
        "\n",
        "import pandas as pd\n",
        "import numpy as np\n",
        "import matplotlib.pyplot as plt"
      ],
      "execution_count": null,
      "outputs": []
    },
    {
      "cell_type": "markdown",
      "metadata": {
        "id": "KjKxf_70dUCX"
      },
      "source": [
        "# 1. Object Creation (객체 생성)\n",
        "\n"
      ]
    },
    {
      "cell_type": "markdown",
      "metadata": {
        "id": "BelKN0qQdnna"
      },
      "source": [
        "- Pandas는 값을 가지고 있는 리스트를 통해 Series를 생성\n",
        "- 정수로 만들어진 인덱스를 기본값으로 함"
      ]
    },
    {
      "cell_type": "code",
      "metadata": {
        "id": "sPPe5aDVdNbi",
        "colab": {
          "base_uri": "https://localhost:8080/"
        },
        "outputId": "7facd97b-bd8e-4e91-8a39-911c24a393a4"
      },
      "source": [
        "# Pandas Series 객체 생성\n",
        "\n",
        "import pandas as pd\n",
        "import numpy as np\n",
        "\n",
        "s = pd.Series([1, 3, 5, np.nan, 6, 8]) # Series 생성. 참고 np.nan : 결측값(NaN:Not a Number) => 연산 과정에서 잘못된 입력을 받았음을 나타내는 기호\n",
        "\n",
        "print(type(s))\n",
        "print(s)"
      ],
      "execution_count": null,
      "outputs": [
        {
          "output_type": "stream",
          "text": [
            "<class 'pandas.core.series.Series'>\n",
            "0    1.0\n",
            "1    3.0\n",
            "2    5.0\n",
            "3    NaN\n",
            "4    6.0\n",
            "5    8.0\n",
            "dtype: float64\n"
          ],
          "name": "stdout"
        }
      ]
    },
    {
      "cell_type": "code",
      "metadata": {
        "id": "87f2eySYe2ma",
        "colab": {
          "base_uri": "https://localhost:8080/",
          "height": 436
        },
        "outputId": "8d239dc0-9d27-4060-dcca-44e37b017281"
      },
      "source": [
        "# datetime 인덱스와 레이블이 있는 열을 가지고 있는 numpy 배열을 전달하여\n",
        "# 데이터 프레임을 생성\n",
        "\n",
        "import pandas as pd\n",
        "import numpy as np\n",
        "\n",
        "dates = pd.date_range('20201113', periods=6)\n",
        "\n",
        "print(type(dates))\n",
        "print(dates)\n",
        "\n",
        "df = pd.DataFrame(np.random.randn(6,4), index=dates, columns=list('ABCD')) \n",
        "# pd.DataFrame([행과열의 들어갈 값들], 행 항목, 열 항목)\n",
        "\n",
        "print(type(df))\n",
        "print(df)\n",
        "df"
      ],
      "execution_count": null,
      "outputs": [
        {
          "output_type": "stream",
          "text": [
            "<class 'pandas.core.indexes.datetimes.DatetimeIndex'>\n",
            "DatetimeIndex(['2020-11-13', '2020-11-14', '2020-11-15', '2020-11-16',\n",
            "               '2020-11-17', '2020-11-18'],\n",
            "              dtype='datetime64[ns]', freq='D')\n",
            "<class 'pandas.core.frame.DataFrame'>\n",
            "                   A         B         C         D\n",
            "2020-11-13  0.268523  0.356389 -1.523347  0.552270\n",
            "2020-11-14 -0.630892  0.263820  1.495064 -0.032100\n",
            "2020-11-15 -1.208034 -1.885922 -0.981330 -0.483862\n",
            "2020-11-16 -0.476255  1.166172  1.955714 -0.729861\n",
            "2020-11-17 -2.056026  0.047875 -1.099017  2.248116\n",
            "2020-11-18 -0.590017 -1.467363  0.213626  0.191021\n"
          ],
          "name": "stdout"
        },
        {
          "output_type": "execute_result",
          "data": {
            "text/html": [
              "<div>\n",
              "<style scoped>\n",
              "    .dataframe tbody tr th:only-of-type {\n",
              "        vertical-align: middle;\n",
              "    }\n",
              "\n",
              "    .dataframe tbody tr th {\n",
              "        vertical-align: top;\n",
              "    }\n",
              "\n",
              "    .dataframe thead th {\n",
              "        text-align: right;\n",
              "    }\n",
              "</style>\n",
              "<table border=\"1\" class=\"dataframe\">\n",
              "  <thead>\n",
              "    <tr style=\"text-align: right;\">\n",
              "      <th></th>\n",
              "      <th>A</th>\n",
              "      <th>B</th>\n",
              "      <th>C</th>\n",
              "      <th>D</th>\n",
              "    </tr>\n",
              "  </thead>\n",
              "  <tbody>\n",
              "    <tr>\n",
              "      <th>2020-11-13</th>\n",
              "      <td>0.268523</td>\n",
              "      <td>0.356389</td>\n",
              "      <td>-1.523347</td>\n",
              "      <td>0.552270</td>\n",
              "    </tr>\n",
              "    <tr>\n",
              "      <th>2020-11-14</th>\n",
              "      <td>-0.630892</td>\n",
              "      <td>0.263820</td>\n",
              "      <td>1.495064</td>\n",
              "      <td>-0.032100</td>\n",
              "    </tr>\n",
              "    <tr>\n",
              "      <th>2020-11-15</th>\n",
              "      <td>-1.208034</td>\n",
              "      <td>-1.885922</td>\n",
              "      <td>-0.981330</td>\n",
              "      <td>-0.483862</td>\n",
              "    </tr>\n",
              "    <tr>\n",
              "      <th>2020-11-16</th>\n",
              "      <td>-0.476255</td>\n",
              "      <td>1.166172</td>\n",
              "      <td>1.955714</td>\n",
              "      <td>-0.729861</td>\n",
              "    </tr>\n",
              "    <tr>\n",
              "      <th>2020-11-17</th>\n",
              "      <td>-2.056026</td>\n",
              "      <td>0.047875</td>\n",
              "      <td>-1.099017</td>\n",
              "      <td>2.248116</td>\n",
              "    </tr>\n",
              "    <tr>\n",
              "      <th>2020-11-18</th>\n",
              "      <td>-0.590017</td>\n",
              "      <td>-1.467363</td>\n",
              "      <td>0.213626</td>\n",
              "      <td>0.191021</td>\n",
              "    </tr>\n",
              "  </tbody>\n",
              "</table>\n",
              "</div>"
            ],
            "text/plain": [
              "                   A         B         C         D\n",
              "2020-11-13  0.268523  0.356389 -1.523347  0.552270\n",
              "2020-11-14 -0.630892  0.263820  1.495064 -0.032100\n",
              "2020-11-15 -1.208034 -1.885922 -0.981330 -0.483862\n",
              "2020-11-16 -0.476255  1.166172  1.955714 -0.729861\n",
              "2020-11-17 -2.056026  0.047875 -1.099017  2.248116\n",
              "2020-11-18 -0.590017 -1.467363  0.213626  0.191021"
            ]
          },
          "metadata": {
            "tags": []
          },
          "execution_count": 13
        }
      ]
    },
    {
      "cell_type": "code",
      "metadata": {
        "id": "G-O_1QlHf_Ax",
        "colab": {
          "base_uri": "https://localhost:8080/"
        },
        "outputId": "86cbc7fd-5d81-4ec7-d42b-77d0456cdb6c"
      },
      "source": [
        "# Series와 같은 것으로 변환될 수 있는 객체들의 dict로 구성된 \n",
        "# 데이터 프레임을 생성\n",
        "\n",
        "import pandas as pd\n",
        "import numpy as np\n",
        "\n",
        "df2 = pd.DataFrame(\n",
        "    {\n",
        "        'A': 1.,\n",
        "        'B': pd.Timestamp('20201113'),\n",
        "        'C': pd.Series(1, index=list(range(4)), dtype='float32'),\n",
        "        'D': np.array([3] * 4, dtype='int32'),\n",
        "        'E': pd.Categorical([\"test\", \"train\", \"test\", \"train\"]),\n",
        "        'F': 'foo'\n",
        "     }\n",
        ")\n",
        "\n",
        "print(type(df2))\n",
        "print(df2)\n",
        "df2\n",
        "\n",
        "# dict 데이터 구조에서 Key 값은 열 항목으로, index 행 항목은 자동으로 0~3까지 정수로 부여됨. \n",
        "# dict 데이터 구조에서 Value 값은 데이터프레임의 값으로 됨.\n",
        "print()\n",
        "df2.dtypes"
      ],
      "execution_count": null,
      "outputs": [
        {
          "output_type": "stream",
          "text": [
            "<class 'pandas.core.frame.DataFrame'>\n",
            "     A          B    C  D      E    F\n",
            "0  1.0 2020-11-13  1.0  3   test  foo\n",
            "1  1.0 2020-11-13  1.0  3  train  foo\n",
            "2  1.0 2020-11-13  1.0  3   test  foo\n",
            "3  1.0 2020-11-13  1.0  3  train  foo\n",
            "\n"
          ],
          "name": "stdout"
        },
        {
          "output_type": "execute_result",
          "data": {
            "text/plain": [
              "A           float64\n",
              "B    datetime64[ns]\n",
              "C           float32\n",
              "D             int32\n",
              "E          category\n",
              "F            object\n",
              "dtype: object"
            ]
          },
          "metadata": {
            "tags": []
          },
          "execution_count": 23
        }
      ]
    },
    {
      "cell_type": "markdown",
      "metadata": {
        "id": "NUmvpCKR9toc"
      },
      "source": [
        "# 2. Viewing Data (데이터 확인하기)"
      ]
    },
    {
      "cell_type": "markdown",
      "metadata": {
        "id": "NKFT_fJM9ypV"
      },
      "source": [
        "- 데이터프레임의 가장 윗 줄과 마지막 줄을 확인하고 싶을 때 사용.\n",
        "- 데이터프레임.head() 함수 \n",
        "- 데이터프레임.tail() 함수"
      ]
    },
    {
      "cell_type": "code",
      "metadata": {
        "id": "CqXQGNv3-Ldm",
        "colab": {
          "base_uri": "https://localhost:8080/",
          "height": 266
        },
        "outputId": "87105b98-b632-4d08-c990-0e2e2ce3b255"
      },
      "source": [
        "import pandas as pd\n",
        "import numpy as np\n",
        "\n",
        "dates = pd.date_range('20201113', periods=6)\n",
        "\n",
        "df = pd.DataFrame(np.random.randn(6,4), index=dates, columns=list('ABCD')) \n",
        "\n",
        "print(df.tail(3)) # 끝에서 마지막 3줄을 불러옴\n",
        "df.tail() # 끝에서 마지막 5줄을 불러옴"
      ],
      "execution_count": null,
      "outputs": [
        {
          "output_type": "stream",
          "text": [
            "                   A         B         C         D\n",
            "2020-11-16  1.003228  0.771687  2.336133 -0.223925\n",
            "2020-11-17  0.129916 -1.724314  0.538916  1.484290\n",
            "2020-11-18  0.021172 -0.782444 -1.483161  0.414338\n"
          ],
          "name": "stdout"
        },
        {
          "output_type": "execute_result",
          "data": {
            "text/html": [
              "<div>\n",
              "<style scoped>\n",
              "    .dataframe tbody tr th:only-of-type {\n",
              "        vertical-align: middle;\n",
              "    }\n",
              "\n",
              "    .dataframe tbody tr th {\n",
              "        vertical-align: top;\n",
              "    }\n",
              "\n",
              "    .dataframe thead th {\n",
              "        text-align: right;\n",
              "    }\n",
              "</style>\n",
              "<table border=\"1\" class=\"dataframe\">\n",
              "  <thead>\n",
              "    <tr style=\"text-align: right;\">\n",
              "      <th></th>\n",
              "      <th>A</th>\n",
              "      <th>B</th>\n",
              "      <th>C</th>\n",
              "      <th>D</th>\n",
              "    </tr>\n",
              "  </thead>\n",
              "  <tbody>\n",
              "    <tr>\n",
              "      <th>2020-11-14</th>\n",
              "      <td>-1.380241</td>\n",
              "      <td>-0.976657</td>\n",
              "      <td>0.309068</td>\n",
              "      <td>-0.621859</td>\n",
              "    </tr>\n",
              "    <tr>\n",
              "      <th>2020-11-15</th>\n",
              "      <td>-1.352981</td>\n",
              "      <td>-0.106456</td>\n",
              "      <td>-0.086486</td>\n",
              "      <td>-0.717491</td>\n",
              "    </tr>\n",
              "    <tr>\n",
              "      <th>2020-11-16</th>\n",
              "      <td>1.003228</td>\n",
              "      <td>0.771687</td>\n",
              "      <td>2.336133</td>\n",
              "      <td>-0.223925</td>\n",
              "    </tr>\n",
              "    <tr>\n",
              "      <th>2020-11-17</th>\n",
              "      <td>0.129916</td>\n",
              "      <td>-1.724314</td>\n",
              "      <td>0.538916</td>\n",
              "      <td>1.484290</td>\n",
              "    </tr>\n",
              "    <tr>\n",
              "      <th>2020-11-18</th>\n",
              "      <td>0.021172</td>\n",
              "      <td>-0.782444</td>\n",
              "      <td>-1.483161</td>\n",
              "      <td>0.414338</td>\n",
              "    </tr>\n",
              "  </tbody>\n",
              "</table>\n",
              "</div>"
            ],
            "text/plain": [
              "                   A         B         C         D\n",
              "2020-11-14 -1.380241 -0.976657  0.309068 -0.621859\n",
              "2020-11-15 -1.352981 -0.106456 -0.086486 -0.717491\n",
              "2020-11-16  1.003228  0.771687  2.336133 -0.223925\n",
              "2020-11-17  0.129916 -1.724314  0.538916  1.484290\n",
              "2020-11-18  0.021172 -0.782444 -1.483161  0.414338"
            ]
          },
          "metadata": {
            "tags": []
          },
          "execution_count": 26
        }
      ]
    },
    {
      "cell_type": "code",
      "metadata": {
        "id": "dg7LXeSU-UVB",
        "colab": {
          "base_uri": "https://localhost:8080/",
          "height": 266
        },
        "outputId": "009734e1-8d56-4a08-baff-26756fd1e4b7"
      },
      "source": [
        "import pandas as pd\n",
        "import numpy as np\n",
        "\n",
        "dates = pd.date_range('20201113', periods=6)\n",
        "\n",
        "df = pd.DataFrame(np.random.randn(6,4), index=dates, columns=list('ABCD')) \n",
        "\n",
        "print(df.head(3)) # 처음부터 3줄을 불러옴\n",
        "df.head() # 처음부터 5줄을 불러옴"
      ],
      "execution_count": null,
      "outputs": [
        {
          "output_type": "stream",
          "text": [
            "                   A         B         C         D\n",
            "2020-11-13  0.911708 -1.462781 -2.574687  1.012942\n",
            "2020-11-14  1.174627 -0.063288  1.131090  0.386902\n",
            "2020-11-15 -1.514504  0.439706 -2.316951 -0.044734\n"
          ],
          "name": "stdout"
        },
        {
          "output_type": "execute_result",
          "data": {
            "text/html": [
              "<div>\n",
              "<style scoped>\n",
              "    .dataframe tbody tr th:only-of-type {\n",
              "        vertical-align: middle;\n",
              "    }\n",
              "\n",
              "    .dataframe tbody tr th {\n",
              "        vertical-align: top;\n",
              "    }\n",
              "\n",
              "    .dataframe thead th {\n",
              "        text-align: right;\n",
              "    }\n",
              "</style>\n",
              "<table border=\"1\" class=\"dataframe\">\n",
              "  <thead>\n",
              "    <tr style=\"text-align: right;\">\n",
              "      <th></th>\n",
              "      <th>A</th>\n",
              "      <th>B</th>\n",
              "      <th>C</th>\n",
              "      <th>D</th>\n",
              "    </tr>\n",
              "  </thead>\n",
              "  <tbody>\n",
              "    <tr>\n",
              "      <th>2020-11-13</th>\n",
              "      <td>0.911708</td>\n",
              "      <td>-1.462781</td>\n",
              "      <td>-2.574687</td>\n",
              "      <td>1.012942</td>\n",
              "    </tr>\n",
              "    <tr>\n",
              "      <th>2020-11-14</th>\n",
              "      <td>1.174627</td>\n",
              "      <td>-0.063288</td>\n",
              "      <td>1.131090</td>\n",
              "      <td>0.386902</td>\n",
              "    </tr>\n",
              "    <tr>\n",
              "      <th>2020-11-15</th>\n",
              "      <td>-1.514504</td>\n",
              "      <td>0.439706</td>\n",
              "      <td>-2.316951</td>\n",
              "      <td>-0.044734</td>\n",
              "    </tr>\n",
              "    <tr>\n",
              "      <th>2020-11-16</th>\n",
              "      <td>1.411989</td>\n",
              "      <td>1.085219</td>\n",
              "      <td>-0.018230</td>\n",
              "      <td>1.065869</td>\n",
              "    </tr>\n",
              "    <tr>\n",
              "      <th>2020-11-17</th>\n",
              "      <td>-0.637639</td>\n",
              "      <td>2.093197</td>\n",
              "      <td>0.405150</td>\n",
              "      <td>-0.127914</td>\n",
              "    </tr>\n",
              "  </tbody>\n",
              "</table>\n",
              "</div>"
            ],
            "text/plain": [
              "                   A         B         C         D\n",
              "2020-11-13  0.911708 -1.462781 -2.574687  1.012942\n",
              "2020-11-14  1.174627 -0.063288  1.131090  0.386902\n",
              "2020-11-15 -1.514504  0.439706 -2.316951 -0.044734\n",
              "2020-11-16  1.411989  1.085219 -0.018230  1.065869\n",
              "2020-11-17 -0.637639  2.093197  0.405150 -0.127914"
            ]
          },
          "metadata": {
            "tags": []
          },
          "execution_count": 28
        }
      ]
    },
    {
      "cell_type": "code",
      "metadata": {
        "id": "Mhypar2S_cUz",
        "colab": {
          "base_uri": "https://localhost:8080/",
          "height": 1000
        },
        "outputId": "360bbcae-6118-42de-cee3-e18619a04e30"
      },
      "source": [
        "# 인덱스(index), 열(column), 그리고 값(numpy 데이터) 및 세부정보 보기\n",
        "\n",
        "import pandas as pd\n",
        "import numpy as np\n",
        "\n",
        "dates = pd.date_range('20201113', periods=6)\n",
        "\n",
        "df = pd.DataFrame(np.random.randn(6,4), index=dates, columns=list('ABCD')) \n",
        "\n",
        "print(df.index) # 인덱스 보기\n",
        "print(df.columns) # 열(항목) 보기\n",
        "print()\n",
        "print(df.values) # 값 보기\n",
        "print()\n",
        "print(df.describe()) # 데이터의 대략적인 통계적 정보 요약\n",
        "print()\n",
        "print(df)\n",
        "print()\n",
        "print(df.T) # 데이터를 전치\n",
        "print()\n",
        "print(df.sort_index(axis=1, ascending=True)) # 축 별로 정렬 : False(오름차순), True(내림차순)-default\n",
        "print(df.sort_index(axis=1, ascending=False))\n",
        "print()\n",
        "print(df.sort_values(by='B')) # 값 별로 정렬\n",
        "df.sort_values(by='B')"
      ],
      "execution_count": null,
      "outputs": [
        {
          "output_type": "stream",
          "text": [
            "DatetimeIndex(['2020-11-13', '2020-11-14', '2020-11-15', '2020-11-16',\n",
            "               '2020-11-17', '2020-11-18'],\n",
            "              dtype='datetime64[ns]', freq='D')\n",
            "Index(['A', 'B', 'C', 'D'], dtype='object')\n",
            "\n",
            "[[-0.71435558 -1.02794348  0.04849866  0.39770856]\n",
            " [ 0.69870726 -0.84612964 -0.26452067 -0.91861936]\n",
            " [-1.42533206 -1.3830938  -0.42084878 -1.32913186]\n",
            " [ 0.54661564 -0.14140463 -0.05641197  0.60249799]\n",
            " [ 1.06719919 -0.03245234 -0.90841943  0.19756194]\n",
            " [ 1.99241113  0.29696158 -1.68509104 -1.03490525]]\n",
            "\n",
            "              A         B         C         D\n",
            "count  6.000000  6.000000  6.000000  6.000000\n",
            "mean   0.360874 -0.522344 -0.547799 -0.347481\n",
            "std    1.237424  0.656921  0.650673  0.838717\n",
            "min   -1.425332 -1.383094 -1.685091 -1.329132\n",
            "25%   -0.399113 -0.982490 -0.786527 -1.005834\n",
            "50%    0.622661 -0.493767 -0.342685 -0.360529\n",
            "75%    0.975076 -0.059690 -0.108439  0.347672\n",
            "max    1.992411  0.296962  0.048499  0.602498\n",
            "\n",
            "                   A         B         C         D\n",
            "2020-11-13 -0.714356 -1.027943  0.048499  0.397709\n",
            "2020-11-14  0.698707 -0.846130 -0.264521 -0.918619\n",
            "2020-11-15 -1.425332 -1.383094 -0.420849 -1.329132\n",
            "2020-11-16  0.546616 -0.141405 -0.056412  0.602498\n",
            "2020-11-17  1.067199 -0.032452 -0.908419  0.197562\n",
            "2020-11-18  1.992411  0.296962 -1.685091 -1.034905\n",
            "\n",
            "   2020-11-13  2020-11-14  2020-11-15  2020-11-16  2020-11-17  2020-11-18\n",
            "A   -0.714356    0.698707   -1.425332    0.546616    1.067199    1.992411\n",
            "B   -1.027943   -0.846130   -1.383094   -0.141405   -0.032452    0.296962\n",
            "C    0.048499   -0.264521   -0.420849   -0.056412   -0.908419   -1.685091\n",
            "D    0.397709   -0.918619   -1.329132    0.602498    0.197562   -1.034905\n",
            "\n",
            "                   A         B         C         D\n",
            "2020-11-13 -0.714356 -1.027943  0.048499  0.397709\n",
            "2020-11-14  0.698707 -0.846130 -0.264521 -0.918619\n",
            "2020-11-15 -1.425332 -1.383094 -0.420849 -1.329132\n",
            "2020-11-16  0.546616 -0.141405 -0.056412  0.602498\n",
            "2020-11-17  1.067199 -0.032452 -0.908419  0.197562\n",
            "2020-11-18  1.992411  0.296962 -1.685091 -1.034905\n",
            "                   D         C         B         A\n",
            "2020-11-13  0.397709  0.048499 -1.027943 -0.714356\n",
            "2020-11-14 -0.918619 -0.264521 -0.846130  0.698707\n",
            "2020-11-15 -1.329132 -0.420849 -1.383094 -1.425332\n",
            "2020-11-16  0.602498 -0.056412 -0.141405  0.546616\n",
            "2020-11-17  0.197562 -0.908419 -0.032452  1.067199\n",
            "2020-11-18 -1.034905 -1.685091  0.296962  1.992411\n",
            "\n",
            "                   A         B         C         D\n",
            "2020-11-15 -1.425332 -1.383094 -0.420849 -1.329132\n",
            "2020-11-13 -0.714356 -1.027943  0.048499  0.397709\n",
            "2020-11-14  0.698707 -0.846130 -0.264521 -0.918619\n",
            "2020-11-16  0.546616 -0.141405 -0.056412  0.602498\n",
            "2020-11-17  1.067199 -0.032452 -0.908419  0.197562\n",
            "2020-11-18  1.992411  0.296962 -1.685091 -1.034905\n"
          ],
          "name": "stdout"
        },
        {
          "output_type": "execute_result",
          "data": {
            "text/html": [
              "<div>\n",
              "<style scoped>\n",
              "    .dataframe tbody tr th:only-of-type {\n",
              "        vertical-align: middle;\n",
              "    }\n",
              "\n",
              "    .dataframe tbody tr th {\n",
              "        vertical-align: top;\n",
              "    }\n",
              "\n",
              "    .dataframe thead th {\n",
              "        text-align: right;\n",
              "    }\n",
              "</style>\n",
              "<table border=\"1\" class=\"dataframe\">\n",
              "  <thead>\n",
              "    <tr style=\"text-align: right;\">\n",
              "      <th></th>\n",
              "      <th>A</th>\n",
              "      <th>B</th>\n",
              "      <th>C</th>\n",
              "      <th>D</th>\n",
              "    </tr>\n",
              "  </thead>\n",
              "  <tbody>\n",
              "    <tr>\n",
              "      <th>2020-11-15</th>\n",
              "      <td>-1.425332</td>\n",
              "      <td>-1.383094</td>\n",
              "      <td>-0.420849</td>\n",
              "      <td>-1.329132</td>\n",
              "    </tr>\n",
              "    <tr>\n",
              "      <th>2020-11-13</th>\n",
              "      <td>-0.714356</td>\n",
              "      <td>-1.027943</td>\n",
              "      <td>0.048499</td>\n",
              "      <td>0.397709</td>\n",
              "    </tr>\n",
              "    <tr>\n",
              "      <th>2020-11-14</th>\n",
              "      <td>0.698707</td>\n",
              "      <td>-0.846130</td>\n",
              "      <td>-0.264521</td>\n",
              "      <td>-0.918619</td>\n",
              "    </tr>\n",
              "    <tr>\n",
              "      <th>2020-11-16</th>\n",
              "      <td>0.546616</td>\n",
              "      <td>-0.141405</td>\n",
              "      <td>-0.056412</td>\n",
              "      <td>0.602498</td>\n",
              "    </tr>\n",
              "    <tr>\n",
              "      <th>2020-11-17</th>\n",
              "      <td>1.067199</td>\n",
              "      <td>-0.032452</td>\n",
              "      <td>-0.908419</td>\n",
              "      <td>0.197562</td>\n",
              "    </tr>\n",
              "    <tr>\n",
              "      <th>2020-11-18</th>\n",
              "      <td>1.992411</td>\n",
              "      <td>0.296962</td>\n",
              "      <td>-1.685091</td>\n",
              "      <td>-1.034905</td>\n",
              "    </tr>\n",
              "  </tbody>\n",
              "</table>\n",
              "</div>"
            ],
            "text/plain": [
              "                   A         B         C         D\n",
              "2020-11-15 -1.425332 -1.383094 -0.420849 -1.329132\n",
              "2020-11-13 -0.714356 -1.027943  0.048499  0.397709\n",
              "2020-11-14  0.698707 -0.846130 -0.264521 -0.918619\n",
              "2020-11-16  0.546616 -0.141405 -0.056412  0.602498\n",
              "2020-11-17  1.067199 -0.032452 -0.908419  0.197562\n",
              "2020-11-18  1.992411  0.296962 -1.685091 -1.034905"
            ]
          },
          "metadata": {
            "tags": []
          },
          "execution_count": 44
        }
      ]
    },
    {
      "cell_type": "markdown",
      "metadata": {
        "id": "vJgK40YEEng-"
      },
      "source": [
        "# 3. Selection (선택)"
      ]
    },
    {
      "cell_type": "markdown",
      "metadata": {
        "id": "hOqLckslEsqh"
      },
      "source": [
        "- 선택과 설정을 위한 Python/Numpy의 표준화된 표현들이 직관적이며 코드 작성을 위한 양방향 작업에 유용\n",
        "- 하지만 Pandas에 최적화된 데이터 접근 방법 사용 : .at, .iat, .loc, .iloc 사용"
      ]
    },
    {
      "cell_type": "code",
      "metadata": {
        "id": "7lJlFZ0CAEdr",
        "colab": {
          "base_uri": "https://localhost:8080/"
        },
        "outputId": "183da6e5-ad94-45c4-ba96-37112aa47e31"
      },
      "source": [
        "# Getting (데이터 얻기)\n",
        "\n",
        "import pandas as pd\n",
        "import numpy as np\n",
        "\n",
        "dates = pd.date_range('20201113', periods=6)\n",
        "\n",
        "df = pd.DataFrame(np.random.randn(6,4), index=dates, columns=list('ABCD')) \n",
        "\n",
        "print(df);print()\n",
        "print(df['A']);print() # df.A와 동일한 Series를 생성하는 단일 열을 선택\n",
        "print(df[0:3]);print() # 행을 분할하는 []를 통해 선택\n",
        "print(df['20201114':'20201116']) "
      ],
      "execution_count": null,
      "outputs": [
        {
          "output_type": "stream",
          "text": [
            "                   A         B         C         D\n",
            "2020-11-13 -1.918101 -0.575459 -0.297129  0.809044\n",
            "2020-11-14 -0.304621  1.659247  2.287605 -0.648461\n",
            "2020-11-15  0.985661  0.457760  1.396212  0.908758\n",
            "2020-11-16  0.918592 -0.699243 -0.883105 -0.121630\n",
            "2020-11-17 -0.167518  0.667178  0.954304  1.342123\n",
            "2020-11-18 -0.401958 -0.122435  0.019574 -0.748325\n",
            "\n",
            "2020-11-13   -1.918101\n",
            "2020-11-14   -0.304621\n",
            "2020-11-15    0.985661\n",
            "2020-11-16    0.918592\n",
            "2020-11-17   -0.167518\n",
            "2020-11-18   -0.401958\n",
            "Freq: D, Name: A, dtype: float64\n",
            "\n",
            "                   A         B         C         D\n",
            "2020-11-13 -1.918101 -0.575459 -0.297129  0.809044\n",
            "2020-11-14 -0.304621  1.659247  2.287605 -0.648461\n",
            "2020-11-15  0.985661  0.457760  1.396212  0.908758\n",
            "\n",
            "                   A         B         C         D\n",
            "2020-11-14 -0.304621  1.659247  2.287605 -0.648461\n",
            "2020-11-15  0.985661  0.457760  1.396212  0.908758\n",
            "2020-11-16  0.918592 -0.699243 -0.883105 -0.121630\n"
          ],
          "name": "stdout"
        }
      ]
    },
    {
      "cell_type": "code",
      "metadata": {
        "id": "5Dg2a6z3FQwK",
        "colab": {
          "base_uri": "https://localhost:8080/"
        },
        "outputId": "878cc760-8e6a-4950-b903-00fb6fbfc08f"
      },
      "source": [
        "# Selection by Label (Label 을 통한 선택)\n",
        "\n",
        "import pandas as pd\n",
        "import numpy as np\n",
        "\n",
        "dates = pd.date_range('20201113', periods=6)\n",
        "\n",
        "df = pd.DataFrame(np.random.randn(6,4), index=dates, columns=list('ABCD'))\n",
        "\n",
        "print(df);print()\n",
        "\n",
        "print(df.loc[dates[0]]) # 라벨을 사용하여 횡단면을 얻음\n",
        "print(df.loc[dates[1]])\n",
        "print(df.loc[dates[2]]);print()\n",
        "\n",
        "# df.loc[행, 열]\n",
        "print(df.loc[:,['A','B']]);print() # 라벨을 사용하여 여러 축(의 데이터)을 얻음.\n",
        "print(df.loc['20201113':'20201115', ['A', 'C']]);print() # 양쪽 종단점을 포함한 라벨 슬라이싱.\n",
        "\n",
        "print(df.loc['20201113',['A','B']]);print() # 반환되는 객체의 차원을 줄임.\n",
        "\n",
        "print(df.loc[dates[0], 'A']) # 스칼라 값 얻음.\n",
        "print(df.at[dates[0], 'A']) # 스칼라 값을 더 빠르게 얻음."
      ],
      "execution_count": null,
      "outputs": [
        {
          "output_type": "stream",
          "text": [
            "                   A         B         C         D\n",
            "2020-11-13  1.322449 -0.478986 -0.671340  0.926817\n",
            "2020-11-14 -0.297145  0.637463  0.451564  1.245853\n",
            "2020-11-15  1.804914  1.135583 -0.791125 -0.486169\n",
            "2020-11-16 -1.812098  0.377769 -1.847900 -1.042313\n",
            "2020-11-17  1.614249  2.081424  0.081558  0.604965\n",
            "2020-11-18  0.669463  0.175546  0.159076 -0.834814\n",
            "\n",
            "A    1.322449\n",
            "B   -0.478986\n",
            "C   -0.671340\n",
            "D    0.926817\n",
            "Name: 2020-11-13 00:00:00, dtype: float64\n",
            "A   -0.297145\n",
            "B    0.637463\n",
            "C    0.451564\n",
            "D    1.245853\n",
            "Name: 2020-11-14 00:00:00, dtype: float64\n",
            "A    1.804914\n",
            "B    1.135583\n",
            "C   -0.791125\n",
            "D   -0.486169\n",
            "Name: 2020-11-15 00:00:00, dtype: float64\n",
            "\n",
            "                   A         B\n",
            "2020-11-13  1.322449 -0.478986\n",
            "2020-11-14 -0.297145  0.637463\n",
            "2020-11-15  1.804914  1.135583\n",
            "2020-11-16 -1.812098  0.377769\n",
            "2020-11-17  1.614249  2.081424\n",
            "2020-11-18  0.669463  0.175546\n",
            "\n",
            "                   A         C\n",
            "2020-11-13  1.322449 -0.671340\n",
            "2020-11-14 -0.297145  0.451564\n",
            "2020-11-15  1.804914 -0.791125\n",
            "\n",
            "A    1.322449\n",
            "B   -0.478986\n",
            "Name: 2020-11-13 00:00:00, dtype: float64\n",
            "\n",
            "1.3224486678937042\n",
            "1.3224486678937042\n"
          ],
          "name": "stdout"
        }
      ]
    },
    {
      "cell_type": "code",
      "metadata": {
        "id": "k0O7jDE0G5Jb",
        "colab": {
          "base_uri": "https://localhost:8080/"
        },
        "outputId": "818736aa-824b-45d0-a15e-3a9a5f458502"
      },
      "source": [
        "# Selection by Position (위치로 선택하기)\n",
        "\n",
        "import pandas as pd\n",
        "import numpy as np\n",
        "\n",
        "dates = pd.date_range('20201113', periods=6)\n",
        "\n",
        "df = pd.DataFrame(np.random.randn(6,4), index=dates, columns=list('ABCD'))\n",
        "\n",
        "print(df);print()\n",
        "\n",
        "print(df.iloc[3]);print() # 넘겨받은 정수의 위치를 기준으로 선택\n",
        "\n",
        "print(df.iloc[3:5,0:2]);print() # 정수로 표기된 슬라이스들을 통해 numpy / python과 유사하게 작동\n",
        "\n",
        "print(df.iloc[[1, 2, 4], [0, 2]]);print() # 정수로 표기된 위치값의 리스트들을 통해 numpy / python의 스타일과 유사하게 작동\n",
        "\n",
        "print(df.iloc[1:3, :]);print() # 명시적으로 행을 나누고자 하는 경우\n",
        "print(df.iloc[:, 1:3]);print() # 명시적으로 열을 나누고자 하는 경우\n",
        "\n",
        "print(df.iloc[1,1]) # 명시적으로 특정한 값을 얻고자 하는 경우\n",
        "print(df.iat[1,1]) # 스칼라 값을 빠르게 얻는 방법"
      ],
      "execution_count": null,
      "outputs": [
        {
          "output_type": "stream",
          "text": [
            "                   A         B         C         D\n",
            "2020-11-13  1.002932  0.478945  1.693087  0.072844\n",
            "2020-11-14 -0.640450  2.271407 -0.035691  0.718035\n",
            "2020-11-15 -0.019410 -0.042574 -0.101110  1.610325\n",
            "2020-11-16  1.084601  0.379361  0.145308  0.986049\n",
            "2020-11-17  0.538109 -0.629735  0.434703 -1.250632\n",
            "2020-11-18 -0.681390 -1.402511  1.973230  1.690592\n",
            "\n",
            "A    1.084601\n",
            "B    0.379361\n",
            "C    0.145308\n",
            "D    0.986049\n",
            "Name: 2020-11-16 00:00:00, dtype: float64\n",
            "\n",
            "                   A         B\n",
            "2020-11-16  1.084601  0.379361\n",
            "2020-11-17  0.538109 -0.629735\n",
            "\n",
            "                   A         C\n",
            "2020-11-14 -0.640450 -0.035691\n",
            "2020-11-15 -0.019410 -0.101110\n",
            "2020-11-17  0.538109  0.434703\n",
            "\n",
            "                  A         B         C         D\n",
            "2020-11-14 -0.64045  2.271407 -0.035691  0.718035\n",
            "2020-11-15 -0.01941 -0.042574 -0.101110  1.610325\n",
            "\n",
            "                   B         C\n",
            "2020-11-13  0.478945  1.693087\n",
            "2020-11-14  2.271407 -0.035691\n",
            "2020-11-15 -0.042574 -0.101110\n",
            "2020-11-16  0.379361  0.145308\n",
            "2020-11-17 -0.629735  0.434703\n",
            "2020-11-18 -1.402511  1.973230\n",
            "\n",
            "2.271406934582284\n",
            "2.271406934582284\n"
          ],
          "name": "stdout"
        }
      ]
    },
    {
      "cell_type": "code",
      "metadata": {
        "id": "8iyal9XcJdG-",
        "colab": {
          "base_uri": "https://localhost:8080/"
        },
        "outputId": "9fe5db49-b1d6-44d8-c838-94de907a09a5"
      },
      "source": [
        "# Boolean Indexing\n",
        "\n",
        "import pandas as pd\n",
        "import numpy as np\n",
        "\n",
        "dates = pd.date_range('20201113', periods=6)\n",
        "\n",
        "df = pd.DataFrame(np.random.randn(6,4), index=dates, columns=list('ABCD'))\n",
        "\n",
        "print(df);print()\n",
        "\n",
        "print(df[df.A > 0]);print() # 데이터를 선택하기 위해 단일 열의 값을 사용\n",
        "print(df[df > 0]);print() # Boolean 조건을 충족하는 데이터프레임에서 값을 선택\n",
        "\n",
        "# 필터링을 위한 메소드 isin() 사용\n",
        "df2 = df.copy()\n",
        "df2['E'] = ['one', 'one', 'two', 'three', 'four', 'three']\n",
        "print(df2);print()\n",
        "print(df2[df2['E'].isin(['two','four'])]);print() # E열에 two, four값이 있는 그 행(인덱스) 출력"
      ],
      "execution_count": null,
      "outputs": [
        {
          "output_type": "stream",
          "text": [
            "                   A         B         C         D\n",
            "2020-11-13  2.077711 -0.877848  0.591105  0.207376\n",
            "2020-11-14 -0.747961  2.187228 -0.243862  0.087110\n",
            "2020-11-15 -1.328781 -0.529971  0.332067 -0.663415\n",
            "2020-11-16  0.230210  1.419166 -1.327556  0.045747\n",
            "2020-11-17  2.666794  1.430901  0.186585 -0.711753\n",
            "2020-11-18  0.668363 -0.613509 -1.326469 -0.465985\n",
            "\n",
            "                   A         B         C         D\n",
            "2020-11-13  2.077711 -0.877848  0.591105  0.207376\n",
            "2020-11-16  0.230210  1.419166 -1.327556  0.045747\n",
            "2020-11-17  2.666794  1.430901  0.186585 -0.711753\n",
            "2020-11-18  0.668363 -0.613509 -1.326469 -0.465985\n",
            "\n",
            "                   A         B         C         D\n",
            "2020-11-13  2.077711       NaN  0.591105  0.207376\n",
            "2020-11-14       NaN  2.187228       NaN  0.087110\n",
            "2020-11-15       NaN       NaN  0.332067       NaN\n",
            "2020-11-16  0.230210  1.419166       NaN  0.045747\n",
            "2020-11-17  2.666794  1.430901  0.186585       NaN\n",
            "2020-11-18  0.668363       NaN       NaN       NaN\n",
            "\n",
            "                   A         B         C         D      E\n",
            "2020-11-13  2.077711 -0.877848  0.591105  0.207376    one\n",
            "2020-11-14 -0.747961  2.187228 -0.243862  0.087110    one\n",
            "2020-11-15 -1.328781 -0.529971  0.332067 -0.663415    two\n",
            "2020-11-16  0.230210  1.419166 -1.327556  0.045747  three\n",
            "2020-11-17  2.666794  1.430901  0.186585 -0.711753   four\n",
            "2020-11-18  0.668363 -0.613509 -1.326469 -0.465985  three\n",
            "\n",
            "                   A         B         C         D     E\n",
            "2020-11-15 -1.328781 -0.529971  0.332067 -0.663415   two\n",
            "2020-11-17  2.666794  1.430901  0.186585 -0.711753  four\n"
          ],
          "name": "stdout"
        }
      ]
    },
    {
      "cell_type": "code",
      "metadata": {
        "id": "e8ljd6OKLLQN",
        "colab": {
          "base_uri": "https://localhost:8080/"
        },
        "outputId": "29dff0a3-3ae3-42e6-e46b-7cfa6399bec1"
      },
      "source": [
        "# Setting (설정)\n",
        "\n",
        "import pandas as pd\n",
        "import numpy as np\n",
        "\n",
        "dates = pd.date_range('20201113', periods=6)\n",
        "\n",
        "df = pd.DataFrame(np.random.randn(6,4), index=dates, columns=list('ABCD'))\n",
        "\n",
        "print(df);print()\n",
        "\n",
        "# 새 열을 설정하면 데이터가 인덱스 별로 자동 정렬\n",
        "s1 = pd.Series([1, 2, 3, 4, 5, 6], index=pd.date_range('20201113', periods=6))\n",
        "print(s1);print()\n",
        "\n",
        "df['F'] = s1\n",
        "print(df);print()\n",
        "\n",
        "df.at[dates[0],'A'] = 0 # 라벨에 의해 값을 설정\n",
        "df.iat[0,1] = 0 # 위치에 의해 값을 설정 \n",
        "df.loc[:,'D'] = np.array([5] * len(df)) # Numpy 배열을 사용한 할당에 의해 값을 설정 : D열에 5 대입\n",
        "print(df);print()\n",
        "\n",
        "# where 연산 설정\n",
        "df2 = df\n",
        "df2[df2>0] = -df2\n",
        "print(df2)"
      ],
      "execution_count": null,
      "outputs": [
        {
          "output_type": "stream",
          "text": [
            "                   A         B         C         D\n",
            "2020-11-13  0.664468  0.415255  0.182158 -0.264939\n",
            "2020-11-14 -0.899263  0.249944  0.077126 -1.016277\n",
            "2020-11-15 -0.371782 -0.478328 -0.632047 -0.715229\n",
            "2020-11-16 -0.606377 -0.836186 -0.954979  0.486165\n",
            "2020-11-17  0.488716 -1.159999 -0.572096 -0.048152\n",
            "2020-11-18 -0.480164 -1.124653 -2.402296  0.824492\n",
            "\n",
            "2020-11-13    1\n",
            "2020-11-14    2\n",
            "2020-11-15    3\n",
            "2020-11-16    4\n",
            "2020-11-17    5\n",
            "2020-11-18    6\n",
            "Freq: D, dtype: int64\n",
            "\n",
            "                   A         B         C         D  F\n",
            "2020-11-13  0.664468  0.415255  0.182158 -0.264939  1\n",
            "2020-11-14 -0.899263  0.249944  0.077126 -1.016277  2\n",
            "2020-11-15 -0.371782 -0.478328 -0.632047 -0.715229  3\n",
            "2020-11-16 -0.606377 -0.836186 -0.954979  0.486165  4\n",
            "2020-11-17  0.488716 -1.159999 -0.572096 -0.048152  5\n",
            "2020-11-18 -0.480164 -1.124653 -2.402296  0.824492  6\n",
            "\n",
            "                   A         B         C  D  F\n",
            "2020-11-13  0.000000  0.000000  0.182158  5  1\n",
            "2020-11-14 -0.899263  0.249944  0.077126  5  2\n",
            "2020-11-15 -0.371782 -0.478328 -0.632047  5  3\n",
            "2020-11-16 -0.606377 -0.836186 -0.954979  5  4\n",
            "2020-11-17  0.488716 -1.159999 -0.572096  5  5\n",
            "2020-11-18 -0.480164 -1.124653 -2.402296  5  6\n",
            "\n",
            "                   A         B         C  D  F\n",
            "2020-11-13  0.000000  0.000000 -0.182158 -5 -1\n",
            "2020-11-14 -0.899263 -0.249944 -0.077126 -5 -2\n",
            "2020-11-15 -0.371782 -0.478328 -0.632047 -5 -3\n",
            "2020-11-16 -0.606377 -0.836186 -0.954979 -5 -4\n",
            "2020-11-17 -0.488716 -1.159999 -0.572096 -5 -5\n",
            "2020-11-18 -0.480164 -1.124653 -2.402296 -5 -6\n"
          ],
          "name": "stdout"
        }
      ]
    },
    {
      "cell_type": "markdown",
      "metadata": {
        "id": "3r6GcKO6XCpW"
      },
      "source": [
        "# 4. Missing Data (결측치)"
      ]
    },
    {
      "cell_type": "markdown",
      "metadata": {
        "id": "5A-bP7hvXH6r"
      },
      "source": [
        "- Pandas는 결측치를 표현하기 위해 주로 np.nan 값을 사용\n",
        "- np.nan은 기본 설정값이지만 계산에는 포함되지 않음\n",
        "- Reindexing으로 지정된 축 상의인덱스를 변경/추가/삭제 가능\n",
        "- Reindexing은 데이터의 복사본을 반환"
      ]
    },
    {
      "cell_type": "code",
      "metadata": {
        "id": "abvrR7ixQ0KM",
        "colab": {
          "base_uri": "https://localhost:8080/"
        },
        "outputId": "03a3c3f7-38ba-404b-b763-37feeea9f8df"
      },
      "source": [
        "import pandas as pd\n",
        "import numpy as np\n",
        "\n",
        "dates = pd.date_range('20201113', periods=6)\n",
        "\n",
        "df = pd.DataFrame(np.random.randn(6,4), index=dates, columns=list('ABCD'))\n",
        "\n",
        "print(df);print()\n",
        "\n",
        "df1 = df.reindex(index=dates[0:4], columns=list(df.columns) + ['E'])\n",
        "df1.loc[dates[0]:dates[1], 'E'] = 1\n",
        "print(df1);print()\n",
        "\n",
        "print(df1.dropna(how='any')) # 결측치를 가지고 있는 행들을 제외하고 표시\n",
        "print(df1.fillna(value=5)) # 결측치에 값을 채워넣음\n",
        "print(pd.isna(df1)) # isna()함수 : NaN인 값에만 True가 표시되게 하는 함수\n",
        "print(df1)"
      ],
      "execution_count": null,
      "outputs": [
        {
          "output_type": "stream",
          "text": [
            "                   A         B         C         D\n",
            "2020-11-13 -0.535112 -2.152301 -1.248211 -0.318263\n",
            "2020-11-14 -0.245367 -0.308455 -0.119005  0.348416\n",
            "2020-11-15  0.629707 -2.080417 -0.563429  0.491402\n",
            "2020-11-16 -2.007965  0.365917  1.222220  0.850416\n",
            "2020-11-17  0.358648 -0.416705 -0.866259  0.873454\n",
            "2020-11-18  0.406428  0.785300 -0.215934  1.194589\n",
            "\n",
            "                   A         B         C         D    E\n",
            "2020-11-13 -0.535112 -2.152301 -1.248211 -0.318263  1.0\n",
            "2020-11-14 -0.245367 -0.308455 -0.119005  0.348416  1.0\n",
            "2020-11-15  0.629707 -2.080417 -0.563429  0.491402  NaN\n",
            "2020-11-16 -2.007965  0.365917  1.222220  0.850416  NaN\n",
            "\n",
            "                   A         B         C         D    E\n",
            "2020-11-13 -0.535112 -2.152301 -1.248211 -0.318263  1.0\n",
            "2020-11-14 -0.245367 -0.308455 -0.119005  0.348416  1.0\n",
            "                   A         B         C         D    E\n",
            "2020-11-13 -0.535112 -2.152301 -1.248211 -0.318263  1.0\n",
            "2020-11-14 -0.245367 -0.308455 -0.119005  0.348416  1.0\n",
            "2020-11-15  0.629707 -2.080417 -0.563429  0.491402  5.0\n",
            "2020-11-16 -2.007965  0.365917  1.222220  0.850416  5.0\n",
            "                A      B      C      D      E\n",
            "2020-11-13  False  False  False  False  False\n",
            "2020-11-14  False  False  False  False  False\n",
            "2020-11-15  False  False  False  False   True\n",
            "2020-11-16  False  False  False  False   True\n",
            "                   A         B         C         D    E\n",
            "2020-11-13 -0.535112 -2.152301 -1.248211 -0.318263  1.0\n",
            "2020-11-14 -0.245367 -0.308455 -0.119005  0.348416  1.0\n",
            "2020-11-15  0.629707 -2.080417 -0.563429  0.491402  NaN\n",
            "2020-11-16 -2.007965  0.365917  1.222220  0.850416  NaN\n"
          ],
          "name": "stdout"
        }
      ]
    },
    {
      "cell_type": "markdown",
      "metadata": {
        "id": "is-M0uQpbNU7"
      },
      "source": [
        "# 5. Operation (연산)"
      ]
    },
    {
      "cell_type": "code",
      "metadata": {
        "id": "RYiEH7I6YO-z",
        "colab": {
          "base_uri": "https://localhost:8080/"
        },
        "outputId": "0e1313a1-325d-4463-be6d-32dbcb4fcdbd"
      },
      "source": [
        "# Stats (통계) : 일반적으로 결측치를 제외한 후 연산\n",
        "\n",
        "import pandas as pd\n",
        "import numpy as np\n",
        "\n",
        "dates = pd.date_range('20201113', periods=6)\n",
        "\n",
        "df = pd.DataFrame(np.random.randn(6,4), index=dates, columns=list('ABCD'))\n",
        "\n",
        "print(df);print()\n",
        "\n",
        "print(df.mean());print() # 기술통계를 수행\n",
        "print(df.mean(1));print() # 다른 축에서 동일한 연산을 수행\n",
        "\n",
        "# Pandas는 지정된 차원을 따라 자동으로 브로드 캐스팅 됨.\n",
        "# 정렬이 필요하며, 차원이 다른 객체 연산\n",
        "\n",
        "s = pd.Series([1, 3, 5, np.nan, 6, 8], index=dates).shift(2)\n",
        "print(s);print()\n",
        "\n",
        "print(df.sub(s, axis='index'))"
      ],
      "execution_count": null,
      "outputs": [
        {
          "output_type": "stream",
          "text": [
            "                   A         B         C         D\n",
            "2020-11-13 -1.843694 -1.096705 -0.133807  0.345099\n",
            "2020-11-14 -0.748091  0.554098 -0.331324 -1.665838\n",
            "2020-11-15  0.166637  1.016124  0.038144 -0.311773\n",
            "2020-11-16 -0.964423  0.116727 -2.185412 -0.638910\n",
            "2020-11-17  0.628404  0.262209  1.402016 -0.953297\n",
            "2020-11-18  0.847502  1.050265 -0.504600  2.288972\n",
            "\n",
            "A   -0.318944\n",
            "B    0.317120\n",
            "C   -0.285830\n",
            "D   -0.155958\n",
            "dtype: float64\n",
            "\n",
            "2020-11-13   -0.682277\n",
            "2020-11-14   -0.547788\n",
            "2020-11-15    0.227283\n",
            "2020-11-16   -0.918005\n",
            "2020-11-17    0.334833\n",
            "2020-11-18    0.920535\n",
            "Freq: D, dtype: float64\n",
            "\n",
            "2020-11-13    NaN\n",
            "2020-11-14    NaN\n",
            "2020-11-15    1.0\n",
            "2020-11-16    3.0\n",
            "2020-11-17    5.0\n",
            "2020-11-18    NaN\n",
            "Freq: D, dtype: float64\n",
            "\n",
            "                   A         B         C         D\n",
            "2020-11-13       NaN       NaN       NaN       NaN\n",
            "2020-11-14       NaN       NaN       NaN       NaN\n",
            "2020-11-15 -0.833363  0.016124 -0.961856 -1.311773\n",
            "2020-11-16 -3.964423 -2.883273 -5.185412 -3.638910\n",
            "2020-11-17 -4.371596 -4.737791 -3.597984 -5.953297\n",
            "2020-11-18       NaN       NaN       NaN       NaN\n"
          ],
          "name": "stdout"
        }
      ]
    },
    {
      "cell_type": "code",
      "metadata": {
        "id": "4f9EPxZXbhYB",
        "colab": {
          "base_uri": "https://localhost:8080/"
        },
        "outputId": "0b998115-7eec-4bdd-d44b-fa774f8837a8"
      },
      "source": [
        "# Apply (적용)\n",
        "\n",
        "import pandas as pd\n",
        "import numpy as np\n",
        "\n",
        "dates = pd.date_range('20201113', periods=6)\n",
        "\n",
        "df = pd.DataFrame(np.random.randn(6,4), index=dates, columns=list('ABCD'))\n",
        "\n",
        "print(df);print()\n",
        "\n",
        "print(df.apply(np.cumsum));print() # 데이터에 함수를 적용\n",
        "# np.cumsum : 배열에서 주어진 축에 따라 누적되는 원소들의 누적 합을 계산하는 함수\n",
        "\n",
        "print(df.apply(lambda x: x.max() - x.min())) # 행에 대해 함수 적용"
      ],
      "execution_count": null,
      "outputs": [
        {
          "output_type": "stream",
          "text": [
            "                   A         B         C         D\n",
            "2020-11-13 -0.671387 -1.091142  0.670369 -0.418858\n",
            "2020-11-14  0.780754  1.516894  0.867342  0.667479\n",
            "2020-11-15 -0.429556  0.374209  0.842503  0.410131\n",
            "2020-11-16 -1.088191  0.364986  0.601555 -0.149306\n",
            "2020-11-17 -1.641898  0.606854  0.383487 -0.298720\n",
            "2020-11-18 -0.094398 -2.076397  0.935504 -0.077213\n",
            "\n",
            "                   A         B         C         D\n",
            "2020-11-13 -0.671387 -1.091142  0.670369 -0.418858\n",
            "2020-11-14  0.109368  0.425753  1.537711  0.248620\n",
            "2020-11-15 -0.320188  0.799961  2.380214  0.658751\n",
            "2020-11-16 -1.408379  1.164948  2.981768  0.509445\n",
            "2020-11-17 -3.050277  1.771802  3.365256  0.210725\n",
            "2020-11-18 -3.144675 -0.304595  4.300759  0.133512\n",
            "\n",
            "A    2.422653\n",
            "B    3.593291\n",
            "C    0.552016\n",
            "D    1.086337\n",
            "dtype: float64\n"
          ],
          "name": "stdout"
        }
      ]
    },
    {
      "cell_type": "code",
      "metadata": {
        "id": "xd4PHTyY-wwp",
        "colab": {
          "base_uri": "https://localhost:8080/"
        },
        "outputId": "23795a2c-c237-43fa-f7e3-a171e98a253d"
      },
      "source": [
        "# Histogramming (히스토그래밍)\n",
        "\n",
        "import pandas as pd\n",
        "import numpy as np\n",
        "\n",
        "dates = pd.date_range('20201113', periods=6)\n",
        "\n",
        "df = pd.DataFrame(np.random.randn(6,4), index=dates, columns=list('ABCD'))\n",
        "\n",
        "print(df);print()\n",
        "\n",
        "s = pd.Series(np.random.randint(0, 7, size = 10))\n",
        "print(s);print()\n",
        "print(s.value_counts()) # 유일한 값별 개수 세기\n",
        "# https://rfriend.tistory.com/tag/%EC%9C%A0%EC%9D%BC%ED%95%9C%20%EA%B0%92%EB%B3%84%EB%A1%9C%20%EA%B0%9C%EC%88%98%20%EC%84%B8%EA%B8%B0%20pd.Series.value_counts%28%29\n"
      ],
      "execution_count": null,
      "outputs": [
        {
          "output_type": "stream",
          "text": [
            "                   A         B         C         D\n",
            "2020-11-13 -0.021010 -2.126146  2.073894  1.693271\n",
            "2020-11-14 -1.234993  0.378857 -0.362210  0.822965\n",
            "2020-11-15 -0.788383  0.629045 -0.463311  0.744907\n",
            "2020-11-16 -0.088713 -0.478260 -0.331242 -0.928917\n",
            "2020-11-17  0.031377 -1.002451  0.771914  1.196341\n",
            "2020-11-18  0.734542 -0.493233  0.821162  0.425587\n",
            "\n",
            "0    4\n",
            "1    0\n",
            "2    2\n",
            "3    0\n",
            "4    5\n",
            "5    3\n",
            "6    4\n",
            "7    4\n",
            "8    4\n",
            "9    1\n",
            "dtype: int64\n",
            "\n",
            "4    4\n",
            "0    2\n",
            "5    1\n",
            "3    1\n",
            "2    1\n",
            "1    1\n",
            "dtype: int64\n"
          ],
          "name": "stdout"
        }
      ]
    },
    {
      "cell_type": "code",
      "metadata": {
        "id": "NABx4VrREzJn",
        "colab": {
          "base_uri": "https://localhost:8080/"
        },
        "outputId": "ae692b4b-2af2-4d1c-d823-1cd4f8d916d2"
      },
      "source": [
        "# String Methods (문자열 메소드)\n",
        "\n",
        "import pandas as pd\n",
        "import numpy as np\n",
        "\n",
        "s = pd.Series(['A', 'B', 'C', 'Aaba', 'Baca', np.nan, 'CABA', 'dog', 'cat'])\n",
        "\n",
        "print(s.str.lower())"
      ],
      "execution_count": null,
      "outputs": [
        {
          "output_type": "stream",
          "text": [
            "0       a\n",
            "1       b\n",
            "2       c\n",
            "3    aaba\n",
            "4    baca\n",
            "5     NaN\n",
            "6    caba\n",
            "7     dog\n",
            "8     cat\n",
            "dtype: object\n"
          ],
          "name": "stdout"
        }
      ]
    },
    {
      "cell_type": "markdown",
      "metadata": {
        "id": "YPnrlp2LIHXO"
      },
      "source": [
        "# 6. Merge (병합)"
      ]
    },
    {
      "cell_type": "code",
      "metadata": {
        "id": "C9ukUkJFH73h",
        "colab": {
          "base_uri": "https://localhost:8080/"
        },
        "outputId": "14a354aa-f72a-4884-db63-80ef4a611024"
      },
      "source": [
        "# Concat (연결)\n",
        "\n",
        "import pandas as pd\n",
        "import numpy as np\n",
        "\n",
        "df = pd.DataFrame(np.random.randn(10, 4)) # 수치 값 / 인덱스 번호 임의(0~) / 컬럼 번호 임의(0~)\n",
        "\n",
        "print(df);print()\n",
        "\n",
        "pieces = [df[:3], df[3:7], df[7:]] # 조각내기\n",
        "print(pieces);print()\n",
        "\n",
        "print(pd.concat(pieces)) # 합치기"
      ],
      "execution_count": null,
      "outputs": [
        {
          "output_type": "stream",
          "text": [
            "          0         1         2         3\n",
            "0  0.101375 -0.620771 -1.398738 -0.063196\n",
            "1 -0.211654  0.006570  0.157940 -1.131409\n",
            "2 -1.046413  0.264847 -0.640329 -0.653831\n",
            "3  0.092897  1.431926  0.822285 -0.192835\n",
            "4 -1.229601  0.971441  0.015610 -0.740249\n",
            "5  0.634566 -0.768133  0.925278 -1.010481\n",
            "6 -0.369225  0.485032  0.264778 -0.816482\n",
            "7  1.010308  1.155227  0.832349 -0.091848\n",
            "8  0.910018 -0.819088 -0.610558  1.549389\n",
            "9 -0.958542 -1.373793 -1.256510 -0.916914\n",
            "\n",
            "[          0         1         2         3\n",
            "0  0.101375 -0.620771 -1.398738 -0.063196\n",
            "1 -0.211654  0.006570  0.157940 -1.131409\n",
            "2 -1.046413  0.264847 -0.640329 -0.653831,           0         1         2         3\n",
            "3  0.092897  1.431926  0.822285 -0.192835\n",
            "4 -1.229601  0.971441  0.015610 -0.740249\n",
            "5  0.634566 -0.768133  0.925278 -1.010481\n",
            "6 -0.369225  0.485032  0.264778 -0.816482,           0         1         2         3\n",
            "7  1.010308  1.155227  0.832349 -0.091848\n",
            "8  0.910018 -0.819088 -0.610558  1.549389\n",
            "9 -0.958542 -1.373793 -1.256510 -0.916914]\n",
            "\n",
            "          0         1         2         3\n",
            "0  0.101375 -0.620771 -1.398738 -0.063196\n",
            "1 -0.211654  0.006570  0.157940 -1.131409\n",
            "2 -1.046413  0.264847 -0.640329 -0.653831\n",
            "3  0.092897  1.431926  0.822285 -0.192835\n",
            "4 -1.229601  0.971441  0.015610 -0.740249\n",
            "5  0.634566 -0.768133  0.925278 -1.010481\n",
            "6 -0.369225  0.485032  0.264778 -0.816482\n",
            "7  1.010308  1.155227  0.832349 -0.091848\n",
            "8  0.910018 -0.819088 -0.610558  1.549389\n",
            "9 -0.958542 -1.373793 -1.256510 -0.916914\n"
          ],
          "name": "stdout"
        }
      ]
    },
    {
      "cell_type": "code",
      "metadata": {
        "id": "dGVvosvvI6Rs",
        "colab": {
          "base_uri": "https://localhost:8080/"
        },
        "outputId": "2cba4ae1-b1ec-4f5b-c0ef-bb1dbcd9fc38"
      },
      "source": [
        "# Join (결합)\n",
        "\n",
        "import pandas as pd\n",
        "import numpy as np\n",
        "\n",
        "left = pd.DataFrame({'key':['foo', 'foo'], 'lval': [1, 2]})\n",
        "right = pd.DataFrame({'key':['foo', 'foo'], 'rval': [4, 5]})\n",
        "\n",
        "print(left);print()\n",
        "print(right);print()\n",
        "\n",
        "pd_merge = pd.merge(left, right, on = 'key') # SQL 방식으로 병합\n",
        "print(pd_merge)\n",
        "\n",
        "print()\n",
        "\n",
        "left = pd.DataFrame({'key':['foo', 'bar'], 'lval': [1, 2]})\n",
        "right = pd.DataFrame({'key':['foo', 'bar'], 'rval': [4, 5]})\n",
        "\n",
        "pd_merge = pd.merge(left, right, on = 'key')\n",
        "print(pd_merge)"
      ],
      "execution_count": null,
      "outputs": [
        {
          "output_type": "stream",
          "text": [
            "   key  lval\n",
            "0  foo     1\n",
            "1  foo     2\n",
            "\n",
            "   key  rval\n",
            "0  foo     4\n",
            "1  foo     5\n",
            "\n",
            "   key  lval  rval\n",
            "0  foo     1     4\n",
            "1  foo     1     5\n",
            "2  foo     2     4\n",
            "3  foo     2     5\n",
            "\n",
            "   key  lval  rval\n",
            "0  foo     1     4\n",
            "1  bar     2     5\n"
          ],
          "name": "stdout"
        }
      ]
    },
    {
      "cell_type": "code",
      "metadata": {
        "id": "DnDb0OiYLc0m",
        "colab": {
          "base_uri": "https://localhost:8080/"
        },
        "outputId": "3c0b729b-23ee-46a9-8d6e-2c993ee25665"
      },
      "source": [
        "# Append (추가)\n",
        "\n",
        "import pandas as pd\n",
        "import numpy as np\n",
        "\n",
        "df = pd.DataFrame(np.random.randn(8, 4), columns=['A', 'B', 'C', 'D'])\n",
        "\n",
        "print(df);print()\n",
        "\n",
        "s = df.iloc[3]\n",
        "print(s);print()\n",
        "\n",
        "print(df.append(s, ignore_index=True))"
      ],
      "execution_count": null,
      "outputs": [
        {
          "output_type": "stream",
          "text": [
            "          A         B         C         D\n",
            "0 -0.386261 -0.381663 -0.363647  0.031988\n",
            "1  0.759084  1.550600  0.175870  0.508454\n",
            "2 -0.014913 -0.607853 -1.611457  0.883640\n",
            "3  1.288596 -0.087920 -0.090726 -0.932077\n",
            "4  0.695342 -0.140758  1.424371 -0.002472\n",
            "5  1.712889 -1.077775 -1.298155 -0.879341\n",
            "6 -0.528356  1.339853  0.807542 -0.448967\n",
            "7 -1.069527  0.209181  0.433858 -0.177883\n",
            "\n",
            "A    1.288596\n",
            "B   -0.087920\n",
            "C   -0.090726\n",
            "D   -0.932077\n",
            "Name: 3, dtype: float64\n",
            "\n",
            "          A         B         C         D\n",
            "0 -0.386261 -0.381663 -0.363647  0.031988\n",
            "1  0.759084  1.550600  0.175870  0.508454\n",
            "2 -0.014913 -0.607853 -1.611457  0.883640\n",
            "3  1.288596 -0.087920 -0.090726 -0.932077\n",
            "4  0.695342 -0.140758  1.424371 -0.002472\n",
            "5  1.712889 -1.077775 -1.298155 -0.879341\n",
            "6 -0.528356  1.339853  0.807542 -0.448967\n",
            "7 -1.069527  0.209181  0.433858 -0.177883\n",
            "8  1.288596 -0.087920 -0.090726 -0.932077\n"
          ],
          "name": "stdout"
        }
      ]
    },
    {
      "cell_type": "markdown",
      "metadata": {
        "id": "eqaB0vnmQx6N"
      },
      "source": [
        "# 7. Grouping (그룹화)"
      ]
    },
    {
      "cell_type": "markdown",
      "metadata": {
        "id": "GgoZJ_N1Q37v"
      },
      "source": [
        "- 그룹화는 다음 단계 중 하나 이상을 포함하는 과정을 가리킴.\n",
        "  - 몇몇 기준에 따라 여러 그룹으로 데이터를 분할 (splitting)\n",
        "  - 각 그룹에 독립적으로 함수를 적용 (applying)\n",
        "  - 결과물들을 하나의 데이터 구조로 결합 (combining)"
      ]
    },
    {
      "cell_type": "code",
      "metadata": {
        "id": "oq1IxRZQPNr6",
        "colab": {
          "base_uri": "https://localhost:8080/"
        },
        "outputId": "2971fc57-31b1-4d12-95b6-973e16b4a98d"
      },
      "source": [
        "import pandas as pd\n",
        "import numpy as np\n",
        "\n",
        "df = pd.DataFrame(\n",
        "    {\n",
        "        'A' : ['foo', 'bar', 'foo', 'bar', 'foo', 'bar', 'foo', 'bar'],\n",
        "        'B' : ['one', 'one', 'two', 'three', 'two', 'two', 'one', 'three'],\n",
        "        'C' : np.random.randn(8),\n",
        "        'D' : np.random.randn(8)\n",
        "    }\n",
        ")\n",
        "\n",
        "print(df);print()\n",
        "\n",
        "a = df.groupby('A').sum() # 생성된 데이터프레임을 그룹화한 후 각 그륩에 sum() 함수를 적용\n",
        "print(a);print()\n",
        "\n",
        "# 여러 열을 기준으로 그룹화하면 계층적 인덱스가 형성\n",
        "# 여기에도 sum 함수를 적용 가능\n",
        "b = df.groupby(['A', 'B']).sum()\n",
        "print(b);print()"
      ],
      "execution_count": null,
      "outputs": [
        {
          "output_type": "stream",
          "text": [
            "     A      B         C         D\n",
            "0  foo    one  0.438061 -0.185864\n",
            "1  bar    one -1.241366  0.900318\n",
            "2  foo    two  0.604904  0.081247\n",
            "3  bar  three -0.101022  0.883465\n",
            "4  foo    two -0.244091 -0.950000\n",
            "5  bar    two -1.876423 -1.519250\n",
            "6  foo    one -0.365102  0.195892\n",
            "7  bar  three -1.627618  0.452152\n",
            "\n",
            "            C         D\n",
            "A                      \n",
            "bar -4.846429  0.716685\n",
            "foo  0.433772 -0.858725\n",
            "\n",
            "                  C         D\n",
            "A   B                        \n",
            "bar one   -1.241366  0.900318\n",
            "    three -1.728640  1.335617\n",
            "    two   -1.876423 -1.519250\n",
            "foo one    0.072959  0.010028\n",
            "    two    0.360813 -0.868753\n",
            "\n"
          ],
          "name": "stdout"
        }
      ]
    },
    {
      "cell_type": "markdown",
      "metadata": {
        "id": "UVyoFpciT49I"
      },
      "source": [
        "# 8. Reshaping (변형)"
      ]
    },
    {
      "cell_type": "code",
      "metadata": {
        "id": "RA-RrZ1CUn1q",
        "colab": {
          "base_uri": "https://localhost:8080/"
        },
        "outputId": "3ff00112-43f3-4d40-c3f1-6231d1b99ddb"
      },
      "source": [
        "# 참고 : zip 파일 사용\n",
        "\n",
        "x = [1, 2, 3]\n",
        "y = [4, 5, 6]\n",
        "zipped = zip(x,y)\n",
        "list(zipped)\n",
        "x2, y2 = zip(*zip(x,y))\n",
        "print(x2)\n",
        "print(y2)"
      ],
      "execution_count": null,
      "outputs": [
        {
          "output_type": "stream",
          "text": [
            "(1, 2, 3)\n",
            "(4, 5, 6)\n"
          ],
          "name": "stdout"
        }
      ]
    },
    {
      "cell_type": "code",
      "metadata": {
        "id": "7Iu6FB2kSh5k",
        "colab": {
          "base_uri": "https://localhost:8080/"
        },
        "outputId": "1958f96f-cd31-4b91-9195-8b400bfca877"
      },
      "source": [
        "# Stack (스택)\n",
        "\n",
        "import pandas as pd\n",
        "import numpy as np\n",
        "\n",
        "# zip 관련\n",
        "# https://docs.python.org/ko/3/library/functions.html\n",
        "# zip()을 * 연산자와 함께 쓰면 리스트를 unzip 할 수 있음.\n",
        "# 결과는 튜플 형태로 출력\n",
        "tuples = list(zip(*[\n",
        "                    ['bar', 'bar', 'baz', 'baz',\n",
        "                     'foo', 'foo', 'qux', 'qux'],\n",
        "                    ['one', 'two', 'one', 'two',\n",
        "                     'one', 'two', 'one', 'two']\n",
        "]))\n",
        "\n",
        "print(tuples);print()\n",
        "\n",
        "# Multiindex 관련\n",
        "# https://data-make.tistory.com/126\n",
        "index = pd.MultiIndex.from_tuples(tuples, names = ['first', 'second'])\n",
        "\n",
        "df = pd.DataFrame(np.random.randn(8, 2), index = index, columns=['A', 'B'])\n",
        "df2 = df[:4]\n",
        "print(df2);print()\n",
        "\n",
        "# stack() 함수는 데이터프레임 열들의 계층을 압축\n",
        "stacked = df2.stack()\n",
        "print(stacked);print()\n",
        "# \"Stack\"된 데이터프레임 또는 (MultiIndex를 인덱스로 사용하는) Series인 경우,\n",
        "# stack()의 역 연산은 unstack()이며,\n",
        "# 기본적으로 마지막 계층을 unstack 합니다.\n",
        "print(stacked.unstack());print()\n",
        "print(stacked.unstack(0));print()\n",
        "print(stacked.unstack(1));print()"
      ],
      "execution_count": null,
      "outputs": [
        {
          "output_type": "stream",
          "text": [
            "[('bar', 'one'), ('bar', 'two'), ('baz', 'one'), ('baz', 'two'), ('foo', 'one'), ('foo', 'two'), ('qux', 'one'), ('qux', 'two')]\n",
            "\n",
            "                     A         B\n",
            "first second                    \n",
            "bar   one     1.596297  0.367614\n",
            "      two     0.335497  0.192000\n",
            "baz   one     0.958748 -0.375480\n",
            "      two     1.046048  1.144755\n",
            "\n",
            "first  second   \n",
            "bar    one     A    1.596297\n",
            "               B    0.367614\n",
            "       two     A    0.335497\n",
            "               B    0.192000\n",
            "baz    one     A    0.958748\n",
            "               B   -0.375480\n",
            "       two     A    1.046048\n",
            "               B    1.144755\n",
            "dtype: float64\n",
            "\n",
            "                     A         B\n",
            "first second                    \n",
            "bar   one     1.596297  0.367614\n",
            "      two     0.335497  0.192000\n",
            "baz   one     0.958748 -0.375480\n",
            "      two     1.046048  1.144755\n",
            "\n",
            "first          bar       baz\n",
            "second                      \n",
            "one    A  1.596297  0.958748\n",
            "       B  0.367614 -0.375480\n",
            "two    A  0.335497  1.046048\n",
            "       B  0.192000  1.144755\n",
            "\n",
            "second        one       two\n",
            "first                      \n",
            "bar   A  1.596297  0.335497\n",
            "      B  0.367614  0.192000\n",
            "baz   A  0.958748  1.046048\n",
            "      B -0.375480  1.144755\n",
            "\n"
          ],
          "name": "stdout"
        }
      ]
    },
    {
      "cell_type": "code",
      "metadata": {
        "id": "pTJ9YZz2eID2",
        "colab": {
          "base_uri": "https://localhost:8080/",
          "height": 601
        },
        "outputId": "3cbf4890-815f-4937-8ae1-54551a457d25"
      },
      "source": [
        "# Pivot Tables (피봇 테이블)\n",
        "\n",
        "import pandas as pd\n",
        "import numpy as np\n",
        "\n",
        "df = pd.DataFrame(\n",
        "    {\n",
        "        'A' : ['one', 'one', 'two', 'three'] * 3,\n",
        "        'B' : ['A', 'B', 'C'] * 4,\n",
        "        'C' : ['foo', 'foo', 'foo', 'bar', 'bar', 'bar' ] * 2,\n",
        "        'D' : np.random.randn(12),\n",
        "        'E' : np.random.randn(12)\n",
        "    }\n",
        ")\n",
        "\n",
        "print(df);print()\n",
        "\n",
        "pd.pivot_table(df, values = 'D', index = ['A', 'B'], columns = ['C']) # 이 데이터로부터 피봇 테이블을 매우 쉽게 생성"
      ],
      "execution_count": null,
      "outputs": [
        {
          "output_type": "stream",
          "text": [
            "        A  B    C         D         E\n",
            "0     one  A  foo  0.314634  0.728897\n",
            "1     one  B  foo -0.303139  0.386372\n",
            "2     two  C  foo -0.953533  0.183645\n",
            "3   three  A  bar -0.047209 -1.414343\n",
            "4     one  B  bar  0.096870 -0.292166\n",
            "5     one  C  bar  0.244779 -0.721200\n",
            "6     two  A  foo  1.343924 -1.194845\n",
            "7   three  B  foo  1.517252  1.192125\n",
            "8     one  C  foo  1.954247 -0.258888\n",
            "9     one  A  bar  0.925715  1.675963\n",
            "10    two  B  bar  1.974402 -0.599566\n",
            "11  three  C  bar -0.689773  0.623573\n",
            "\n"
          ],
          "name": "stdout"
        },
        {
          "output_type": "execute_result",
          "data": {
            "text/html": [
              "<div>\n",
              "<style scoped>\n",
              "    .dataframe tbody tr th:only-of-type {\n",
              "        vertical-align: middle;\n",
              "    }\n",
              "\n",
              "    .dataframe tbody tr th {\n",
              "        vertical-align: top;\n",
              "    }\n",
              "\n",
              "    .dataframe thead th {\n",
              "        text-align: right;\n",
              "    }\n",
              "</style>\n",
              "<table border=\"1\" class=\"dataframe\">\n",
              "  <thead>\n",
              "    <tr style=\"text-align: right;\">\n",
              "      <th></th>\n",
              "      <th>C</th>\n",
              "      <th>bar</th>\n",
              "      <th>foo</th>\n",
              "    </tr>\n",
              "    <tr>\n",
              "      <th>A</th>\n",
              "      <th>B</th>\n",
              "      <th></th>\n",
              "      <th></th>\n",
              "    </tr>\n",
              "  </thead>\n",
              "  <tbody>\n",
              "    <tr>\n",
              "      <th rowspan=\"3\" valign=\"top\">one</th>\n",
              "      <th>A</th>\n",
              "      <td>0.925715</td>\n",
              "      <td>0.314634</td>\n",
              "    </tr>\n",
              "    <tr>\n",
              "      <th>B</th>\n",
              "      <td>0.096870</td>\n",
              "      <td>-0.303139</td>\n",
              "    </tr>\n",
              "    <tr>\n",
              "      <th>C</th>\n",
              "      <td>0.244779</td>\n",
              "      <td>1.954247</td>\n",
              "    </tr>\n",
              "    <tr>\n",
              "      <th rowspan=\"3\" valign=\"top\">three</th>\n",
              "      <th>A</th>\n",
              "      <td>-0.047209</td>\n",
              "      <td>NaN</td>\n",
              "    </tr>\n",
              "    <tr>\n",
              "      <th>B</th>\n",
              "      <td>NaN</td>\n",
              "      <td>1.517252</td>\n",
              "    </tr>\n",
              "    <tr>\n",
              "      <th>C</th>\n",
              "      <td>-0.689773</td>\n",
              "      <td>NaN</td>\n",
              "    </tr>\n",
              "    <tr>\n",
              "      <th rowspan=\"3\" valign=\"top\">two</th>\n",
              "      <th>A</th>\n",
              "      <td>NaN</td>\n",
              "      <td>1.343924</td>\n",
              "    </tr>\n",
              "    <tr>\n",
              "      <th>B</th>\n",
              "      <td>1.974402</td>\n",
              "      <td>NaN</td>\n",
              "    </tr>\n",
              "    <tr>\n",
              "      <th>C</th>\n",
              "      <td>NaN</td>\n",
              "      <td>-0.953533</td>\n",
              "    </tr>\n",
              "  </tbody>\n",
              "</table>\n",
              "</div>"
            ],
            "text/plain": [
              "C             bar       foo\n",
              "A     B                    \n",
              "one   A  0.925715  0.314634\n",
              "      B  0.096870 -0.303139\n",
              "      C  0.244779  1.954247\n",
              "three A -0.047209       NaN\n",
              "      B       NaN  1.517252\n",
              "      C -0.689773       NaN\n",
              "two   A       NaN  1.343924\n",
              "      B  1.974402       NaN\n",
              "      C       NaN -0.953533"
            ]
          },
          "metadata": {
            "tags": []
          },
          "execution_count": 25
        }
      ]
    },
    {
      "cell_type": "markdown",
      "metadata": {
        "id": "MlxT5ScCi53q"
      },
      "source": [
        "# 9. Time Series (시계열)"
      ]
    },
    {
      "cell_type": "markdown",
      "metadata": {
        "id": "NAMQET3Wi_Gh"
      },
      "source": [
        "- Pandas는 자주 일어나는 변환 사이에 수행하는 리샘플링 연산을 위한 간단하고, 강력하며, 효율적인 함수 제공\n",
        "- 예 : 5분마다 일어나는 데이터에 대한 2차 데이터 변환\n",
        "- 재무(금융) 응용에서 매우 일반적"
      ]
    },
    {
      "cell_type": "code",
      "metadata": {
        "id": "1jGATTGoiO3m",
        "colab": {
          "base_uri": "https://localhost:8080/"
        },
        "outputId": "bb32f47f-6698-4c7d-befe-51ffb467c358"
      },
      "source": [
        "import pandas as pd\n",
        "import numpy as np\n",
        "\n",
        "rng = pd.date_range('11/14/2020', periods=100, freq='S') # 1s당 100개 데이터 뽑음. \n",
        "# 출력 예) 2020-11-14 00:00:00 ~ 2020-11-14 00:01:39 총 100개\n",
        "\n",
        "# np.random.randint() => low:0, high:500, size:100개\n",
        "ts = pd.Series(np.random.randint(0, 500, len(rng)), index = rng) \n",
        "\n",
        "# resample => https://rfriend.tistory.com/494\n",
        "print(ts.resample('5min').sum());print()\n"
      ],
      "execution_count": null,
      "outputs": [
        {
          "output_type": "stream",
          "text": [
            "2020-11-14    23378\n",
            "Freq: 5T, dtype: int64\n",
            "\n"
          ],
          "name": "stdout"
        }
      ]
    },
    {
      "cell_type": "code",
      "metadata": {
        "id": "nsWrDNvSkFM3",
        "colab": {
          "base_uri": "https://localhost:8080/"
        },
        "outputId": "bc94a4f6-334d-4664-f268-27dba203ee7b"
      },
      "source": [
        "# 시간대 표현\n",
        "\n",
        "import pandas as pd\n",
        "import numpy as np\n",
        "\n",
        "rng = pd.date_range('11/14/2020', periods=5, freq='D') # 1일당 5개 데이터 뽑음 \n",
        "\n",
        "ts = pd.Series(np.random.randn(len(rng)), rng)\n",
        "\n",
        "print(ts);print()\n",
        "\n",
        "ts_utc = ts.tz_localize('UTC') # UTC 시간 표현\n",
        "print(ts_utc);print()\n",
        "\n",
        "# https://rfriend.tistory.com/505\n",
        "ts_utc_us=ts_utc.tz_convert('Asia/Seoul') # 다른 시간대로 변환\n",
        "print(ts_utc_us);print()\n",
        "\n"
      ],
      "execution_count": null,
      "outputs": [
        {
          "output_type": "stream",
          "text": [
            "2020-11-14    0.255103\n",
            "2020-11-15    0.118686\n",
            "2020-11-16   -1.252450\n",
            "2020-11-17    1.309835\n",
            "2020-11-18    0.642705\n",
            "Freq: D, dtype: float64\n",
            "\n",
            "2020-11-14 00:00:00+00:00    0.255103\n",
            "2020-11-15 00:00:00+00:00    0.118686\n",
            "2020-11-16 00:00:00+00:00   -1.252450\n",
            "2020-11-17 00:00:00+00:00    1.309835\n",
            "2020-11-18 00:00:00+00:00    0.642705\n",
            "Freq: D, dtype: float64\n",
            "\n",
            "2020-11-14 09:00:00+09:00    0.255103\n",
            "2020-11-15 09:00:00+09:00    0.118686\n",
            "2020-11-16 09:00:00+09:00   -1.252450\n",
            "2020-11-17 09:00:00+09:00    1.309835\n",
            "2020-11-18 09:00:00+09:00    0.642705\n",
            "Freq: D, dtype: float64\n"
          ],
          "name": "stdout"
        }
      ]
    },
    {
      "cell_type": "code",
      "metadata": {
        "id": "vEpgtJTEn6-5",
        "colab": {
          "base_uri": "https://localhost:8080/"
        },
        "outputId": "09eb153b-4598-4ab8-d66c-aed77d1244af"
      },
      "source": [
        "# 시간표현 <-> 기간 표현으로 반환\n",
        "\n",
        "import pandas as pd\n",
        "import numpy as np\n",
        "\n",
        "rng = pd.date_range('11/14/2020', periods=5, freq='M') # 월별 5개 데이터 뽑음 \n",
        "\n",
        "ts = pd.Series(np.random.randn(len(rng)), rng)\n",
        "\n",
        "print(ts);print()\n",
        "\n",
        "ps = ts.to_period()\n",
        "print(ps);print()\n",
        "\n",
        "print(ps.to_timestamp())"
      ],
      "execution_count": null,
      "outputs": [
        {
          "output_type": "stream",
          "text": [
            "2020-11-30    0.092635\n",
            "2020-12-31   -1.302089\n",
            "2021-01-31    0.627885\n",
            "2021-02-28   -0.992061\n",
            "2021-03-31    0.492103\n",
            "Freq: M, dtype: float64\n",
            "\n",
            "2020-11    0.092635\n",
            "2020-12   -1.302089\n",
            "2021-01    0.627885\n",
            "2021-02   -0.992061\n",
            "2021-03    0.492103\n",
            "Freq: M, dtype: float64\n",
            "\n",
            "2020-11-01    0.092635\n",
            "2020-12-01   -1.302089\n",
            "2021-01-01    0.627885\n",
            "2021-02-01   -0.992061\n",
            "2021-03-01    0.492103\n",
            "Freq: MS, dtype: float64\n"
          ],
          "name": "stdout"
        }
      ]
    },
    {
      "cell_type": "code",
      "metadata": {
        "id": "JuZl27virnLk",
        "colab": {
          "base_uri": "https://localhost:8080/"
        },
        "outputId": "40b952e0-9005-4f63-89ed-01d1038eb944"
      },
      "source": [
        "# 기간 <-> 시간 변환은 편리한 산술 기능들을 사용할 수 있도록 만들어 줌.\n",
        "# 예제 : 11월에 끝나는 연말 결산의 분기별 빈도를 분기말 익월의 월말일 오전 9시로 변환\n",
        "\n",
        "import pandas as pd\n",
        "import numpy as np\n",
        "\n",
        "# https://rfriend.tistory.com/503\n",
        "prng = pd.period_range('1990Q1', '2020Q4', freq='Q-NOV')\n",
        "print(prng);print()\n",
        "\n",
        "ts = pd.Series(np.random.randn(len(prng)), prng)\n",
        "\n",
        "# https://rfriend.tistory.com/506\n",
        "ts.index = (prng.asfreq('M', 'e') + 1).asfreq('H', 's') + 9\n",
        "ts.index"
      ],
      "execution_count": null,
      "outputs": [
        {
          "output_type": "stream",
          "text": [
            "PeriodIndex(['1990Q1', '1990Q2', '1990Q3', '1990Q4', '1991Q1', '1991Q2',\n",
            "             '1991Q3', '1991Q4', '1992Q1', '1992Q2',\n",
            "             ...\n",
            "             '2018Q3', '2018Q4', '2019Q1', '2019Q2', '2019Q3', '2019Q4',\n",
            "             '2020Q1', '2020Q2', '2020Q3', '2020Q4'],\n",
            "            dtype='period[Q-NOV]', length=124, freq='Q-NOV')\n",
            "\n"
          ],
          "name": "stdout"
        },
        {
          "output_type": "execute_result",
          "data": {
            "text/plain": [
              "PeriodIndex(['1990-03-01 09:00', '1990-06-01 09:00', '1990-09-01 09:00',\n",
              "             '1990-12-01 09:00', '1991-03-01 09:00', '1991-06-01 09:00',\n",
              "             '1991-09-01 09:00', '1991-12-01 09:00', '1992-03-01 09:00',\n",
              "             '1992-06-01 09:00',\n",
              "             ...\n",
              "             '2018-09-01 09:00', '2018-12-01 09:00', '2019-03-01 09:00',\n",
              "             '2019-06-01 09:00', '2019-09-01 09:00', '2019-12-01 09:00',\n",
              "             '2020-03-01 09:00', '2020-06-01 09:00', '2020-09-01 09:00',\n",
              "             '2020-12-01 09:00'],\n",
              "            dtype='period[H]', length=124, freq='H')"
            ]
          },
          "metadata": {
            "tags": []
          },
          "execution_count": 19
        }
      ]
    },
    {
      "cell_type": "markdown",
      "metadata": {
        "id": "MGimGZkiwUmp"
      },
      "source": [
        "# 10. Categoricals (범주화)"
      ]
    },
    {
      "cell_type": "code",
      "metadata": {
        "id": "gHJ9SS5jshCw",
        "colab": {
          "base_uri": "https://localhost:8080/"
        },
        "outputId": "a9a5d5c8-e813-479b-ce31-420f72c9a9a9"
      },
      "source": [
        "import pandas as pd\n",
        "import numpy as np\n",
        "\n",
        "df = pd.DataFrame({\n",
        "    \"id\":[1, 2, 3, 4, 5, 6],\n",
        "    \"raw_grade\":['a', 'b', 'b', 'a', 'a', 'e']\n",
        "})\n",
        "print(df);print()\n",
        "\n",
        "# 가공하지 않은 성적을 범주형 데이터로 변환\n",
        "df[\"grade\"] = df[\"raw_grade\"].astype(\"category\")\n",
        "print(df[\"grade\"]);print()\n",
        "\n",
        "# 범주에 더 의미 있는 이름을 붙여주기 : (Series.cat.categories)로 할당하는 것이 적합.\n",
        "df[\"grade\"].cat.categories = [\"very good\", \"good\", \"very bad\"]\n",
        "print(df[\"grade\"]);print()\n",
        "\n",
        "# 범주의 순서를 바꾸고 동시에 누락된 범주를 추가\n",
        "# Series.cat에 속하는 메소드는 기본적으로 새로운 Series를 반환\n",
        "df['grade'] = df['grade'].cat.set_categories(['very bad', 'bad', 'medium', 'good', 'very good'])\n",
        "print(df[\"grade\"]);print()\n",
        "\n",
        "# 정렬은 사전 순서가 아닌, 해당 범주에서 지정된 순서대로 배열\n",
        "print(df.sort_values(by='grade'));print()\n",
        "\n",
        "# 범주의 열을 기준으로 그룹화하면 빈 범주도 표시\n",
        "df.groupby('grade').size()"
      ],
      "execution_count": null,
      "outputs": [
        {
          "output_type": "stream",
          "text": [
            "   id raw_grade\n",
            "0   1         a\n",
            "1   2         b\n",
            "2   3         b\n",
            "3   4         a\n",
            "4   5         a\n",
            "5   6         e\n",
            "\n",
            "0    a\n",
            "1    b\n",
            "2    b\n",
            "3    a\n",
            "4    a\n",
            "5    e\n",
            "Name: grade, dtype: category\n",
            "Categories (3, object): ['a', 'b', 'e']\n",
            "\n",
            "0    very good\n",
            "1         good\n",
            "2         good\n",
            "3    very good\n",
            "4    very good\n",
            "5     very bad\n",
            "Name: grade, dtype: category\n",
            "Categories (3, object): ['very good', 'good', 'very bad']\n",
            "\n",
            "0    very good\n",
            "1         good\n",
            "2         good\n",
            "3    very good\n",
            "4    very good\n",
            "5     very bad\n",
            "Name: grade, dtype: category\n",
            "Categories (5, object): ['very bad', 'bad', 'medium', 'good', 'very good']\n",
            "\n",
            "   id raw_grade      grade\n",
            "5   6         e   very bad\n",
            "1   2         b       good\n",
            "2   3         b       good\n",
            "0   1         a  very good\n",
            "3   4         a  very good\n",
            "4   5         a  very good\n",
            "\n"
          ],
          "name": "stdout"
        },
        {
          "output_type": "execute_result",
          "data": {
            "text/plain": [
              "grade\n",
              "very bad     1\n",
              "bad          0\n",
              "medium       0\n",
              "good         2\n",
              "very good    3\n",
              "dtype: int64"
            ]
          },
          "metadata": {
            "tags": []
          },
          "execution_count": 37
        }
      ]
    },
    {
      "cell_type": "markdown",
      "metadata": {
        "id": "E8U7AB240gwR"
      },
      "source": [
        "# 11. Plotting (그래프)"
      ]
    },
    {
      "cell_type": "code",
      "metadata": {
        "id": "4awlz4P9w8Dn",
        "colab": {
          "base_uri": "https://localhost:8080/",
          "height": 277
        },
        "outputId": "61e52b4e-b36d-4988-ff83-fc5733c0f6b2"
      },
      "source": [
        "import pandas as pd\n",
        "import numpy as np\n",
        "import matplotlib.pyplot as plt\n",
        "\n",
        "ts = pd.Series(np.random.randn(1000), index=pd.date_range('11/14/2020', periods=1000))\n",
        "\n",
        "ts = ts.cumsum() # cumsum() 함수 : 배열에서 주어진 축에 따라 누적되는 원소들의 누적 합을 계산\n",
        "\n",
        "ts.plot()\n",
        "\n",
        "plt.show()"
      ],
      "execution_count": null,
      "outputs": [
        {
          "output_type": "display_data",
          "data": {
            "image/png": "[encoded data removed]",
            "text/plain": [
              "<Figure size 432x288 with 1 Axes>"
            ]
          },
          "metadata": {
            "tags": [],
            "needs_background": "light"
          }
        }
      ]
    },
    {
      "cell_type": "code",
      "metadata": {
        "id": "Y4vqTSGl1Nhm",
        "colab": {
          "base_uri": "https://localhost:8080/",
          "height": 295
        },
        "outputId": "55755029-9e6b-4790-c9a7-334d53ae5df5"
      },
      "source": [
        "# 데이터프레임에서 plot()함수는 라벨이 존재하는 모든 열을 그릴 때 편리\n",
        "\n",
        "import pandas as pd\n",
        "import numpy as np\n",
        "import matplotlib.pyplot as plt\n",
        "\n",
        "ts = pd.Series(np.random.randn(1000), index=pd.date_range('11/14/2020', periods=1000))\n",
        "df = pd.DataFrame(np.random.randn(1000, 4), index=ts.index, columns = ['A', 'B', 'C', 'D'])\n",
        "\n",
        "df = df.cumsum()\n",
        "\n",
        "plt.figure()\n",
        "\n",
        "df.plot()\n",
        "\n",
        "plt.legend(loc='best')\n",
        "\n",
        "plt.show()"
      ],
      "execution_count": null,
      "outputs": [
        {
          "output_type": "display_data",
          "data": {
            "text/plain": [
              "<Figure size 432x288 with 0 Axes>"
            ]
          },
          "metadata": {
            "tags": []
          }
        },
        {
          "output_type": "display_data",
          "data": {
            "image/png": "[encoded data removed]",
            "text/plain": [
              "<Figure size 432x288 with 1 Axes>"
            ]
          },
          "metadata": {
            "tags": [],
            "needs_background": "light"
          }
        }
      ]
    },
    {
      "cell_type": "markdown",
      "metadata": {
        "id": "GWaE2iWM2rio"
      },
      "source": [
        "# 12. Getting Data In / Out (데이터 입 / 출력)"
      ]
    },
    {
      "cell_type": "markdown",
      "metadata": {
        "id": "aZkFrZy42ybn"
      },
      "source": [
        "- CSV : csv 파일 쓰기 / 읽기\n",
        "  - df.to_csv('foo.csv') : 파일 쓰기\n",
        "  - df.read_csv('foo.csv') : 파일 읽기\n",
        "- HDF5 : HDFStores에 쓰기 /읽기\n",
        "  - df.to_hdf('foo.h5','df') : 파일 쓰기\n",
        "  - df.read_hdf('foo.h5','df') : 파일 읽기\n",
        "- Excel : MS Excel 파일 쓰기 / 읽기\n",
        "  - df.to_excel('foo.xlsx', sheet_name='Sheet1') : 파일 쓰기\n",
        "  - df.read_excel('foo.xlsx', 'Sheet1', index_col=None, na_values=['NA'])\n"
      ]
    },
    {
      "cell_type": "markdown",
      "metadata": {
        "id": "QAh-LZ_s7Udg"
      },
      "source": [
        "# 13. Gotchas (잡았다!)"
      ]
    },
    {
      "cell_type": "code",
      "metadata": {
        "id": "hRFhDBHn2OSj",
        "colab": {
          "base_uri": "https://localhost:8080/",
          "height": 322
        },
        "outputId": "a45a9c66-b930-4f07-9018-49c289413522"
      },
      "source": [
        "if pd.Series([False, True, False]):\n",
        "  print(\"I was true\")\n",
        "\n",
        "# 오류 발생"
      ],
      "execution_count": null,
      "outputs": [
        {
          "output_type": "error",
          "ename": "ValueError",
          "evalue": "ignored",
          "traceback": [
            "\u001b[0;31m---------------------------------------------------------------------------\u001b[0m",
            "\u001b[0;31mValueError\u001b[0m                                Traceback (most recent call last)",
            "\u001b[0;32m<ipython-input-46-06fa23a4b3e2>\u001b[0m in \u001b[0;36m<module>\u001b[0;34m()\u001b[0m\n\u001b[0;32m----> 1\u001b[0;31m \u001b[0;32mif\u001b[0m \u001b[0mpd\u001b[0m\u001b[0;34m.\u001b[0m\u001b[0mSeries\u001b[0m\u001b[0;34m(\u001b[0m\u001b[0;34m[\u001b[0m\u001b[0;32mFalse\u001b[0m\u001b[0;34m,\u001b[0m \u001b[0;32mTrue\u001b[0m\u001b[0;34m,\u001b[0m \u001b[0;32mFalse\u001b[0m\u001b[0;34m]\u001b[0m\u001b[0;34m)\u001b[0m\u001b[0;34m:\u001b[0m\u001b[0;34m\u001b[0m\u001b[0;34m\u001b[0m\u001b[0m\n\u001b[0m\u001b[1;32m      2\u001b[0m   \u001b[0mprint\u001b[0m\u001b[0;34m(\u001b[0m\u001b[0;34m\"I was true\"\u001b[0m\u001b[0;34m)\u001b[0m\u001b[0;34m\u001b[0m\u001b[0;34m\u001b[0m\u001b[0m\n",
            "\u001b[0;32m/usr/local/lib/python3.6/dist-packages/pandas/core/generic.py\u001b[0m in \u001b[0;36m__nonzero__\u001b[0;34m(self)\u001b[0m\n\u001b[1;32m   1328\u001b[0m     \u001b[0;32mdef\u001b[0m \u001b[0m__nonzero__\u001b[0m\u001b[0;34m(\u001b[0m\u001b[0mself\u001b[0m\u001b[0;34m)\u001b[0m\u001b[0;34m:\u001b[0m\u001b[0;34m\u001b[0m\u001b[0;34m\u001b[0m\u001b[0m\n\u001b[1;32m   1329\u001b[0m         raise ValueError(\n\u001b[0;32m-> 1330\u001b[0;31m             \u001b[0;34mf\"The truth value of a {type(self).__name__} is ambiguous. \"\u001b[0m\u001b[0;34m\u001b[0m\u001b[0;34m\u001b[0m\u001b[0m\n\u001b[0m\u001b[1;32m   1331\u001b[0m             \u001b[0;34m\"Use a.empty, a.bool(), a.item(), a.any() or a.all().\"\u001b[0m\u001b[0;34m\u001b[0m\u001b[0;34m\u001b[0m\u001b[0m\n\u001b[1;32m   1332\u001b[0m         )\n",
            "\u001b[0;31mValueError\u001b[0m: The truth value of a Series is ambiguous. Use a.empty, a.bool(), a.item(), a.any() or a.all()."
          ]
        }
      ]
    },
    {
      "cell_type": "code",
      "metadata": {
        "id": "3LC1PrJ97f1h",
        "colab": {
          "base_uri": "https://localhost:8080/"
        },
        "outputId": "b9674b03-4628-4fc0-87bc-64eff2f3bc10"
      },
      "source": [
        "# 오류 해결 : any(), all(), empty 등을 사용. \n",
        "# 무엇을 원하는지를 선택 (반영) 해주어야 함.\n",
        "\n",
        "if pd.Series([False, True, False]) is not None:\n",
        "  print(\"I was not None\")"
      ],
      "execution_count": null,
      "outputs": [
        {
          "output_type": "stream",
          "text": [
            "I was not None\n"
          ],
          "name": "stdout"
        }
      ]
    }
  ]
}