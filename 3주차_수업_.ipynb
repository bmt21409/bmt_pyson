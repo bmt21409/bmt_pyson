{
  "nbformat": 4,
  "nbformat_minor": 0,
  "metadata": {
    "colab": {
      "name": "3주차 수업 .ipynb",
      "provenance": [],
      "collapsed_sections": [],
      "authorship_tag": "ABX9TyOFcQsk7ZRCysANwpEOhdzy",
      "include_colab_link": true
    },
    "kernelspec": {
      "name": "python3",
      "display_name": "Python 3"
    },
    "language_info": {
      "name": "python"
    }
  },
  "cells": [
    {
      "cell_type": "markdown",
      "metadata": {
        "id": "view-in-github",
        "colab_type": "text"
      },
      "source": [
        "<a href=\"https://colab.research.google.com/github/bmt21409/bmt_pyson/blob/main/3%EC%A3%BC%EC%B0%A8_%EC%88%98%EC%97%85_.ipynb\" target=\"_parent\"><img src=\"https://colab.research.google.com/assets/colab-badge.svg\" alt=\"Open In Colab\"/></a>"
      ]
    },
    {
      "cell_type": "code",
      "metadata": {
        "colab": {
          "base_uri": "https://localhost:8080/"
        },
        "id": "MAnKDSjBJ78y",
        "outputId": "f26c2878-eecb-4314-9ae7-f17460a52996"
      },
      "source": [
        "from random import randint\n",
        "\n",
        "dice = randint(1,6)\n",
        "\n",
        "print(dice)\n",
        "\n"
      ],
      "execution_count": 3,
      "outputs": [
        {
          "output_type": "stream",
          "text": [
            "3\n"
          ],
          "name": "stdout"
        }
      ]
    },
    {
      "cell_type": "code",
      "metadata": {
        "colab": {
          "base_uri": "https://localhost:8080/"
        },
        "id": "8Gd-5iNDXtVF",
        "outputId": "a74207ce-93e4-4373-b769-7254d031b98f"
      },
      "source": [
        "import math\n",
        "\n",
        "print(math.sqrt(2))\n",
        "\n"
      ],
      "execution_count": 5,
      "outputs": [
        {
          "output_type": "stream",
          "text": [
            "1.4142135623730951\n"
          ],
          "name": "stdout"
        }
      ]
    },
    {
      "cell_type": "code",
      "metadata": {
        "colab": {
          "base_uri": "https://localhost:8080/"
        },
        "id": "vv5uB0b6X_8Y",
        "outputId": "428e5e95-5b34-4960-cf49-b88823c87c60"
      },
      "source": [
        "import math\n",
        "\n",
        "a = math.pi/6\n",
        "math.sin(math.pi /6)\n",
        "\n"
      ],
      "execution_count": 12,
      "outputs": [
        {
          "output_type": "execute_result",
          "data": {
            "text/plain": [
              "0.49999999999999994"
            ]
          },
          "metadata": {
            "tags": []
          },
          "execution_count": 12
        }
      ]
    },
    {
      "cell_type": "code",
      "metadata": {
        "colab": {
          "base_uri": "https://localhost:8080/"
        },
        "id": "W3lKmdT-YSPD",
        "outputId": "356242f5-2735-4ae4-fdf4-fa11a2527c5d"
      },
      "source": [
        "name = \"정글차이정글차이야야야\" \n",
        "\n",
        "for i in name:\n",
        "  print(i)\n",
        "\n",
        "\n",
        "\n",
        "\n"
      ],
      "execution_count": 14,
      "outputs": [
        {
          "output_type": "stream",
          "text": [
            "정\n",
            "글\n",
            "차\n",
            "이\n",
            "정\n",
            "글\n",
            "차\n",
            "이\n",
            "야\n",
            "야\n",
            "야\n"
          ],
          "name": "stdout"
        }
      ]
    },
    {
      "cell_type": "code",
      "metadata": {
        "colab": {
          "base_uri": "https://localhost:8080/"
        },
        "id": "tenWP47KaNbD",
        "outputId": "5e30e7f0-0fbc-4bda-e47b-10ceb16cd554"
      },
      "source": [
        "for i in name:\n",
        "  print(i, end='')"
      ],
      "execution_count": 16,
      "outputs": [
        {
          "output_type": "stream",
          "text": [
            "정글차이정글차이야야야"
          ],
          "name": "stdout"
        }
      ]
    },
    {
      "cell_type": "code",
      "metadata": {
        "colab": {
          "base_uri": "https://localhost:8080/"
        },
        "id": "Qb5l3p_Masgs",
        "outputId": "c9035724-4410-48fb-86ac-388cea266466"
      },
      "source": [
        "for i in [0, 1, 2, 3]:\n",
        "  print(i ** 2, end=' ')"
      ],
      "execution_count": 26,
      "outputs": [
        {
          "output_type": "stream",
          "text": [
            "0 1 4 9 "
          ],
          "name": "stdout"
        }
      ]
    },
    {
      "cell_type": "code",
      "metadata": {
        "colab": {
          "base_uri": "https://localhost:8080/",
          "height": 134
        },
        "id": "oDMyQstmbG8Z",
        "outputId": "8977c710-87f5-4a0a-e6d4-216e6da5d47a"
      },
      "source": [
        "for i in range(10):\n",
        "  print(f'{I}의 제곱근'(i**2):"
      ],
      "execution_count": 27,
      "outputs": [
        {
          "output_type": "error",
          "ename": "SyntaxError",
          "evalue": "ignored",
          "traceback": [
            "\u001b[0;36m  File \u001b[0;32m\"<ipython-input-27-c89d4f37c6bd>\"\u001b[0;36m, line \u001b[0;32m2\u001b[0m\n\u001b[0;31m    print(f'{I}의 제곱근'(i**2):\u001b[0m\n\u001b[0m                           ^\u001b[0m\n\u001b[0;31mSyntaxError\u001b[0m\u001b[0;31m:\u001b[0m invalid syntax\n"
          ]
        }
      ]
    },
    {
      "cell_type": "code",
      "metadata": {
        "colab": {
          "base_uri": "https://localhost:8080/"
        },
        "id": "XSLs0mVOcbRD",
        "outputId": "dad5d1cd-440f-4b93-9ed8-789010166075"
      },
      "source": [
        "type(range(10))"
      ],
      "execution_count": 30,
      "outputs": [
        {
          "output_type": "execute_result",
          "data": {
            "text/plain": [
              "range"
            ]
          },
          "metadata": {
            "tags": []
          },
          "execution_count": 30
        }
      ]
    },
    {
      "cell_type": "code",
      "metadata": {
        "colab": {
          "base_uri": "https://localhost:8080/"
        },
        "id": "5GALEs2Mb4ID",
        "outputId": "1600976c-baa0-4ef0-da86-15e361c07893"
      },
      "source": [
        "for i in range(1, 10, 5):\n",
        "  print(i**2)"
      ],
      "execution_count": 36,
      "outputs": [
        {
          "output_type": "stream",
          "text": [
            "1\n",
            "36\n"
          ],
          "name": "stdout"
        }
      ]
    },
    {
      "cell_type": "code",
      "metadata": {
        "colab": {
          "base_uri": "https://localhost:8080/"
        },
        "id": "h7IDCDTJc44D",
        "outputId": "736a73bf-38f6-429c-8dc3-fa8a425bc68f"
      },
      "source": [
        "if 10 > 0:\n",
        "  print('dkssudgktpdy')"
      ],
      "execution_count": 37,
      "outputs": [
        {
          "output_type": "stream",
          "text": [
            "dkssudgktpdy\n"
          ],
          "name": "stdout"
        }
      ]
    },
    {
      "cell_type": "code",
      "metadata": {
        "colab": {
          "base_uri": "https://localhost:8080/"
        },
        "id": "Vl4dDzxAdpJb",
        "outputId": "fcab2987-6f50-4f40-f15d-ec6ebb15f940"
      },
      "source": [
        "for _ in range(5): \n",
        "  print('안해~ ')"
      ],
      "execution_count": 47,
      "outputs": [
        {
          "output_type": "stream",
          "text": [
            "안해~ \n",
            "안해~ \n",
            "안해~ \n",
            "안해~ \n",
            "안해~ \n"
          ],
          "name": "stdout"
        }
      ]
    },
    {
      "cell_type": "code",
      "metadata": {
        "colab": {
          "base_uri": "https://localhost:8080/"
        },
        "id": "16iLSJO8dzYj",
        "outputId": "62a3a1fe-da07-47d6-f824-e6f9a7ee11e7"
      },
      "source": [
        "if 10 != 0 and 5 % 2 == 1:\n",
        "  print('안녕하세요')"
      ],
      "execution_count": 43,
      "outputs": [
        {
          "output_type": "stream",
          "text": [
            "안녕하세요\n"
          ],
          "name": "stdout"
        }
      ]
    },
    {
      "cell_type": "code",
      "metadata": {
        "colab": {
          "base_uri": "https://localhost:8080/"
        },
        "id": "qXVfwiRAeFP2",
        "outputId": "21df61ca-a525-4575-f155-805897ddffb8"
      },
      "source": [
        "password = int (input('비밀번호: '))\n",
        "\n",
        "if password == 2021:\n",
        "  print('일치')\n",
        "elif passwd == 2020:"
      ],
      "execution_count": 52,
      "outputs": [
        {
          "output_type": "stream",
          "text": [
            "비밀번호: 111\n"
          ],
          "name": "stdout"
        }
      ]
    },
    {
      "cell_type": "code",
      "metadata": {
        "colab": {
          "base_uri": "https://localhost:8080/"
        },
        "id": "sgerTUKUeZ6q",
        "outputId": "bb429501-8a1c-4d86-805a-d3113f315040"
      },
      "source": [
        "for i in range(1,10000):\n",
        "  if i == 2020:\n",
        "    print('비밀번호가 일치합니다.')\n",
        "    print(f'비밀번호는 {i}입니다.')"
      ],
      "execution_count": 55,
      "outputs": [
        {
          "output_type": "stream",
          "text": [
            "비밀번호가 일치합니다.\n",
            "비밀번호는 2020입니다.\n"
          ],
          "name": "stdout"
        }
      ]
    },
    {
      "cell_type": "code",
      "metadata": {
        "colab": {
          "base_uri": "https://localhost:8080/"
        },
        "id": "FAsaswUtfSvM",
        "outputId": "ad549424-b473-44ce-c901-9d77ce9244b8"
      },
      "source": [
        "print('[ 소름끼치도록 놀라운 심리테스트 ]')\n",
        "\n",
        "menu = input('당신이 좋아하는 음식을 입력해주세요 : ')\n",
        "\n",
        "if menu == '짜장면':\n",
        "  print(f'당신은 {menu}을 좋아하는 사람입니다.')\n",
        "elif menu == '아이스크림':\n",
        "  print(f'당신은 {menu}을 좋아하는 사람입니다.')\n",
        "elif menu == '사탕':\n",
        "  print(f'당신은 {menu}을 좋아하는 사람입니다.')\n",
        "else :\n",
        "  print(f'당신은 짜장면, 아이스크림, 사탕을 좋아하지 않는 사람입니다.')"
      ],
      "execution_count": 56,
      "outputs": [
        {
          "output_type": "stream",
          "text": [
            "[ 소름끼치도록 놀라운 심리테스트 ]\n",
            "당신이 좋아하는 음식을 입력해주세요 : ㅁㅎ\n",
            "당신은 짜장면, 아이스크림, 사탕을 좋아하지 않는 사람입니다.\n"
          ],
          "name": "stdout"
        }
      ]
    },
    {
      "cell_type": "code",
      "metadata": {
        "id": "hqZlW1JmgoY0"
      },
      "source": [
        ""
      ],
      "execution_count": 56,
      "outputs": []
    },
    {
      "cell_type": "code",
      "metadata": {
        "id": "2ZtKwMAuhRkV"
      },
      "source": [
        ""
      ],
      "execution_count": null,
      "outputs": []
    }
  ]
}