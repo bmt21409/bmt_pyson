{
  "nbformat": 4,
  "nbformat_minor": 0,
  "metadata": {
    "colab": {
      "name": "실습과제",
      "provenance": [],
      "collapsed_sections": [],
      "authorship_tag": "ABX9TyOJ0lBQr/Vv1oCg/tBO+N+X",
      "include_colab_link": true
    },
    "kernelspec": {
      "name": "python3",
      "display_name": "Python 3"
    }
  },
  "cells": [
    {
      "cell_type": "markdown",
      "metadata": {
        "id": "view-in-github",
        "colab_type": "text"
      },
      "source": [
        "<a href=\"https://colab.research.google.com/github/bmt21409/bmt_pyson/blob/main/%EC%8B%A4%EC%8A%B5%EA%B3%BC%EC%A0%9C.ipynb\" target=\"_parent\"><img src=\"https://colab.research.google.com/assets/colab-badge.svg\" alt=\"Open In Colab\"/></a>"
      ]
    },
    {
      "cell_type": "markdown",
      "metadata": {
        "id": "BAWGdQeTODhw"
      },
      "source": [
        "## 기초문법"
      ]
    },
    {
      "cell_type": "code",
      "metadata": {
        "id": "jqo502drNuCU"
      },
      "source": [
        "names = ['정밀','폴리','산설','로봇','메카','전기']"
      ],
      "execution_count": null,
      "outputs": []
    },
    {
      "cell_type": "code",
      "metadata": {
        "colab": {
          "base_uri": "https://localhost:8080/"
        },
        "id": "at3K13R6OuZI",
        "outputId": "b85bfe39-cbb0-4ed8-f787-4973997a15f8"
      },
      "source": [
        "names"
      ],
      "execution_count": null,
      "outputs": [
        {
          "output_type": "execute_result",
          "data": {
            "text/plain": [
              "['정밀', '폴리', '산설', '로봇', '메카', '전기']"
            ]
          },
          "metadata": {
            "tags": []
          },
          "execution_count": 16
        }
      ]
    },
    {
      "cell_type": "code",
      "metadata": {
        "colab": {
          "base_uri": "https://localhost:8080/",
          "height": 35
        },
        "id": "2DKqMn38OyTg",
        "outputId": "b45ed613-1d96-4f2c-decb-3d1492f05f49"
      },
      "source": [
        "names[-1]"
      ],
      "execution_count": null,
      "outputs": [
        {
          "output_type": "execute_result",
          "data": {
            "application/vnd.google.colaboratory.intrinsic+json": {
              "type": "string"
            },
            "text/plain": [
              "'전기'"
            ]
          },
          "metadata": {
            "tags": []
          },
          "execution_count": 3
        }
      ]
    },
    {
      "cell_type": "code",
      "metadata": {
        "colab": {
          "base_uri": "https://localhost:8080/",
          "height": 35
        },
        "id": "-Riervt4O5Lf",
        "outputId": "09935121-cbee-49e3-ab2d-67e4d88e9b18"
      },
      "source": [
        "names[5]"
      ],
      "execution_count": null,
      "outputs": [
        {
          "output_type": "execute_result",
          "data": {
            "application/vnd.google.colaboratory.intrinsic+json": {
              "type": "string"
            },
            "text/plain": [
              "'전기'"
            ]
          },
          "metadata": {
            "tags": []
          },
          "execution_count": 4
        }
      ]
    },
    {
      "cell_type": "code",
      "metadata": {
        "id": "Rrs2IlHMO_bv"
      },
      "source": [
        "names.append('부산기계')"
      ],
      "execution_count": null,
      "outputs": []
    },
    {
      "cell_type": "code",
      "metadata": {
        "colab": {
          "base_uri": "https://localhost:8080/"
        },
        "id": "dWqJOTWAPBh_",
        "outputId": "14aac525-cd6f-4c9c-e5b5-af70cdabf726"
      },
      "source": [
        "names"
      ],
      "execution_count": null,
      "outputs": [
        {
          "output_type": "execute_result",
          "data": {
            "text/plain": [
              "['정밀', '폴리', '산설', '로봇', '메카', '전기']"
            ]
          },
          "metadata": {
            "tags": []
          },
          "execution_count": 17
        }
      ]
    },
    {
      "cell_type": "code",
      "metadata": {
        "colab": {
          "base_uri": "https://localhost:8080/"
        },
        "id": "WL4REL2oPDvH",
        "outputId": "563e2e27-9a72-4cc8-9f53-754a93da1b17"
      },
      "source": [
        "for name in names:\r\n",
        "  if '정' in name:\r\n",
        "    print('기계과',name+' 전공')"
      ],
      "execution_count": null,
      "outputs": [
        {
          "output_type": "stream",
          "text": [
            "기계과 정밀 전공\n"
          ],
          "name": "stdout"
        }
      ]
    },
    {
      "cell_type": "code",
      "metadata": {
        "colab": {
          "base_uri": "https://localhost:8080/"
        },
        "id": "hqCj1GeVPF2Q",
        "outputId": "2057dc6a-6c5e-4a60-a490-ff582515c9ca"
      },
      "source": [
        "print(20**3)"
      ],
      "execution_count": null,
      "outputs": [
        {
          "output_type": "stream",
          "text": [
            "8000\n"
          ],
          "name": "stdout"
        }
      ]
    },
    {
      "cell_type": "code",
      "metadata": {
        "colab": {
          "base_uri": "https://localhost:8080/"
        },
        "id": "Vgh3Ds2DPHbI",
        "outputId": "bad9ea38-6ec9-4857-e39b-ebe5f223d3af"
      },
      "source": [
        "print('Hello, World!')"
      ],
      "execution_count": null,
      "outputs": [
        {
          "output_type": "stream",
          "text": [
            "Hello, World!\n"
          ],
          "name": "stdout"
        }
      ]
    },
    {
      "cell_type": "code",
      "metadata": {
        "colab": {
          "base_uri": "https://localhost:8080/"
        },
        "id": "I6Pwx50zPJK4",
        "outputId": "cce7ec73-a515-402f-e0e3-41ff2916cbb4"
      },
      "source": [
        "school=\"부산기계공고\"\r\n",
        "print(school)\r\n",
        "\r\n",
        "a=215\r\n",
        "print(a)\r\n",
        "\r\n",
        "name='전기과'\r\n",
        "print(name+'화이팅!!!')"
      ],
      "execution_count": null,
      "outputs": [
        {
          "output_type": "stream",
          "text": [
            "부산기계공고\n",
            "215\n",
            "전기과화이팅!!!\n"
          ],
          "name": "stdout"
        }
      ]
    },
    {
      "cell_type": "code",
      "metadata": {
        "colab": {
          "base_uri": "https://localhost:8080/"
        },
        "id": "AT-D9An3PK7h",
        "outputId": "643bb4e8-5931-4054-8c55-7b2ea436ba21"
      },
      "source": [
        "print(f'2021년도 {name} 화이팅!!!') #f 포매팅"
      ],
      "execution_count": null,
      "outputs": [
        {
          "output_type": "stream",
          "text": [
            "2021년도 전기과 화이팅!!!\n"
          ],
          "name": "stdout"
        }
      ]
    },
    {
      "cell_type": "code",
      "metadata": {
        "colab": {
          "base_uri": "https://localhost:8080/"
        },
        "id": "bIEVcUT3PR-n",
        "outputId": "58e58a48-ad7a-48f1-b644-ce19757c77fb"
      },
      "source": [
        "name=input()\r\n",
        "\r\n",
        "print(name+'님! 안녕하세요')"
      ],
      "execution_count": null,
      "outputs": [
        {
          "output_type": "stream",
          "text": [
            "박주형\n",
            "박주형님! 안녕하세요\n"
          ],
          "name": "stdout"
        }
      ]
    },
    {
      "cell_type": "code",
      "metadata": {
        "colab": {
          "base_uri": "https://localhost:8080/"
        },
        "id": "PY6vinFbRWKH",
        "outputId": "18531394-df1a-49ef-d269-7650a97da068"
      },
      "source": [
        "name=input('이름을 입력해 주세요:')\r\n",
        "print(name+'안녕하세요.')"
      ],
      "execution_count": null,
      "outputs": [
        {
          "output_type": "stream",
          "text": [
            "이름을 입력해 주세요:박주형\n",
            "박주형안녕하세요.\n"
          ],
          "name": "stdout"
        }
      ]
    },
    {
      "cell_type": "code",
      "metadata": {
        "colab": {
          "base_uri": "https://localhost:8080/"
        },
        "id": "eWmg7GaCRnvX",
        "outputId": "e7de3d20-92bf-45b0-eee0-1f467d3f6adf"
      },
      "source": [
        "age =float(input('나이입력: '))\r\n",
        "print(age-1)"
      ],
      "execution_count": null,
      "outputs": [
        {
          "output_type": "stream",
          "text": [
            "나이입력: 17\n",
            "16.0\n"
          ],
          "name": "stdout"
        }
      ]
    },
    {
      "cell_type": "code",
      "metadata": {
        "colab": {
          "base_uri": "https://localhost:8080/"
        },
        "id": "BmlNvqueRpZP",
        "outputId": "3853f9fa-b9d8-4c3a-e90f-cf7305b184b7"
      },
      "source": [
        "key='abcd'\r\n",
        "password=input('암호 입력(4글자):')\r\n",
        "if key == password:\r\n",
        "  print(\"암호해제\")\r\n",
        "else:\r\n",
        "    print(\"다시입력\")"
      ],
      "execution_count": null,
      "outputs": [
        {
          "output_type": "stream",
          "text": [
            "암호 입력(4글자):abcd\n",
            "암호해제\n"
          ],
          "name": "stdout"
        }
      ]
    },
    {
      "cell_type": "code",
      "metadata": {
        "id": "-8OZMMP6RrEX"
      },
      "source": [
        ""
      ],
      "execution_count": null,
      "outputs": []
    }
  ]
}