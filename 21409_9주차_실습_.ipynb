{
  "nbformat": 4,
  "nbformat_minor": 0,
  "metadata": {
    "colab": {
      "name": "21409_9주차 실습 .ipynb",
      "provenance": [],
      "collapsed_sections": [],
      "authorship_tag": "ABX9TyNkqsXVmce+pRCIE0BAtM+Y",
      "include_colab_link": true
    },
    "kernelspec": {
      "name": "python3",
      "display_name": "Python 3"
    },
    "language_info": {
      "name": "python"
    }
  },
  "cells": [
    {
      "cell_type": "markdown",
      "metadata": {
        "id": "view-in-github",
        "colab_type": "text"
      },
      "source": [
        "<a href=\"https://colab.research.google.com/github/bmt21409/bmt_pyson/blob/main/21409_9%EC%A3%BC%EC%B0%A8_%EC%8B%A4%EC%8A%B5_.ipynb\" target=\"_parent\"><img src=\"https://colab.research.google.com/assets/colab-badge.svg\" alt=\"Open In Colab\"/></a>"
      ]
    },
    {
      "cell_type": "code",
      "metadata": {
        "id": "GuzBMZTcdQr-"
      },
      "source": [
        "import pandas as pd\n",
        "import numpy as np\n",
        "import matplotlib.pyplot as plt\n"
      ],
      "execution_count": 1,
      "outputs": []
    },
    {
      "cell_type": "code",
      "metadata": {
        "colab": {
          "base_uri": "https://localhost:8080/"
        },
        "id": "C7VUb0WEfoKG",
        "outputId": "365c5d74-0fb3-458e-daab-6ff03dc5254d"
      },
      "source": [
        "s = pd.Series([1, 3, 5, np.nan, 6, 8]) \n",
        "\n",
        "print(type(s))\n",
        "print(s)"
      ],
      "execution_count": 2,
      "outputs": [
        {
          "output_type": "stream",
          "text": [
            "<class 'pandas.core.series.Series'>\n",
            "0    1.0\n",
            "1    3.0\n",
            "2    5.0\n",
            "3    NaN\n",
            "4    6.0\n",
            "5    8.0\n",
            "dtype: float64\n"
          ],
          "name": "stdout"
        }
      ]
    },
    {
      "cell_type": "code",
      "metadata": {
        "colab": {
          "base_uri": "https://localhost:8080/"
        },
        "id": "l_Rd_YHdf9GN",
        "outputId": "edfdd04f-0b0f-4be3-9e69-a320e59e2116"
      },
      "source": [
        "s"
      ],
      "execution_count": 3,
      "outputs": [
        {
          "output_type": "execute_result",
          "data": {
            "text/plain": [
              "0    1.0\n",
              "1    3.0\n",
              "2    5.0\n",
              "3    NaN\n",
              "4    6.0\n",
              "5    8.0\n",
              "dtype: float64"
            ]
          },
          "metadata": {
            "tags": []
          },
          "execution_count": 3
        }
      ]
    },
    {
      "cell_type": "code",
      "metadata": {
        "colab": {
          "base_uri": "https://localhost:8080/"
        },
        "id": "yYCzLkQCgpf0",
        "outputId": "b21d580a-f5d0-443d-d8ae-ed9a4e095557"
      },
      "source": [
        "type(s)"
      ],
      "execution_count": 4,
      "outputs": [
        {
          "output_type": "execute_result",
          "data": {
            "text/plain": [
              "pandas.core.series.Series"
            ]
          },
          "metadata": {
            "tags": []
          },
          "execution_count": 4
        }
      ]
    },
    {
      "cell_type": "code",
      "metadata": {
        "colab": {
          "base_uri": "https://localhost:8080/"
        },
        "id": "my1XfkGIg7y0",
        "outputId": "fecdc74b-3033-4c49-fbad-14bdacef5a83"
      },
      "source": [
        "type([])"
      ],
      "execution_count": 7,
      "outputs": [
        {
          "output_type": "execute_result",
          "data": {
            "text/plain": [
              "list"
            ]
          },
          "metadata": {
            "tags": []
          },
          "execution_count": 7
        }
      ]
    },
    {
      "cell_type": "code",
      "metadata": {
        "colab": {
          "base_uri": "https://localhost:8080/"
        },
        "id": "r1CjT3P-g_49",
        "outputId": "100c8c86-4a0d-439b-b22f-5e5750647cb1"
      },
      "source": [
        "dates = pd.date_range('20210430', periods=6)\n",
        "\n",
        "print(type(dates))\n",
        "print(dates)\n",
        "\n",
        "df = pd.DataFrame(np.random.randn(6,4), index=dates, columns=list('ABCD')) "
      ],
      "execution_count": 38,
      "outputs": [
        {
          "output_type": "stream",
          "text": [
            "<class 'pandas.core.indexes.datetimes.DatetimeIndex'>\n",
            "DatetimeIndex(['2021-04-30', '2021-05-01', '2021-05-02', '2021-05-03',\n",
            "               '2021-05-04', '2021-05-05'],\n",
            "              dtype='datetime64[ns]', freq='D')\n"
          ],
          "name": "stdout"
        }
      ]
    },
    {
      "cell_type": "code",
      "metadata": {
        "colab": {
          "base_uri": "https://localhost:8080/",
          "height": 235
        },
        "id": "7t9SLG1OhbHd",
        "outputId": "42d20eec-9bbf-4530-ce10-3b33a7d00b01"
      },
      "source": [
        "df"
      ],
      "execution_count": 39,
      "outputs": [
        {
          "output_type": "execute_result",
          "data": {
            "text/html": [
              "<div>\n",
              "<style scoped>\n",
              "    .dataframe tbody tr th:only-of-type {\n",
              "        vertical-align: middle;\n",
              "    }\n",
              "\n",
              "    .dataframe tbody tr th {\n",
              "        vertical-align: top;\n",
              "    }\n",
              "\n",
              "    .dataframe thead th {\n",
              "        text-align: right;\n",
              "    }\n",
              "</style>\n",
              "<table border=\"1\" class=\"dataframe\">\n",
              "  <thead>\n",
              "    <tr style=\"text-align: right;\">\n",
              "      <th></th>\n",
              "      <th>A</th>\n",
              "      <th>B</th>\n",
              "      <th>C</th>\n",
              "      <th>D</th>\n",
              "    </tr>\n",
              "  </thead>\n",
              "  <tbody>\n",
              "    <tr>\n",
              "      <th>2021-04-30</th>\n",
              "      <td>0.352021</td>\n",
              "      <td>-2.203265</td>\n",
              "      <td>-1.316091</td>\n",
              "      <td>1.607138</td>\n",
              "    </tr>\n",
              "    <tr>\n",
              "      <th>2021-05-01</th>\n",
              "      <td>-1.137996</td>\n",
              "      <td>0.890365</td>\n",
              "      <td>0.026084</td>\n",
              "      <td>0.020032</td>\n",
              "    </tr>\n",
              "    <tr>\n",
              "      <th>2021-05-02</th>\n",
              "      <td>0.094112</td>\n",
              "      <td>0.565322</td>\n",
              "      <td>0.092218</td>\n",
              "      <td>-2.480276</td>\n",
              "    </tr>\n",
              "    <tr>\n",
              "      <th>2021-05-03</th>\n",
              "      <td>-0.955251</td>\n",
              "      <td>-0.742422</td>\n",
              "      <td>-1.490762</td>\n",
              "      <td>-0.301218</td>\n",
              "    </tr>\n",
              "    <tr>\n",
              "      <th>2021-05-04</th>\n",
              "      <td>0.995478</td>\n",
              "      <td>-1.084858</td>\n",
              "      <td>-0.291364</td>\n",
              "      <td>0.685045</td>\n",
              "    </tr>\n",
              "    <tr>\n",
              "      <th>2021-05-05</th>\n",
              "      <td>0.344454</td>\n",
              "      <td>-0.037259</td>\n",
              "      <td>2.203731</td>\n",
              "      <td>1.671975</td>\n",
              "    </tr>\n",
              "  </tbody>\n",
              "</table>\n",
              "</div>"
            ],
            "text/plain": [
              "                   A         B         C         D\n",
              "2021-04-30  0.352021 -2.203265 -1.316091  1.607138\n",
              "2021-05-01 -1.137996  0.890365  0.026084  0.020032\n",
              "2021-05-02  0.094112  0.565322  0.092218 -2.480276\n",
              "2021-05-03 -0.955251 -0.742422 -1.490762 -0.301218\n",
              "2021-05-04  0.995478 -1.084858 -0.291364  0.685045\n",
              "2021-05-05  0.344454 -0.037259  2.203731  1.671975"
            ]
          },
          "metadata": {
            "tags": []
          },
          "execution_count": 39
        }
      ]
    },
    {
      "cell_type": "code",
      "metadata": {
        "colab": {
          "base_uri": "https://localhost:8080/"
        },
        "id": "f-OoXSjMiGqE",
        "outputId": "39b52afc-c914-4221-8984-f68148ca135a"
      },
      "source": [
        "np.random.randn(6,4)"
      ],
      "execution_count": 40,
      "outputs": [
        {
          "output_type": "execute_result",
          "data": {
            "text/plain": [
              "array([[-0.47421525, -0.76682373, -0.86147466,  2.45486916],\n",
              "       [-0.7769142 ,  1.50805319,  0.22440695, -1.37466231],\n",
              "       [-0.19073187,  0.11460914,  1.0115957 , -1.40466076],\n",
              "       [ 0.01104934,  0.25539138, -1.77951748,  2.02713138],\n",
              "       [-1.05517267,  0.11410557,  0.11027736, -1.18139211],\n",
              "       [ 0.35841936,  0.24084669, -0.24293455,  2.36761195]])"
            ]
          },
          "metadata": {
            "tags": []
          },
          "execution_count": 40
        }
      ]
    },
    {
      "cell_type": "code",
      "metadata": {
        "colab": {
          "base_uri": "https://localhost:8080/",
          "height": 281
        },
        "id": "AbuIQfHLjcrt",
        "outputId": "3fa1db3d-eedf-452f-a12c-545c23c2d2c4"
      },
      "source": [
        "\n",
        "df2 = pd.DataFrame(\n",
        "    {\n",
        "        'A': 1.,\n",
        "        'B': pd.Timestamp('20210430'),\n",
        "        'C': pd.Series(1, index=list(range(4)), dtype='float32'),\n",
        "        'D': np.array([3] * 4, dtype='int32'),\n",
        "        'E': pd.Categorical([\"test\", \"train\", \"test\", \"train\"]),\n",
        "        'F': 'foo'\n",
        "     }\n",
        ")\n",
        "\n",
        "print(type(df2))\n",
        "print(df2)\n",
        "df2"
      ],
      "execution_count": 41,
      "outputs": [
        {
          "output_type": "stream",
          "text": [
            "<class 'pandas.core.frame.DataFrame'>\n",
            "     A          B    C  D      E    F\n",
            "0  1.0 2021-04-30  1.0  3   test  foo\n",
            "1  1.0 2021-04-30  1.0  3  train  foo\n",
            "2  1.0 2021-04-30  1.0  3   test  foo\n",
            "3  1.0 2021-04-30  1.0  3  train  foo\n"
          ],
          "name": "stdout"
        },
        {
          "output_type": "execute_result",
          "data": {
            "text/html": [
              "<div>\n",
              "<style scoped>\n",
              "    .dataframe tbody tr th:only-of-type {\n",
              "        vertical-align: middle;\n",
              "    }\n",
              "\n",
              "    .dataframe tbody tr th {\n",
              "        vertical-align: top;\n",
              "    }\n",
              "\n",
              "    .dataframe thead th {\n",
              "        text-align: right;\n",
              "    }\n",
              "</style>\n",
              "<table border=\"1\" class=\"dataframe\">\n",
              "  <thead>\n",
              "    <tr style=\"text-align: right;\">\n",
              "      <th></th>\n",
              "      <th>A</th>\n",
              "      <th>B</th>\n",
              "      <th>C</th>\n",
              "      <th>D</th>\n",
              "      <th>E</th>\n",
              "      <th>F</th>\n",
              "    </tr>\n",
              "  </thead>\n",
              "  <tbody>\n",
              "    <tr>\n",
              "      <th>0</th>\n",
              "      <td>1.0</td>\n",
              "      <td>2021-04-30</td>\n",
              "      <td>1.0</td>\n",
              "      <td>3</td>\n",
              "      <td>test</td>\n",
              "      <td>foo</td>\n",
              "    </tr>\n",
              "    <tr>\n",
              "      <th>1</th>\n",
              "      <td>1.0</td>\n",
              "      <td>2021-04-30</td>\n",
              "      <td>1.0</td>\n",
              "      <td>3</td>\n",
              "      <td>train</td>\n",
              "      <td>foo</td>\n",
              "    </tr>\n",
              "    <tr>\n",
              "      <th>2</th>\n",
              "      <td>1.0</td>\n",
              "      <td>2021-04-30</td>\n",
              "      <td>1.0</td>\n",
              "      <td>3</td>\n",
              "      <td>test</td>\n",
              "      <td>foo</td>\n",
              "    </tr>\n",
              "    <tr>\n",
              "      <th>3</th>\n",
              "      <td>1.0</td>\n",
              "      <td>2021-04-30</td>\n",
              "      <td>1.0</td>\n",
              "      <td>3</td>\n",
              "      <td>train</td>\n",
              "      <td>foo</td>\n",
              "    </tr>\n",
              "  </tbody>\n",
              "</table>\n",
              "</div>"
            ],
            "text/plain": [
              "     A          B    C  D      E    F\n",
              "0  1.0 2021-04-30  1.0  3   test  foo\n",
              "1  1.0 2021-04-30  1.0  3  train  foo\n",
              "2  1.0 2021-04-30  1.0  3   test  foo\n",
              "3  1.0 2021-04-30  1.0  3  train  foo"
            ]
          },
          "metadata": {
            "tags": []
          },
          "execution_count": 41
        }
      ]
    },
    {
      "cell_type": "code",
      "metadata": {
        "colab": {
          "base_uri": "https://localhost:8080/"
        },
        "id": "tDx9n9GJkN9n",
        "outputId": "57d79532-d4bc-422f-f9b6-9a90d0eab7d5"
      },
      "source": [
        "df2.dtypes"
      ],
      "execution_count": 42,
      "outputs": [
        {
          "output_type": "execute_result",
          "data": {
            "text/plain": [
              "A           float64\n",
              "B    datetime64[ns]\n",
              "C           float32\n",
              "D             int32\n",
              "E          category\n",
              "F            object\n",
              "dtype: object"
            ]
          },
          "metadata": {
            "tags": []
          },
          "execution_count": 42
        }
      ]
    },
    {
      "cell_type": "code",
      "metadata": {
        "colab": {
          "base_uri": "https://localhost:8080/",
          "height": 235
        },
        "id": "D4G84MyKlOl0",
        "outputId": "439d64df-5f91-41c6-9380-6d8806f19875"
      },
      "source": [
        "df"
      ],
      "execution_count": 43,
      "outputs": [
        {
          "output_type": "execute_result",
          "data": {
            "text/html": [
              "<div>\n",
              "<style scoped>\n",
              "    .dataframe tbody tr th:only-of-type {\n",
              "        vertical-align: middle;\n",
              "    }\n",
              "\n",
              "    .dataframe tbody tr th {\n",
              "        vertical-align: top;\n",
              "    }\n",
              "\n",
              "    .dataframe thead th {\n",
              "        text-align: right;\n",
              "    }\n",
              "</style>\n",
              "<table border=\"1\" class=\"dataframe\">\n",
              "  <thead>\n",
              "    <tr style=\"text-align: right;\">\n",
              "      <th></th>\n",
              "      <th>A</th>\n",
              "      <th>B</th>\n",
              "      <th>C</th>\n",
              "      <th>D</th>\n",
              "    </tr>\n",
              "  </thead>\n",
              "  <tbody>\n",
              "    <tr>\n",
              "      <th>2021-04-30</th>\n",
              "      <td>0.352021</td>\n",
              "      <td>-2.203265</td>\n",
              "      <td>-1.316091</td>\n",
              "      <td>1.607138</td>\n",
              "    </tr>\n",
              "    <tr>\n",
              "      <th>2021-05-01</th>\n",
              "      <td>-1.137996</td>\n",
              "      <td>0.890365</td>\n",
              "      <td>0.026084</td>\n",
              "      <td>0.020032</td>\n",
              "    </tr>\n",
              "    <tr>\n",
              "      <th>2021-05-02</th>\n",
              "      <td>0.094112</td>\n",
              "      <td>0.565322</td>\n",
              "      <td>0.092218</td>\n",
              "      <td>-2.480276</td>\n",
              "    </tr>\n",
              "    <tr>\n",
              "      <th>2021-05-03</th>\n",
              "      <td>-0.955251</td>\n",
              "      <td>-0.742422</td>\n",
              "      <td>-1.490762</td>\n",
              "      <td>-0.301218</td>\n",
              "    </tr>\n",
              "    <tr>\n",
              "      <th>2021-05-04</th>\n",
              "      <td>0.995478</td>\n",
              "      <td>-1.084858</td>\n",
              "      <td>-0.291364</td>\n",
              "      <td>0.685045</td>\n",
              "    </tr>\n",
              "    <tr>\n",
              "      <th>2021-05-05</th>\n",
              "      <td>0.344454</td>\n",
              "      <td>-0.037259</td>\n",
              "      <td>2.203731</td>\n",
              "      <td>1.671975</td>\n",
              "    </tr>\n",
              "  </tbody>\n",
              "</table>\n",
              "</div>"
            ],
            "text/plain": [
              "                   A         B         C         D\n",
              "2021-04-30  0.352021 -2.203265 -1.316091  1.607138\n",
              "2021-05-01 -1.137996  0.890365  0.026084  0.020032\n",
              "2021-05-02  0.094112  0.565322  0.092218 -2.480276\n",
              "2021-05-03 -0.955251 -0.742422 -1.490762 -0.301218\n",
              "2021-05-04  0.995478 -1.084858 -0.291364  0.685045\n",
              "2021-05-05  0.344454 -0.037259  2.203731  1.671975"
            ]
          },
          "metadata": {
            "tags": []
          },
          "execution_count": 43
        }
      ]
    },
    {
      "cell_type": "code",
      "metadata": {
        "colab": {
          "base_uri": "https://localhost:8080/",
          "height": 204
        },
        "id": "R3LjtHRhluE0",
        "outputId": "34f5c58b-2b09-492e-a70f-707c71dedb0d"
      },
      "source": [
        "df.head()"
      ],
      "execution_count": 44,
      "outputs": [
        {
          "output_type": "execute_result",
          "data": {
            "text/html": [
              "<div>\n",
              "<style scoped>\n",
              "    .dataframe tbody tr th:only-of-type {\n",
              "        vertical-align: middle;\n",
              "    }\n",
              "\n",
              "    .dataframe tbody tr th {\n",
              "        vertical-align: top;\n",
              "    }\n",
              "\n",
              "    .dataframe thead th {\n",
              "        text-align: right;\n",
              "    }\n",
              "</style>\n",
              "<table border=\"1\" class=\"dataframe\">\n",
              "  <thead>\n",
              "    <tr style=\"text-align: right;\">\n",
              "      <th></th>\n",
              "      <th>A</th>\n",
              "      <th>B</th>\n",
              "      <th>C</th>\n",
              "      <th>D</th>\n",
              "    </tr>\n",
              "  </thead>\n",
              "  <tbody>\n",
              "    <tr>\n",
              "      <th>2021-04-30</th>\n",
              "      <td>0.352021</td>\n",
              "      <td>-2.203265</td>\n",
              "      <td>-1.316091</td>\n",
              "      <td>1.607138</td>\n",
              "    </tr>\n",
              "    <tr>\n",
              "      <th>2021-05-01</th>\n",
              "      <td>-1.137996</td>\n",
              "      <td>0.890365</td>\n",
              "      <td>0.026084</td>\n",
              "      <td>0.020032</td>\n",
              "    </tr>\n",
              "    <tr>\n",
              "      <th>2021-05-02</th>\n",
              "      <td>0.094112</td>\n",
              "      <td>0.565322</td>\n",
              "      <td>0.092218</td>\n",
              "      <td>-2.480276</td>\n",
              "    </tr>\n",
              "    <tr>\n",
              "      <th>2021-05-03</th>\n",
              "      <td>-0.955251</td>\n",
              "      <td>-0.742422</td>\n",
              "      <td>-1.490762</td>\n",
              "      <td>-0.301218</td>\n",
              "    </tr>\n",
              "    <tr>\n",
              "      <th>2021-05-04</th>\n",
              "      <td>0.995478</td>\n",
              "      <td>-1.084858</td>\n",
              "      <td>-0.291364</td>\n",
              "      <td>0.685045</td>\n",
              "    </tr>\n",
              "  </tbody>\n",
              "</table>\n",
              "</div>"
            ],
            "text/plain": [
              "                   A         B         C         D\n",
              "2021-04-30  0.352021 -2.203265 -1.316091  1.607138\n",
              "2021-05-01 -1.137996  0.890365  0.026084  0.020032\n",
              "2021-05-02  0.094112  0.565322  0.092218 -2.480276\n",
              "2021-05-03 -0.955251 -0.742422 -1.490762 -0.301218\n",
              "2021-05-04  0.995478 -1.084858 -0.291364  0.685045"
            ]
          },
          "metadata": {
            "tags": []
          },
          "execution_count": 44
        }
      ]
    },
    {
      "cell_type": "code",
      "metadata": {
        "colab": {
          "base_uri": "https://localhost:8080/",
          "height": 204
        },
        "id": "58nKIbVMlyXF",
        "outputId": "7e91c88f-fef5-4872-c9f8-ba73501a1d4f"
      },
      "source": [
        "df.tail()"
      ],
      "execution_count": 45,
      "outputs": [
        {
          "output_type": "execute_result",
          "data": {
            "text/html": [
              "<div>\n",
              "<style scoped>\n",
              "    .dataframe tbody tr th:only-of-type {\n",
              "        vertical-align: middle;\n",
              "    }\n",
              "\n",
              "    .dataframe tbody tr th {\n",
              "        vertical-align: top;\n",
              "    }\n",
              "\n",
              "    .dataframe thead th {\n",
              "        text-align: right;\n",
              "    }\n",
              "</style>\n",
              "<table border=\"1\" class=\"dataframe\">\n",
              "  <thead>\n",
              "    <tr style=\"text-align: right;\">\n",
              "      <th></th>\n",
              "      <th>A</th>\n",
              "      <th>B</th>\n",
              "      <th>C</th>\n",
              "      <th>D</th>\n",
              "    </tr>\n",
              "  </thead>\n",
              "  <tbody>\n",
              "    <tr>\n",
              "      <th>2021-05-01</th>\n",
              "      <td>-1.137996</td>\n",
              "      <td>0.890365</td>\n",
              "      <td>0.026084</td>\n",
              "      <td>0.020032</td>\n",
              "    </tr>\n",
              "    <tr>\n",
              "      <th>2021-05-02</th>\n",
              "      <td>0.094112</td>\n",
              "      <td>0.565322</td>\n",
              "      <td>0.092218</td>\n",
              "      <td>-2.480276</td>\n",
              "    </tr>\n",
              "    <tr>\n",
              "      <th>2021-05-03</th>\n",
              "      <td>-0.955251</td>\n",
              "      <td>-0.742422</td>\n",
              "      <td>-1.490762</td>\n",
              "      <td>-0.301218</td>\n",
              "    </tr>\n",
              "    <tr>\n",
              "      <th>2021-05-04</th>\n",
              "      <td>0.995478</td>\n",
              "      <td>-1.084858</td>\n",
              "      <td>-0.291364</td>\n",
              "      <td>0.685045</td>\n",
              "    </tr>\n",
              "    <tr>\n",
              "      <th>2021-05-05</th>\n",
              "      <td>0.344454</td>\n",
              "      <td>-0.037259</td>\n",
              "      <td>2.203731</td>\n",
              "      <td>1.671975</td>\n",
              "    </tr>\n",
              "  </tbody>\n",
              "</table>\n",
              "</div>"
            ],
            "text/plain": [
              "                   A         B         C         D\n",
              "2021-05-01 -1.137996  0.890365  0.026084  0.020032\n",
              "2021-05-02  0.094112  0.565322  0.092218 -2.480276\n",
              "2021-05-03 -0.955251 -0.742422 -1.490762 -0.301218\n",
              "2021-05-04  0.995478 -1.084858 -0.291364  0.685045\n",
              "2021-05-05  0.344454 -0.037259  2.203731  1.671975"
            ]
          },
          "metadata": {
            "tags": []
          },
          "execution_count": 45
        }
      ]
    },
    {
      "cell_type": "code",
      "metadata": {
        "colab": {
          "base_uri": "https://localhost:8080/",
          "height": 204
        },
        "id": "G9z78S12mJS9",
        "outputId": "59b9e172-c8f7-415b-8ebd-4f7de03f5439"
      },
      "source": [
        "df.tail(5)"
      ],
      "execution_count": 46,
      "outputs": [
        {
          "output_type": "execute_result",
          "data": {
            "text/html": [
              "<div>\n",
              "<style scoped>\n",
              "    .dataframe tbody tr th:only-of-type {\n",
              "        vertical-align: middle;\n",
              "    }\n",
              "\n",
              "    .dataframe tbody tr th {\n",
              "        vertical-align: top;\n",
              "    }\n",
              "\n",
              "    .dataframe thead th {\n",
              "        text-align: right;\n",
              "    }\n",
              "</style>\n",
              "<table border=\"1\" class=\"dataframe\">\n",
              "  <thead>\n",
              "    <tr style=\"text-align: right;\">\n",
              "      <th></th>\n",
              "      <th>A</th>\n",
              "      <th>B</th>\n",
              "      <th>C</th>\n",
              "      <th>D</th>\n",
              "    </tr>\n",
              "  </thead>\n",
              "  <tbody>\n",
              "    <tr>\n",
              "      <th>2021-05-01</th>\n",
              "      <td>-1.137996</td>\n",
              "      <td>0.890365</td>\n",
              "      <td>0.026084</td>\n",
              "      <td>0.020032</td>\n",
              "    </tr>\n",
              "    <tr>\n",
              "      <th>2021-05-02</th>\n",
              "      <td>0.094112</td>\n",
              "      <td>0.565322</td>\n",
              "      <td>0.092218</td>\n",
              "      <td>-2.480276</td>\n",
              "    </tr>\n",
              "    <tr>\n",
              "      <th>2021-05-03</th>\n",
              "      <td>-0.955251</td>\n",
              "      <td>-0.742422</td>\n",
              "      <td>-1.490762</td>\n",
              "      <td>-0.301218</td>\n",
              "    </tr>\n",
              "    <tr>\n",
              "      <th>2021-05-04</th>\n",
              "      <td>0.995478</td>\n",
              "      <td>-1.084858</td>\n",
              "      <td>-0.291364</td>\n",
              "      <td>0.685045</td>\n",
              "    </tr>\n",
              "    <tr>\n",
              "      <th>2021-05-05</th>\n",
              "      <td>0.344454</td>\n",
              "      <td>-0.037259</td>\n",
              "      <td>2.203731</td>\n",
              "      <td>1.671975</td>\n",
              "    </tr>\n",
              "  </tbody>\n",
              "</table>\n",
              "</div>"
            ],
            "text/plain": [
              "                   A         B         C         D\n",
              "2021-05-01 -1.137996  0.890365  0.026084  0.020032\n",
              "2021-05-02  0.094112  0.565322  0.092218 -2.480276\n",
              "2021-05-03 -0.955251 -0.742422 -1.490762 -0.301218\n",
              "2021-05-04  0.995478 -1.084858 -0.291364  0.685045\n",
              "2021-05-05  0.344454 -0.037259  2.203731  1.671975"
            ]
          },
          "metadata": {
            "tags": []
          },
          "execution_count": 46
        }
      ]
    },
    {
      "cell_type": "code",
      "metadata": {
        "colab": {
          "base_uri": "https://localhost:8080/",
          "height": 235
        },
        "id": "xXhrGkNUmX2F",
        "outputId": "c747e4ec-a781-42c0-cccc-551944e543be"
      },
      "source": [
        "df.head(8)"
      ],
      "execution_count": 47,
      "outputs": [
        {
          "output_type": "execute_result",
          "data": {
            "text/html": [
              "<div>\n",
              "<style scoped>\n",
              "    .dataframe tbody tr th:only-of-type {\n",
              "        vertical-align: middle;\n",
              "    }\n",
              "\n",
              "    .dataframe tbody tr th {\n",
              "        vertical-align: top;\n",
              "    }\n",
              "\n",
              "    .dataframe thead th {\n",
              "        text-align: right;\n",
              "    }\n",
              "</style>\n",
              "<table border=\"1\" class=\"dataframe\">\n",
              "  <thead>\n",
              "    <tr style=\"text-align: right;\">\n",
              "      <th></th>\n",
              "      <th>A</th>\n",
              "      <th>B</th>\n",
              "      <th>C</th>\n",
              "      <th>D</th>\n",
              "    </tr>\n",
              "  </thead>\n",
              "  <tbody>\n",
              "    <tr>\n",
              "      <th>2021-04-30</th>\n",
              "      <td>0.352021</td>\n",
              "      <td>-2.203265</td>\n",
              "      <td>-1.316091</td>\n",
              "      <td>1.607138</td>\n",
              "    </tr>\n",
              "    <tr>\n",
              "      <th>2021-05-01</th>\n",
              "      <td>-1.137996</td>\n",
              "      <td>0.890365</td>\n",
              "      <td>0.026084</td>\n",
              "      <td>0.020032</td>\n",
              "    </tr>\n",
              "    <tr>\n",
              "      <th>2021-05-02</th>\n",
              "      <td>0.094112</td>\n",
              "      <td>0.565322</td>\n",
              "      <td>0.092218</td>\n",
              "      <td>-2.480276</td>\n",
              "    </tr>\n",
              "    <tr>\n",
              "      <th>2021-05-03</th>\n",
              "      <td>-0.955251</td>\n",
              "      <td>-0.742422</td>\n",
              "      <td>-1.490762</td>\n",
              "      <td>-0.301218</td>\n",
              "    </tr>\n",
              "    <tr>\n",
              "      <th>2021-05-04</th>\n",
              "      <td>0.995478</td>\n",
              "      <td>-1.084858</td>\n",
              "      <td>-0.291364</td>\n",
              "      <td>0.685045</td>\n",
              "    </tr>\n",
              "    <tr>\n",
              "      <th>2021-05-05</th>\n",
              "      <td>0.344454</td>\n",
              "      <td>-0.037259</td>\n",
              "      <td>2.203731</td>\n",
              "      <td>1.671975</td>\n",
              "    </tr>\n",
              "  </tbody>\n",
              "</table>\n",
              "</div>"
            ],
            "text/plain": [
              "                   A         B         C         D\n",
              "2021-04-30  0.352021 -2.203265 -1.316091  1.607138\n",
              "2021-05-01 -1.137996  0.890365  0.026084  0.020032\n",
              "2021-05-02  0.094112  0.565322  0.092218 -2.480276\n",
              "2021-05-03 -0.955251 -0.742422 -1.490762 -0.301218\n",
              "2021-05-04  0.995478 -1.084858 -0.291364  0.685045\n",
              "2021-05-05  0.344454 -0.037259  2.203731  1.671975"
            ]
          },
          "metadata": {
            "tags": []
          },
          "execution_count": 47
        }
      ]
    },
    {
      "cell_type": "code",
      "metadata": {
        "colab": {
          "base_uri": "https://localhost:8080/",
          "height": 235
        },
        "id": "cFYkG7EGmahE",
        "outputId": "2182ae31-2b74-4453-c956-fe394d4b9d08"
      },
      "source": [
        "df"
      ],
      "execution_count": 48,
      "outputs": [
        {
          "output_type": "execute_result",
          "data": {
            "text/html": [
              "<div>\n",
              "<style scoped>\n",
              "    .dataframe tbody tr th:only-of-type {\n",
              "        vertical-align: middle;\n",
              "    }\n",
              "\n",
              "    .dataframe tbody tr th {\n",
              "        vertical-align: top;\n",
              "    }\n",
              "\n",
              "    .dataframe thead th {\n",
              "        text-align: right;\n",
              "    }\n",
              "</style>\n",
              "<table border=\"1\" class=\"dataframe\">\n",
              "  <thead>\n",
              "    <tr style=\"text-align: right;\">\n",
              "      <th></th>\n",
              "      <th>A</th>\n",
              "      <th>B</th>\n",
              "      <th>C</th>\n",
              "      <th>D</th>\n",
              "    </tr>\n",
              "  </thead>\n",
              "  <tbody>\n",
              "    <tr>\n",
              "      <th>2021-04-30</th>\n",
              "      <td>0.352021</td>\n",
              "      <td>-2.203265</td>\n",
              "      <td>-1.316091</td>\n",
              "      <td>1.607138</td>\n",
              "    </tr>\n",
              "    <tr>\n",
              "      <th>2021-05-01</th>\n",
              "      <td>-1.137996</td>\n",
              "      <td>0.890365</td>\n",
              "      <td>0.026084</td>\n",
              "      <td>0.020032</td>\n",
              "    </tr>\n",
              "    <tr>\n",
              "      <th>2021-05-02</th>\n",
              "      <td>0.094112</td>\n",
              "      <td>0.565322</td>\n",
              "      <td>0.092218</td>\n",
              "      <td>-2.480276</td>\n",
              "    </tr>\n",
              "    <tr>\n",
              "      <th>2021-05-03</th>\n",
              "      <td>-0.955251</td>\n",
              "      <td>-0.742422</td>\n",
              "      <td>-1.490762</td>\n",
              "      <td>-0.301218</td>\n",
              "    </tr>\n",
              "    <tr>\n",
              "      <th>2021-05-04</th>\n",
              "      <td>0.995478</td>\n",
              "      <td>-1.084858</td>\n",
              "      <td>-0.291364</td>\n",
              "      <td>0.685045</td>\n",
              "    </tr>\n",
              "    <tr>\n",
              "      <th>2021-05-05</th>\n",
              "      <td>0.344454</td>\n",
              "      <td>-0.037259</td>\n",
              "      <td>2.203731</td>\n",
              "      <td>1.671975</td>\n",
              "    </tr>\n",
              "  </tbody>\n",
              "</table>\n",
              "</div>"
            ],
            "text/plain": [
              "                   A         B         C         D\n",
              "2021-04-30  0.352021 -2.203265 -1.316091  1.607138\n",
              "2021-05-01 -1.137996  0.890365  0.026084  0.020032\n",
              "2021-05-02  0.094112  0.565322  0.092218 -2.480276\n",
              "2021-05-03 -0.955251 -0.742422 -1.490762 -0.301218\n",
              "2021-05-04  0.995478 -1.084858 -0.291364  0.685045\n",
              "2021-05-05  0.344454 -0.037259  2.203731  1.671975"
            ]
          },
          "metadata": {
            "tags": []
          },
          "execution_count": 48
        }
      ]
    },
    {
      "cell_type": "code",
      "metadata": {
        "colab": {
          "base_uri": "https://localhost:8080/"
        },
        "id": "TD8Mxe-1md7s",
        "outputId": "eb7a83e0-5049-4bf3-abfb-d92ada9d21cb"
      },
      "source": [
        "df.index"
      ],
      "execution_count": 50,
      "outputs": [
        {
          "output_type": "execute_result",
          "data": {
            "text/plain": [
              "DatetimeIndex(['2021-04-30', '2021-05-01', '2021-05-02', '2021-05-03',\n",
              "               '2021-05-04', '2021-05-05'],\n",
              "              dtype='datetime64[ns]', freq='D')"
            ]
          },
          "metadata": {
            "tags": []
          },
          "execution_count": 50
        }
      ]
    },
    {
      "cell_type": "code",
      "metadata": {
        "colab": {
          "base_uri": "https://localhost:8080/"
        },
        "id": "Koc-iEGAmkKE",
        "outputId": "4d6cd680-c3ef-4c0a-d1ca-0b2a1828dba0"
      },
      "source": [
        "df.columns"
      ],
      "execution_count": 51,
      "outputs": [
        {
          "output_type": "execute_result",
          "data": {
            "text/plain": [
              "Index(['A', 'B', 'C', 'D'], dtype='object')"
            ]
          },
          "metadata": {
            "tags": []
          },
          "execution_count": 51
        }
      ]
    },
    {
      "cell_type": "code",
      "metadata": {
        "colab": {
          "base_uri": "https://localhost:8080/"
        },
        "id": "Ji4BUIxKmvO0",
        "outputId": "43d6b246-a4c5-4520-dbe9-f773d3ca41b3"
      },
      "source": [
        "df.values"
      ],
      "execution_count": 52,
      "outputs": [
        {
          "output_type": "execute_result",
          "data": {
            "text/plain": [
              "array([[ 0.35202074, -2.20326527, -1.316091  ,  1.60713763],\n",
              "       [-1.13799584,  0.89036468,  0.02608373,  0.02003216],\n",
              "       [ 0.09411246,  0.56532167,  0.09221757, -2.48027644],\n",
              "       [-0.955251  , -0.74242204, -1.49076179, -0.30121845],\n",
              "       [ 0.9954784 , -1.08485813, -0.29136356,  0.68504486],\n",
              "       [ 0.34445359, -0.03725875,  2.2037306 ,  1.67197465]])"
            ]
          },
          "metadata": {
            "tags": []
          },
          "execution_count": 52
        }
      ]
    },
    {
      "cell_type": "code",
      "metadata": {
        "colab": {
          "base_uri": "https://localhost:8080/",
          "height": 173
        },
        "id": "_G2bU9PJmyOM",
        "outputId": "942fdd06-e97f-435e-88b1-20475495637a"
      },
      "source": [
        "df.T ##행과 열이 바뀜 \n"
      ],
      "execution_count": 55,
      "outputs": [
        {
          "output_type": "execute_result",
          "data": {
            "text/html": [
              "<div>\n",
              "<style scoped>\n",
              "    .dataframe tbody tr th:only-of-type {\n",
              "        vertical-align: middle;\n",
              "    }\n",
              "\n",
              "    .dataframe tbody tr th {\n",
              "        vertical-align: top;\n",
              "    }\n",
              "\n",
              "    .dataframe thead th {\n",
              "        text-align: right;\n",
              "    }\n",
              "</style>\n",
              "<table border=\"1\" class=\"dataframe\">\n",
              "  <thead>\n",
              "    <tr style=\"text-align: right;\">\n",
              "      <th></th>\n",
              "      <th>2021-04-30</th>\n",
              "      <th>2021-05-01</th>\n",
              "      <th>2021-05-02</th>\n",
              "      <th>2021-05-03</th>\n",
              "      <th>2021-05-04</th>\n",
              "      <th>2021-05-05</th>\n",
              "    </tr>\n",
              "  </thead>\n",
              "  <tbody>\n",
              "    <tr>\n",
              "      <th>A</th>\n",
              "      <td>0.352021</td>\n",
              "      <td>-1.137996</td>\n",
              "      <td>0.094112</td>\n",
              "      <td>-0.955251</td>\n",
              "      <td>0.995478</td>\n",
              "      <td>0.344454</td>\n",
              "    </tr>\n",
              "    <tr>\n",
              "      <th>B</th>\n",
              "      <td>-2.203265</td>\n",
              "      <td>0.890365</td>\n",
              "      <td>0.565322</td>\n",
              "      <td>-0.742422</td>\n",
              "      <td>-1.084858</td>\n",
              "      <td>-0.037259</td>\n",
              "    </tr>\n",
              "    <tr>\n",
              "      <th>C</th>\n",
              "      <td>-1.316091</td>\n",
              "      <td>0.026084</td>\n",
              "      <td>0.092218</td>\n",
              "      <td>-1.490762</td>\n",
              "      <td>-0.291364</td>\n",
              "      <td>2.203731</td>\n",
              "    </tr>\n",
              "    <tr>\n",
              "      <th>D</th>\n",
              "      <td>1.607138</td>\n",
              "      <td>0.020032</td>\n",
              "      <td>-2.480276</td>\n",
              "      <td>-0.301218</td>\n",
              "      <td>0.685045</td>\n",
              "      <td>1.671975</td>\n",
              "    </tr>\n",
              "  </tbody>\n",
              "</table>\n",
              "</div>"
            ],
            "text/plain": [
              "   2021-04-30  2021-05-01  2021-05-02  2021-05-03  2021-05-04  2021-05-05\n",
              "A    0.352021   -1.137996    0.094112   -0.955251    0.995478    0.344454\n",
              "B   -2.203265    0.890365    0.565322   -0.742422   -1.084858   -0.037259\n",
              "C   -1.316091    0.026084    0.092218   -1.490762   -0.291364    2.203731\n",
              "D    1.607138    0.020032   -2.480276   -0.301218    0.685045    1.671975"
            ]
          },
          "metadata": {
            "tags": []
          },
          "execution_count": 55
        }
      ]
    },
    {
      "cell_type": "code",
      "metadata": {
        "colab": {
          "base_uri": "https://localhost:8080/"
        },
        "id": "TcugloMCm2lE",
        "outputId": "3937a286-8b9e-4e75-f455-23902c54cf24"
      },
      "source": [
        "print(df.sort_index(axis=0, ascending=True))\n"
      ],
      "execution_count": 56,
      "outputs": [
        {
          "output_type": "stream",
          "text": [
            "                   A         B         C         D\n",
            "2021-04-30  0.352021 -2.203265 -1.316091  1.607138\n",
            "2021-05-01 -1.137996  0.890365  0.026084  0.020032\n",
            "2021-05-02  0.094112  0.565322  0.092218 -2.480276\n",
            "2021-05-03 -0.955251 -0.742422 -1.490762 -0.301218\n",
            "2021-05-04  0.995478 -1.084858 -0.291364  0.685045\n",
            "2021-05-05  0.344454 -0.037259  2.203731  1.671975\n"
          ],
          "name": "stdout"
        }
      ]
    },
    {
      "cell_type": "code",
      "metadata": {
        "colab": {
          "base_uri": "https://localhost:8080/",
          "height": 235
        },
        "id": "RQxKWdzcpNuc",
        "outputId": "985de8bd-57ab-409e-f91c-f56b4c98454a"
      },
      "source": [
        "df"
      ],
      "execution_count": 59,
      "outputs": [
        {
          "output_type": "execute_result",
          "data": {
            "text/html": [
              "<div>\n",
              "<style scoped>\n",
              "    .dataframe tbody tr th:only-of-type {\n",
              "        vertical-align: middle;\n",
              "    }\n",
              "\n",
              "    .dataframe tbody tr th {\n",
              "        vertical-align: top;\n",
              "    }\n",
              "\n",
              "    .dataframe thead th {\n",
              "        text-align: right;\n",
              "    }\n",
              "</style>\n",
              "<table border=\"1\" class=\"dataframe\">\n",
              "  <thead>\n",
              "    <tr style=\"text-align: right;\">\n",
              "      <th></th>\n",
              "      <th>A</th>\n",
              "      <th>B</th>\n",
              "      <th>C</th>\n",
              "      <th>D</th>\n",
              "    </tr>\n",
              "  </thead>\n",
              "  <tbody>\n",
              "    <tr>\n",
              "      <th>2021-04-30</th>\n",
              "      <td>0.352021</td>\n",
              "      <td>-2.203265</td>\n",
              "      <td>-1.316091</td>\n",
              "      <td>1.607138</td>\n",
              "    </tr>\n",
              "    <tr>\n",
              "      <th>2021-05-01</th>\n",
              "      <td>-1.137996</td>\n",
              "      <td>0.890365</td>\n",
              "      <td>0.026084</td>\n",
              "      <td>0.020032</td>\n",
              "    </tr>\n",
              "    <tr>\n",
              "      <th>2021-05-02</th>\n",
              "      <td>0.094112</td>\n",
              "      <td>0.565322</td>\n",
              "      <td>0.092218</td>\n",
              "      <td>-2.480276</td>\n",
              "    </tr>\n",
              "    <tr>\n",
              "      <th>2021-05-03</th>\n",
              "      <td>-0.955251</td>\n",
              "      <td>-0.742422</td>\n",
              "      <td>-1.490762</td>\n",
              "      <td>-0.301218</td>\n",
              "    </tr>\n",
              "    <tr>\n",
              "      <th>2021-05-04</th>\n",
              "      <td>0.995478</td>\n",
              "      <td>-1.084858</td>\n",
              "      <td>-0.291364</td>\n",
              "      <td>0.685045</td>\n",
              "    </tr>\n",
              "    <tr>\n",
              "      <th>2021-05-05</th>\n",
              "      <td>0.344454</td>\n",
              "      <td>-0.037259</td>\n",
              "      <td>2.203731</td>\n",
              "      <td>1.671975</td>\n",
              "    </tr>\n",
              "  </tbody>\n",
              "</table>\n",
              "</div>"
            ],
            "text/plain": [
              "                   A         B         C         D\n",
              "2021-04-30  0.352021 -2.203265 -1.316091  1.607138\n",
              "2021-05-01 -1.137996  0.890365  0.026084  0.020032\n",
              "2021-05-02  0.094112  0.565322  0.092218 -2.480276\n",
              "2021-05-03 -0.955251 -0.742422 -1.490762 -0.301218\n",
              "2021-05-04  0.995478 -1.084858 -0.291364  0.685045\n",
              "2021-05-05  0.344454 -0.037259  2.203731  1.671975"
            ]
          },
          "metadata": {
            "tags": []
          },
          "execution_count": 59
        }
      ]
    },
    {
      "cell_type": "code",
      "metadata": {
        "colab": {
          "base_uri": "https://localhost:8080/"
        },
        "id": "7LncjhMFpU54",
        "outputId": "70a572a4-97e9-4261-de56-57903df5012f"
      },
      "source": [
        "\n",
        "print(df.sort_index(axis=0, ascending=False))\n"
      ],
      "execution_count": 61,
      "outputs": [
        {
          "output_type": "stream",
          "text": [
            "                   A         B         C         D\n",
            "2021-05-05  0.344454 -0.037259  2.203731  1.671975\n",
            "2021-05-04  0.995478 -1.084858 -0.291364  0.685045\n",
            "2021-05-03 -0.955251 -0.742422 -1.490762 -0.301218\n",
            "2021-05-02  0.094112  0.565322  0.092218 -2.480276\n",
            "2021-05-01 -1.137996  0.890365  0.026084  0.020032\n",
            "2021-04-30  0.352021 -2.203265 -1.316091  1.607138\n"
          ],
          "name": "stdout"
        }
      ]
    },
    {
      "cell_type": "code",
      "metadata": {
        "colab": {
          "base_uri": "https://localhost:8080/",
          "height": 235
        },
        "id": "pOLtGdV8pso8",
        "outputId": "1c0f0c69-efe2-44d2-b283-245a04f5f29b"
      },
      "source": [
        "df.sort_index(axis=0, ascending=True)\n"
      ],
      "execution_count": 65,
      "outputs": [
        {
          "output_type": "execute_result",
          "data": {
            "text/html": [
              "<div>\n",
              "<style scoped>\n",
              "    .dataframe tbody tr th:only-of-type {\n",
              "        vertical-align: middle;\n",
              "    }\n",
              "\n",
              "    .dataframe tbody tr th {\n",
              "        vertical-align: top;\n",
              "    }\n",
              "\n",
              "    .dataframe thead th {\n",
              "        text-align: right;\n",
              "    }\n",
              "</style>\n",
              "<table border=\"1\" class=\"dataframe\">\n",
              "  <thead>\n",
              "    <tr style=\"text-align: right;\">\n",
              "      <th></th>\n",
              "      <th>A</th>\n",
              "      <th>B</th>\n",
              "      <th>C</th>\n",
              "      <th>D</th>\n",
              "    </tr>\n",
              "  </thead>\n",
              "  <tbody>\n",
              "    <tr>\n",
              "      <th>2021-04-30</th>\n",
              "      <td>0.352021</td>\n",
              "      <td>-2.203265</td>\n",
              "      <td>-1.316091</td>\n",
              "      <td>1.607138</td>\n",
              "    </tr>\n",
              "    <tr>\n",
              "      <th>2021-05-01</th>\n",
              "      <td>-1.137996</td>\n",
              "      <td>0.890365</td>\n",
              "      <td>0.026084</td>\n",
              "      <td>0.020032</td>\n",
              "    </tr>\n",
              "    <tr>\n",
              "      <th>2021-05-02</th>\n",
              "      <td>0.094112</td>\n",
              "      <td>0.565322</td>\n",
              "      <td>0.092218</td>\n",
              "      <td>-2.480276</td>\n",
              "    </tr>\n",
              "    <tr>\n",
              "      <th>2021-05-03</th>\n",
              "      <td>-0.955251</td>\n",
              "      <td>-0.742422</td>\n",
              "      <td>-1.490762</td>\n",
              "      <td>-0.301218</td>\n",
              "    </tr>\n",
              "    <tr>\n",
              "      <th>2021-05-04</th>\n",
              "      <td>0.995478</td>\n",
              "      <td>-1.084858</td>\n",
              "      <td>-0.291364</td>\n",
              "      <td>0.685045</td>\n",
              "    </tr>\n",
              "    <tr>\n",
              "      <th>2021-05-05</th>\n",
              "      <td>0.344454</td>\n",
              "      <td>-0.037259</td>\n",
              "      <td>2.203731</td>\n",
              "      <td>1.671975</td>\n",
              "    </tr>\n",
              "  </tbody>\n",
              "</table>\n",
              "</div>"
            ],
            "text/plain": [
              "                   A         B         C         D\n",
              "2021-04-30  0.352021 -2.203265 -1.316091  1.607138\n",
              "2021-05-01 -1.137996  0.890365  0.026084  0.020032\n",
              "2021-05-02  0.094112  0.565322  0.092218 -2.480276\n",
              "2021-05-03 -0.955251 -0.742422 -1.490762 -0.301218\n",
              "2021-05-04  0.995478 -1.084858 -0.291364  0.685045\n",
              "2021-05-05  0.344454 -0.037259  2.203731  1.671975"
            ]
          },
          "metadata": {
            "tags": []
          },
          "execution_count": 65
        }
      ]
    },
    {
      "cell_type": "code",
      "metadata": {
        "colab": {
          "base_uri": "https://localhost:8080/",
          "height": 235
        },
        "id": "MAgR98_upyo1",
        "outputId": "0b47c9dc-da1a-4d6f-eb95-8ecad8c80805"
      },
      "source": [
        "df"
      ],
      "execution_count": 66,
      "outputs": [
        {
          "output_type": "execute_result",
          "data": {
            "text/html": [
              "<div>\n",
              "<style scoped>\n",
              "    .dataframe tbody tr th:only-of-type {\n",
              "        vertical-align: middle;\n",
              "    }\n",
              "\n",
              "    .dataframe tbody tr th {\n",
              "        vertical-align: top;\n",
              "    }\n",
              "\n",
              "    .dataframe thead th {\n",
              "        text-align: right;\n",
              "    }\n",
              "</style>\n",
              "<table border=\"1\" class=\"dataframe\">\n",
              "  <thead>\n",
              "    <tr style=\"text-align: right;\">\n",
              "      <th></th>\n",
              "      <th>A</th>\n",
              "      <th>B</th>\n",
              "      <th>C</th>\n",
              "      <th>D</th>\n",
              "    </tr>\n",
              "  </thead>\n",
              "  <tbody>\n",
              "    <tr>\n",
              "      <th>2021-04-30</th>\n",
              "      <td>0.352021</td>\n",
              "      <td>-2.203265</td>\n",
              "      <td>-1.316091</td>\n",
              "      <td>1.607138</td>\n",
              "    </tr>\n",
              "    <tr>\n",
              "      <th>2021-05-01</th>\n",
              "      <td>-1.137996</td>\n",
              "      <td>0.890365</td>\n",
              "      <td>0.026084</td>\n",
              "      <td>0.020032</td>\n",
              "    </tr>\n",
              "    <tr>\n",
              "      <th>2021-05-02</th>\n",
              "      <td>0.094112</td>\n",
              "      <td>0.565322</td>\n",
              "      <td>0.092218</td>\n",
              "      <td>-2.480276</td>\n",
              "    </tr>\n",
              "    <tr>\n",
              "      <th>2021-05-03</th>\n",
              "      <td>-0.955251</td>\n",
              "      <td>-0.742422</td>\n",
              "      <td>-1.490762</td>\n",
              "      <td>-0.301218</td>\n",
              "    </tr>\n",
              "    <tr>\n",
              "      <th>2021-05-04</th>\n",
              "      <td>0.995478</td>\n",
              "      <td>-1.084858</td>\n",
              "      <td>-0.291364</td>\n",
              "      <td>0.685045</td>\n",
              "    </tr>\n",
              "    <tr>\n",
              "      <th>2021-05-05</th>\n",
              "      <td>0.344454</td>\n",
              "      <td>-0.037259</td>\n",
              "      <td>2.203731</td>\n",
              "      <td>1.671975</td>\n",
              "    </tr>\n",
              "  </tbody>\n",
              "</table>\n",
              "</div>"
            ],
            "text/plain": [
              "                   A         B         C         D\n",
              "2021-04-30  0.352021 -2.203265 -1.316091  1.607138\n",
              "2021-05-01 -1.137996  0.890365  0.026084  0.020032\n",
              "2021-05-02  0.094112  0.565322  0.092218 -2.480276\n",
              "2021-05-03 -0.955251 -0.742422 -1.490762 -0.301218\n",
              "2021-05-04  0.995478 -1.084858 -0.291364  0.685045\n",
              "2021-05-05  0.344454 -0.037259  2.203731  1.671975"
            ]
          },
          "metadata": {
            "tags": []
          },
          "execution_count": 66
        }
      ]
    },
    {
      "cell_type": "code",
      "metadata": {
        "colab": {
          "base_uri": "https://localhost:8080/",
          "height": 235
        },
        "id": "SAx3gnhLqCXU",
        "outputId": "2aac7c67-6cda-4091-c17f-2172212fe802"
      },
      "source": [
        "df.sort_values(by='B')\n"
      ],
      "execution_count": 67,
      "outputs": [
        {
          "output_type": "execute_result",
          "data": {
            "text/html": [
              "<div>\n",
              "<style scoped>\n",
              "    .dataframe tbody tr th:only-of-type {\n",
              "        vertical-align: middle;\n",
              "    }\n",
              "\n",
              "    .dataframe tbody tr th {\n",
              "        vertical-align: top;\n",
              "    }\n",
              "\n",
              "    .dataframe thead th {\n",
              "        text-align: right;\n",
              "    }\n",
              "</style>\n",
              "<table border=\"1\" class=\"dataframe\">\n",
              "  <thead>\n",
              "    <tr style=\"text-align: right;\">\n",
              "      <th></th>\n",
              "      <th>A</th>\n",
              "      <th>B</th>\n",
              "      <th>C</th>\n",
              "      <th>D</th>\n",
              "    </tr>\n",
              "  </thead>\n",
              "  <tbody>\n",
              "    <tr>\n",
              "      <th>2021-04-30</th>\n",
              "      <td>0.352021</td>\n",
              "      <td>-2.203265</td>\n",
              "      <td>-1.316091</td>\n",
              "      <td>1.607138</td>\n",
              "    </tr>\n",
              "    <tr>\n",
              "      <th>2021-05-04</th>\n",
              "      <td>0.995478</td>\n",
              "      <td>-1.084858</td>\n",
              "      <td>-0.291364</td>\n",
              "      <td>0.685045</td>\n",
              "    </tr>\n",
              "    <tr>\n",
              "      <th>2021-05-03</th>\n",
              "      <td>-0.955251</td>\n",
              "      <td>-0.742422</td>\n",
              "      <td>-1.490762</td>\n",
              "      <td>-0.301218</td>\n",
              "    </tr>\n",
              "    <tr>\n",
              "      <th>2021-05-05</th>\n",
              "      <td>0.344454</td>\n",
              "      <td>-0.037259</td>\n",
              "      <td>2.203731</td>\n",
              "      <td>1.671975</td>\n",
              "    </tr>\n",
              "    <tr>\n",
              "      <th>2021-05-02</th>\n",
              "      <td>0.094112</td>\n",
              "      <td>0.565322</td>\n",
              "      <td>0.092218</td>\n",
              "      <td>-2.480276</td>\n",
              "    </tr>\n",
              "    <tr>\n",
              "      <th>2021-05-01</th>\n",
              "      <td>-1.137996</td>\n",
              "      <td>0.890365</td>\n",
              "      <td>0.026084</td>\n",
              "      <td>0.020032</td>\n",
              "    </tr>\n",
              "  </tbody>\n",
              "</table>\n",
              "</div>"
            ],
            "text/plain": [
              "                   A         B         C         D\n",
              "2021-04-30  0.352021 -2.203265 -1.316091  1.607138\n",
              "2021-05-04  0.995478 -1.084858 -0.291364  0.685045\n",
              "2021-05-03 -0.955251 -0.742422 -1.490762 -0.301218\n",
              "2021-05-05  0.344454 -0.037259  2.203731  1.671975\n",
              "2021-05-02  0.094112  0.565322  0.092218 -2.480276\n",
              "2021-05-01 -1.137996  0.890365  0.026084  0.020032"
            ]
          },
          "metadata": {
            "tags": []
          },
          "execution_count": 67
        }
      ]
    },
    {
      "cell_type": "code",
      "metadata": {
        "colab": {
          "base_uri": "https://localhost:8080/",
          "height": 235
        },
        "id": "Y7W3IQp_qLld",
        "outputId": "5b98a198-f465-4a38-87ca-9741aac331d0"
      },
      "source": [
        "\n",
        "df.sort_values(by='B')"
      ],
      "execution_count": 68,
      "outputs": [
        {
          "output_type": "execute_result",
          "data": {
            "text/html": [
              "<div>\n",
              "<style scoped>\n",
              "    .dataframe tbody tr th:only-of-type {\n",
              "        vertical-align: middle;\n",
              "    }\n",
              "\n",
              "    .dataframe tbody tr th {\n",
              "        vertical-align: top;\n",
              "    }\n",
              "\n",
              "    .dataframe thead th {\n",
              "        text-align: right;\n",
              "    }\n",
              "</style>\n",
              "<table border=\"1\" class=\"dataframe\">\n",
              "  <thead>\n",
              "    <tr style=\"text-align: right;\">\n",
              "      <th></th>\n",
              "      <th>A</th>\n",
              "      <th>B</th>\n",
              "      <th>C</th>\n",
              "      <th>D</th>\n",
              "    </tr>\n",
              "  </thead>\n",
              "  <tbody>\n",
              "    <tr>\n",
              "      <th>2021-04-30</th>\n",
              "      <td>0.352021</td>\n",
              "      <td>-2.203265</td>\n",
              "      <td>-1.316091</td>\n",
              "      <td>1.607138</td>\n",
              "    </tr>\n",
              "    <tr>\n",
              "      <th>2021-05-04</th>\n",
              "      <td>0.995478</td>\n",
              "      <td>-1.084858</td>\n",
              "      <td>-0.291364</td>\n",
              "      <td>0.685045</td>\n",
              "    </tr>\n",
              "    <tr>\n",
              "      <th>2021-05-03</th>\n",
              "      <td>-0.955251</td>\n",
              "      <td>-0.742422</td>\n",
              "      <td>-1.490762</td>\n",
              "      <td>-0.301218</td>\n",
              "    </tr>\n",
              "    <tr>\n",
              "      <th>2021-05-05</th>\n",
              "      <td>0.344454</td>\n",
              "      <td>-0.037259</td>\n",
              "      <td>2.203731</td>\n",
              "      <td>1.671975</td>\n",
              "    </tr>\n",
              "    <tr>\n",
              "      <th>2021-05-02</th>\n",
              "      <td>0.094112</td>\n",
              "      <td>0.565322</td>\n",
              "      <td>0.092218</td>\n",
              "      <td>-2.480276</td>\n",
              "    </tr>\n",
              "    <tr>\n",
              "      <th>2021-05-01</th>\n",
              "      <td>-1.137996</td>\n",
              "      <td>0.890365</td>\n",
              "      <td>0.026084</td>\n",
              "      <td>0.020032</td>\n",
              "    </tr>\n",
              "  </tbody>\n",
              "</table>\n",
              "</div>"
            ],
            "text/plain": [
              "                   A         B         C         D\n",
              "2021-04-30  0.352021 -2.203265 -1.316091  1.607138\n",
              "2021-05-04  0.995478 -1.084858 -0.291364  0.685045\n",
              "2021-05-03 -0.955251 -0.742422 -1.490762 -0.301218\n",
              "2021-05-05  0.344454 -0.037259  2.203731  1.671975\n",
              "2021-05-02  0.094112  0.565322  0.092218 -2.480276\n",
              "2021-05-01 -1.137996  0.890365  0.026084  0.020032"
            ]
          },
          "metadata": {
            "tags": []
          },
          "execution_count": 68
        }
      ]
    },
    {
      "cell_type": "code",
      "metadata": {
        "colab": {
          "base_uri": "https://localhost:8080/"
        },
        "id": "35ICEZDxqSDk",
        "outputId": "e7464e84-8aba-44dd-dcff-e6dd02b9dde1"
      },
      "source": [
        "dates"
      ],
      "execution_count": 69,
      "outputs": [
        {
          "output_type": "execute_result",
          "data": {
            "text/plain": [
              "DatetimeIndex(['2021-04-30', '2021-05-01', '2021-05-02', '2021-05-03',\n",
              "               '2021-05-04', '2021-05-05'],\n",
              "              dtype='datetime64[ns]', freq='D')"
            ]
          },
          "metadata": {
            "tags": []
          },
          "execution_count": 69
        }
      ]
    },
    {
      "cell_type": "code",
      "metadata": {
        "colab": {
          "base_uri": "https://localhost:8080/",
          "height": 235
        },
        "id": "KJdkhKf9qfBU",
        "outputId": "df2e6f35-f82b-458b-df97-64c72c7f5c9b"
      },
      "source": [
        "df"
      ],
      "execution_count": 70,
      "outputs": [
        {
          "output_type": "execute_result",
          "data": {
            "text/html": [
              "<div>\n",
              "<style scoped>\n",
              "    .dataframe tbody tr th:only-of-type {\n",
              "        vertical-align: middle;\n",
              "    }\n",
              "\n",
              "    .dataframe tbody tr th {\n",
              "        vertical-align: top;\n",
              "    }\n",
              "\n",
              "    .dataframe thead th {\n",
              "        text-align: right;\n",
              "    }\n",
              "</style>\n",
              "<table border=\"1\" class=\"dataframe\">\n",
              "  <thead>\n",
              "    <tr style=\"text-align: right;\">\n",
              "      <th></th>\n",
              "      <th>A</th>\n",
              "      <th>B</th>\n",
              "      <th>C</th>\n",
              "      <th>D</th>\n",
              "    </tr>\n",
              "  </thead>\n",
              "  <tbody>\n",
              "    <tr>\n",
              "      <th>2021-04-30</th>\n",
              "      <td>0.352021</td>\n",
              "      <td>-2.203265</td>\n",
              "      <td>-1.316091</td>\n",
              "      <td>1.607138</td>\n",
              "    </tr>\n",
              "    <tr>\n",
              "      <th>2021-05-01</th>\n",
              "      <td>-1.137996</td>\n",
              "      <td>0.890365</td>\n",
              "      <td>0.026084</td>\n",
              "      <td>0.020032</td>\n",
              "    </tr>\n",
              "    <tr>\n",
              "      <th>2021-05-02</th>\n",
              "      <td>0.094112</td>\n",
              "      <td>0.565322</td>\n",
              "      <td>0.092218</td>\n",
              "      <td>-2.480276</td>\n",
              "    </tr>\n",
              "    <tr>\n",
              "      <th>2021-05-03</th>\n",
              "      <td>-0.955251</td>\n",
              "      <td>-0.742422</td>\n",
              "      <td>-1.490762</td>\n",
              "      <td>-0.301218</td>\n",
              "    </tr>\n",
              "    <tr>\n",
              "      <th>2021-05-04</th>\n",
              "      <td>0.995478</td>\n",
              "      <td>-1.084858</td>\n",
              "      <td>-0.291364</td>\n",
              "      <td>0.685045</td>\n",
              "    </tr>\n",
              "    <tr>\n",
              "      <th>2021-05-05</th>\n",
              "      <td>0.344454</td>\n",
              "      <td>-0.037259</td>\n",
              "      <td>2.203731</td>\n",
              "      <td>1.671975</td>\n",
              "    </tr>\n",
              "  </tbody>\n",
              "</table>\n",
              "</div>"
            ],
            "text/plain": [
              "                   A         B         C         D\n",
              "2021-04-30  0.352021 -2.203265 -1.316091  1.607138\n",
              "2021-05-01 -1.137996  0.890365  0.026084  0.020032\n",
              "2021-05-02  0.094112  0.565322  0.092218 -2.480276\n",
              "2021-05-03 -0.955251 -0.742422 -1.490762 -0.301218\n",
              "2021-05-04  0.995478 -1.084858 -0.291364  0.685045\n",
              "2021-05-05  0.344454 -0.037259  2.203731  1.671975"
            ]
          },
          "metadata": {
            "tags": []
          },
          "execution_count": 70
        }
      ]
    },
    {
      "cell_type": "code",
      "metadata": {
        "colab": {
          "base_uri": "https://localhost:8080/"
        },
        "id": "g6Zx9p-CqgEL",
        "outputId": "8bbc63b3-6342-435a-98e4-e296a4e00497"
      },
      "source": [
        "df[\"A\"]"
      ],
      "execution_count": 72,
      "outputs": [
        {
          "output_type": "execute_result",
          "data": {
            "text/plain": [
              "2021-04-30    0.352021\n",
              "2021-05-01   -1.137996\n",
              "2021-05-02    0.094112\n",
              "2021-05-03   -0.955251\n",
              "2021-05-04    0.995478\n",
              "2021-05-05    0.344454\n",
              "Freq: D, Name: A, dtype: float64"
            ]
          },
          "metadata": {
            "tags": []
          },
          "execution_count": 72
        }
      ]
    },
    {
      "cell_type": "code",
      "metadata": {
        "colab": {
          "base_uri": "https://localhost:8080/"
        },
        "id": "HxK90uubqrVU",
        "outputId": "e515966c-557c-4b9c-8fcf-bfcf0ae9f56a"
      },
      "source": [
        "df[\"B\"]"
      ],
      "execution_count": 73,
      "outputs": [
        {
          "output_type": "execute_result",
          "data": {
            "text/plain": [
              "2021-04-30   -2.203265\n",
              "2021-05-01    0.890365\n",
              "2021-05-02    0.565322\n",
              "2021-05-03   -0.742422\n",
              "2021-05-04   -1.084858\n",
              "2021-05-05   -0.037259\n",
              "Freq: D, Name: B, dtype: float64"
            ]
          },
          "metadata": {
            "tags": []
          },
          "execution_count": 73
        }
      ]
    },
    {
      "cell_type": "code",
      "metadata": {
        "colab": {
          "base_uri": "https://localhost:8080/"
        },
        "id": "XG6jgePEq2ur",
        "outputId": "b0028a60-ce29-47ec-ccfb-759950b033dd"
      },
      "source": [
        "df[\"C\"]"
      ],
      "execution_count": 74,
      "outputs": [
        {
          "output_type": "execute_result",
          "data": {
            "text/plain": [
              "2021-04-30   -1.316091\n",
              "2021-05-01    0.026084\n",
              "2021-05-02    0.092218\n",
              "2021-05-03   -1.490762\n",
              "2021-05-04   -0.291364\n",
              "2021-05-05    2.203731\n",
              "Freq: D, Name: C, dtype: float64"
            ]
          },
          "metadata": {
            "tags": []
          },
          "execution_count": 74
        }
      ]
    },
    {
      "cell_type": "code",
      "metadata": {
        "colab": {
          "base_uri": "https://localhost:8080/"
        },
        "id": "-8Yei7yrq3fM",
        "outputId": "b3329c72-9852-4e30-8be1-ff502ba0a2f2"
      },
      "source": [
        "df[\"D\"]"
      ],
      "execution_count": 75,
      "outputs": [
        {
          "output_type": "execute_result",
          "data": {
            "text/plain": [
              "2021-04-30    1.607138\n",
              "2021-05-01    0.020032\n",
              "2021-05-02   -2.480276\n",
              "2021-05-03   -0.301218\n",
              "2021-05-04    0.685045\n",
              "2021-05-05    1.671975\n",
              "Freq: D, Name: D, dtype: float64"
            ]
          },
          "metadata": {
            "tags": []
          },
          "execution_count": 75
        }
      ]
    },
    {
      "cell_type": "code",
      "metadata": {
        "colab": {
          "base_uri": "https://localhost:8080/",
          "height": 235
        },
        "id": "v0s6ow2xq4AL",
        "outputId": "8ea51abb-d854-439b-f6fe-a3346a94e6e5"
      },
      "source": [
        "df[   ['A' , \"C\"]  ]"
      ],
      "execution_count": 77,
      "outputs": [
        {
          "output_type": "execute_result",
          "data": {
            "text/html": [
              "<div>\n",
              "<style scoped>\n",
              "    .dataframe tbody tr th:only-of-type {\n",
              "        vertical-align: middle;\n",
              "    }\n",
              "\n",
              "    .dataframe tbody tr th {\n",
              "        vertical-align: top;\n",
              "    }\n",
              "\n",
              "    .dataframe thead th {\n",
              "        text-align: right;\n",
              "    }\n",
              "</style>\n",
              "<table border=\"1\" class=\"dataframe\">\n",
              "  <thead>\n",
              "    <tr style=\"text-align: right;\">\n",
              "      <th></th>\n",
              "      <th>A</th>\n",
              "      <th>C</th>\n",
              "    </tr>\n",
              "  </thead>\n",
              "  <tbody>\n",
              "    <tr>\n",
              "      <th>2021-04-30</th>\n",
              "      <td>0.352021</td>\n",
              "      <td>-1.316091</td>\n",
              "    </tr>\n",
              "    <tr>\n",
              "      <th>2021-05-01</th>\n",
              "      <td>-1.137996</td>\n",
              "      <td>0.026084</td>\n",
              "    </tr>\n",
              "    <tr>\n",
              "      <th>2021-05-02</th>\n",
              "      <td>0.094112</td>\n",
              "      <td>0.092218</td>\n",
              "    </tr>\n",
              "    <tr>\n",
              "      <th>2021-05-03</th>\n",
              "      <td>-0.955251</td>\n",
              "      <td>-1.490762</td>\n",
              "    </tr>\n",
              "    <tr>\n",
              "      <th>2021-05-04</th>\n",
              "      <td>0.995478</td>\n",
              "      <td>-0.291364</td>\n",
              "    </tr>\n",
              "    <tr>\n",
              "      <th>2021-05-05</th>\n",
              "      <td>0.344454</td>\n",
              "      <td>2.203731</td>\n",
              "    </tr>\n",
              "  </tbody>\n",
              "</table>\n",
              "</div>"
            ],
            "text/plain": [
              "                   A         C\n",
              "2021-04-30  0.352021 -1.316091\n",
              "2021-05-01 -1.137996  0.026084\n",
              "2021-05-02  0.094112  0.092218\n",
              "2021-05-03 -0.955251 -1.490762\n",
              "2021-05-04  0.995478 -0.291364\n",
              "2021-05-05  0.344454  2.203731"
            ]
          },
          "metadata": {
            "tags": []
          },
          "execution_count": 77
        }
      ]
    },
    {
      "cell_type": "code",
      "metadata": {
        "colab": {
          "base_uri": "https://localhost:8080/",
          "height": 235
        },
        "id": "kUPoNhhwrVs7",
        "outputId": "d5717fa3-a239-4c3b-d873-ebc7b06ffcd6"
      },
      "source": [
        "df[ ['A','B','C','D',] ]"
      ],
      "execution_count": 79,
      "outputs": [
        {
          "output_type": "execute_result",
          "data": {
            "text/html": [
              "<div>\n",
              "<style scoped>\n",
              "    .dataframe tbody tr th:only-of-type {\n",
              "        vertical-align: middle;\n",
              "    }\n",
              "\n",
              "    .dataframe tbody tr th {\n",
              "        vertical-align: top;\n",
              "    }\n",
              "\n",
              "    .dataframe thead th {\n",
              "        text-align: right;\n",
              "    }\n",
              "</style>\n",
              "<table border=\"1\" class=\"dataframe\">\n",
              "  <thead>\n",
              "    <tr style=\"text-align: right;\">\n",
              "      <th></th>\n",
              "      <th>A</th>\n",
              "      <th>B</th>\n",
              "      <th>C</th>\n",
              "      <th>D</th>\n",
              "    </tr>\n",
              "  </thead>\n",
              "  <tbody>\n",
              "    <tr>\n",
              "      <th>2021-04-30</th>\n",
              "      <td>0.352021</td>\n",
              "      <td>-2.203265</td>\n",
              "      <td>-1.316091</td>\n",
              "      <td>1.607138</td>\n",
              "    </tr>\n",
              "    <tr>\n",
              "      <th>2021-05-01</th>\n",
              "      <td>-1.137996</td>\n",
              "      <td>0.890365</td>\n",
              "      <td>0.026084</td>\n",
              "      <td>0.020032</td>\n",
              "    </tr>\n",
              "    <tr>\n",
              "      <th>2021-05-02</th>\n",
              "      <td>0.094112</td>\n",
              "      <td>0.565322</td>\n",
              "      <td>0.092218</td>\n",
              "      <td>-2.480276</td>\n",
              "    </tr>\n",
              "    <tr>\n",
              "      <th>2021-05-03</th>\n",
              "      <td>-0.955251</td>\n",
              "      <td>-0.742422</td>\n",
              "      <td>-1.490762</td>\n",
              "      <td>-0.301218</td>\n",
              "    </tr>\n",
              "    <tr>\n",
              "      <th>2021-05-04</th>\n",
              "      <td>0.995478</td>\n",
              "      <td>-1.084858</td>\n",
              "      <td>-0.291364</td>\n",
              "      <td>0.685045</td>\n",
              "    </tr>\n",
              "    <tr>\n",
              "      <th>2021-05-05</th>\n",
              "      <td>0.344454</td>\n",
              "      <td>-0.037259</td>\n",
              "      <td>2.203731</td>\n",
              "      <td>1.671975</td>\n",
              "    </tr>\n",
              "  </tbody>\n",
              "</table>\n",
              "</div>"
            ],
            "text/plain": [
              "                   A         B         C         D\n",
              "2021-04-30  0.352021 -2.203265 -1.316091  1.607138\n",
              "2021-05-01 -1.137996  0.890365  0.026084  0.020032\n",
              "2021-05-02  0.094112  0.565322  0.092218 -2.480276\n",
              "2021-05-03 -0.955251 -0.742422 -1.490762 -0.301218\n",
              "2021-05-04  0.995478 -1.084858 -0.291364  0.685045\n",
              "2021-05-05  0.344454 -0.037259  2.203731  1.671975"
            ]
          },
          "metadata": {
            "tags": []
          },
          "execution_count": 79
        }
      ]
    },
    {
      "cell_type": "code",
      "metadata": {
        "colab": {
          "base_uri": "https://localhost:8080/",
          "height": 142
        },
        "id": "pPI3VbuzrcOM",
        "outputId": "f0cf73e0-8c01-48b7-d52e-8cbfa6b91711"
      },
      "source": [
        "df[0:3]"
      ],
      "execution_count": 82,
      "outputs": [
        {
          "output_type": "execute_result",
          "data": {
            "text/html": [
              "<div>\n",
              "<style scoped>\n",
              "    .dataframe tbody tr th:only-of-type {\n",
              "        vertical-align: middle;\n",
              "    }\n",
              "\n",
              "    .dataframe tbody tr th {\n",
              "        vertical-align: top;\n",
              "    }\n",
              "\n",
              "    .dataframe thead th {\n",
              "        text-align: right;\n",
              "    }\n",
              "</style>\n",
              "<table border=\"1\" class=\"dataframe\">\n",
              "  <thead>\n",
              "    <tr style=\"text-align: right;\">\n",
              "      <th></th>\n",
              "      <th>A</th>\n",
              "      <th>B</th>\n",
              "      <th>C</th>\n",
              "      <th>D</th>\n",
              "    </tr>\n",
              "  </thead>\n",
              "  <tbody>\n",
              "    <tr>\n",
              "      <th>2021-04-30</th>\n",
              "      <td>0.352021</td>\n",
              "      <td>-2.203265</td>\n",
              "      <td>-1.316091</td>\n",
              "      <td>1.607138</td>\n",
              "    </tr>\n",
              "    <tr>\n",
              "      <th>2021-05-01</th>\n",
              "      <td>-1.137996</td>\n",
              "      <td>0.890365</td>\n",
              "      <td>0.026084</td>\n",
              "      <td>0.020032</td>\n",
              "    </tr>\n",
              "    <tr>\n",
              "      <th>2021-05-02</th>\n",
              "      <td>0.094112</td>\n",
              "      <td>0.565322</td>\n",
              "      <td>0.092218</td>\n",
              "      <td>-2.480276</td>\n",
              "    </tr>\n",
              "  </tbody>\n",
              "</table>\n",
              "</div>"
            ],
            "text/plain": [
              "                   A         B         C         D\n",
              "2021-04-30  0.352021 -2.203265 -1.316091  1.607138\n",
              "2021-05-01 -1.137996  0.890365  0.026084  0.020032\n",
              "2021-05-02  0.094112  0.565322  0.092218 -2.480276"
            ]
          },
          "metadata": {
            "tags": []
          },
          "execution_count": 82
        }
      ]
    },
    {
      "cell_type": "code",
      "metadata": {
        "colab": {
          "base_uri": "https://localhost:8080/",
          "height": 80
        },
        "id": "kWj-KbQsriF1",
        "outputId": "4875334c-4228-4589-a80e-6f067f91d30b"
      },
      "source": [
        "df[0:1]"
      ],
      "execution_count": 83,
      "outputs": [
        {
          "output_type": "execute_result",
          "data": {
            "text/html": [
              "<div>\n",
              "<style scoped>\n",
              "    .dataframe tbody tr th:only-of-type {\n",
              "        vertical-align: middle;\n",
              "    }\n",
              "\n",
              "    .dataframe tbody tr th {\n",
              "        vertical-align: top;\n",
              "    }\n",
              "\n",
              "    .dataframe thead th {\n",
              "        text-align: right;\n",
              "    }\n",
              "</style>\n",
              "<table border=\"1\" class=\"dataframe\">\n",
              "  <thead>\n",
              "    <tr style=\"text-align: right;\">\n",
              "      <th></th>\n",
              "      <th>A</th>\n",
              "      <th>B</th>\n",
              "      <th>C</th>\n",
              "      <th>D</th>\n",
              "    </tr>\n",
              "  </thead>\n",
              "  <tbody>\n",
              "    <tr>\n",
              "      <th>2021-04-30</th>\n",
              "      <td>0.352021</td>\n",
              "      <td>-2.203265</td>\n",
              "      <td>-1.316091</td>\n",
              "      <td>1.607138</td>\n",
              "    </tr>\n",
              "  </tbody>\n",
              "</table>\n",
              "</div>"
            ],
            "text/plain": [
              "                   A         B         C         D\n",
              "2021-04-30  0.352021 -2.203265 -1.316091  1.607138"
            ]
          },
          "metadata": {
            "tags": []
          },
          "execution_count": 83
        }
      ]
    },
    {
      "cell_type": "code",
      "metadata": {
        "colab": {
          "base_uri": "https://localhost:8080/",
          "height": 111
        },
        "id": "HW1VAG5-rw-L",
        "outputId": "610366b4-73fc-4aca-ccf2-131333e16f74"
      },
      "source": [
        "df['20210430':'20210501']"
      ],
      "execution_count": 85,
      "outputs": [
        {
          "output_type": "execute_result",
          "data": {
            "text/html": [
              "<div>\n",
              "<style scoped>\n",
              "    .dataframe tbody tr th:only-of-type {\n",
              "        vertical-align: middle;\n",
              "    }\n",
              "\n",
              "    .dataframe tbody tr th {\n",
              "        vertical-align: top;\n",
              "    }\n",
              "\n",
              "    .dataframe thead th {\n",
              "        text-align: right;\n",
              "    }\n",
              "</style>\n",
              "<table border=\"1\" class=\"dataframe\">\n",
              "  <thead>\n",
              "    <tr style=\"text-align: right;\">\n",
              "      <th></th>\n",
              "      <th>A</th>\n",
              "      <th>B</th>\n",
              "      <th>C</th>\n",
              "      <th>D</th>\n",
              "    </tr>\n",
              "  </thead>\n",
              "  <tbody>\n",
              "    <tr>\n",
              "      <th>2021-04-30</th>\n",
              "      <td>0.352021</td>\n",
              "      <td>-2.203265</td>\n",
              "      <td>-1.316091</td>\n",
              "      <td>1.607138</td>\n",
              "    </tr>\n",
              "    <tr>\n",
              "      <th>2021-05-01</th>\n",
              "      <td>-1.137996</td>\n",
              "      <td>0.890365</td>\n",
              "      <td>0.026084</td>\n",
              "      <td>0.020032</td>\n",
              "    </tr>\n",
              "  </tbody>\n",
              "</table>\n",
              "</div>"
            ],
            "text/plain": [
              "                   A         B         C         D\n",
              "2021-04-30  0.352021 -2.203265 -1.316091  1.607138\n",
              "2021-05-01 -1.137996  0.890365  0.026084  0.020032"
            ]
          },
          "metadata": {
            "tags": []
          },
          "execution_count": 85
        }
      ]
    },
    {
      "cell_type": "code",
      "metadata": {
        "colab": {
          "base_uri": "https://localhost:8080/",
          "height": 80
        },
        "id": "BO8oFRUysDv8",
        "outputId": "248a0c40-6038-4deb-dcc3-5a51ec694296"
      },
      "source": [
        "df['20210430':'20210430']"
      ],
      "execution_count": 87,
      "outputs": [
        {
          "output_type": "execute_result",
          "data": {
            "text/html": [
              "<div>\n",
              "<style scoped>\n",
              "    .dataframe tbody tr th:only-of-type {\n",
              "        vertical-align: middle;\n",
              "    }\n",
              "\n",
              "    .dataframe tbody tr th {\n",
              "        vertical-align: top;\n",
              "    }\n",
              "\n",
              "    .dataframe thead th {\n",
              "        text-align: right;\n",
              "    }\n",
              "</style>\n",
              "<table border=\"1\" class=\"dataframe\">\n",
              "  <thead>\n",
              "    <tr style=\"text-align: right;\">\n",
              "      <th></th>\n",
              "      <th>A</th>\n",
              "      <th>B</th>\n",
              "      <th>C</th>\n",
              "      <th>D</th>\n",
              "    </tr>\n",
              "  </thead>\n",
              "  <tbody>\n",
              "    <tr>\n",
              "      <th>2021-04-30</th>\n",
              "      <td>0.352021</td>\n",
              "      <td>-2.203265</td>\n",
              "      <td>-1.316091</td>\n",
              "      <td>1.607138</td>\n",
              "    </tr>\n",
              "  </tbody>\n",
              "</table>\n",
              "</div>"
            ],
            "text/plain": [
              "                   A         B         C         D\n",
              "2021-04-30  0.352021 -2.203265 -1.316091  1.607138"
            ]
          },
          "metadata": {
            "tags": []
          },
          "execution_count": 87
        }
      ]
    },
    {
      "cell_type": "code",
      "metadata": {
        "colab": {
          "base_uri": "https://localhost:8080/"
        },
        "id": "Ym9An5zfsmXU",
        "outputId": "ceb0599b-68c6-4137-f79d-ee14c70b6a0e"
      },
      "source": [
        "df.loc[dates[0]]"
      ],
      "execution_count": 88,
      "outputs": [
        {
          "output_type": "execute_result",
          "data": {
            "text/plain": [
              "A    0.352021\n",
              "B   -2.203265\n",
              "C   -1.316091\n",
              "D    1.607138\n",
              "Name: 2021-04-30 00:00:00, dtype: float64"
            ]
          },
          "metadata": {
            "tags": []
          },
          "execution_count": 88
        }
      ]
    },
    {
      "cell_type": "code",
      "metadata": {
        "colab": {
          "base_uri": "https://localhost:8080/"
        },
        "id": "1iTdJgYRssaD",
        "outputId": "3d540dcf-9c87-455a-8229-bc40393de11e"
      },
      "source": [
        "df.loc['20210430']"
      ],
      "execution_count": 92,
      "outputs": [
        {
          "output_type": "execute_result",
          "data": {
            "text/plain": [
              "A    0.352021\n",
              "B   -2.203265\n",
              "C   -1.316091\n",
              "D    1.607138\n",
              "Name: 2021-04-30 00:00:00, dtype: float64"
            ]
          },
          "metadata": {
            "tags": []
          },
          "execution_count": 92
        }
      ]
    },
    {
      "cell_type": "code",
      "metadata": {
        "colab": {
          "base_uri": "https://localhost:8080/"
        },
        "id": "BGdbNSu1s5kk",
        "outputId": "d510e238-db42-498c-e43c-42b9ddef6a8e"
      },
      "source": [
        "df['A']"
      ],
      "execution_count": 93,
      "outputs": [
        {
          "output_type": "execute_result",
          "data": {
            "text/plain": [
              "2021-04-30    0.352021\n",
              "2021-05-01   -1.137996\n",
              "2021-05-02    0.094112\n",
              "2021-05-03   -0.955251\n",
              "2021-05-04    0.995478\n",
              "2021-05-05    0.344454\n",
              "Freq: D, Name: A, dtype: float64"
            ]
          },
          "metadata": {
            "tags": []
          },
          "execution_count": 93
        }
      ]
    },
    {
      "cell_type": "code",
      "metadata": {
        "colab": {
          "base_uri": "https://localhost:8080/",
          "height": 235
        },
        "id": "QbCJRfV1tGXD",
        "outputId": "4af474d9-0489-4dfb-bfbf-7e6ca897170f"
      },
      "source": [
        "df.loc[:,['A','B']]"
      ],
      "execution_count": 94,
      "outputs": [
        {
          "output_type": "execute_result",
          "data": {
            "text/html": [
              "<div>\n",
              "<style scoped>\n",
              "    .dataframe tbody tr th:only-of-type {\n",
              "        vertical-align: middle;\n",
              "    }\n",
              "\n",
              "    .dataframe tbody tr th {\n",
              "        vertical-align: top;\n",
              "    }\n",
              "\n",
              "    .dataframe thead th {\n",
              "        text-align: right;\n",
              "    }\n",
              "</style>\n",
              "<table border=\"1\" class=\"dataframe\">\n",
              "  <thead>\n",
              "    <tr style=\"text-align: right;\">\n",
              "      <th></th>\n",
              "      <th>A</th>\n",
              "      <th>B</th>\n",
              "    </tr>\n",
              "  </thead>\n",
              "  <tbody>\n",
              "    <tr>\n",
              "      <th>2021-04-30</th>\n",
              "      <td>0.352021</td>\n",
              "      <td>-2.203265</td>\n",
              "    </tr>\n",
              "    <tr>\n",
              "      <th>2021-05-01</th>\n",
              "      <td>-1.137996</td>\n",
              "      <td>0.890365</td>\n",
              "    </tr>\n",
              "    <tr>\n",
              "      <th>2021-05-02</th>\n",
              "      <td>0.094112</td>\n",
              "      <td>0.565322</td>\n",
              "    </tr>\n",
              "    <tr>\n",
              "      <th>2021-05-03</th>\n",
              "      <td>-0.955251</td>\n",
              "      <td>-0.742422</td>\n",
              "    </tr>\n",
              "    <tr>\n",
              "      <th>2021-05-04</th>\n",
              "      <td>0.995478</td>\n",
              "      <td>-1.084858</td>\n",
              "    </tr>\n",
              "    <tr>\n",
              "      <th>2021-05-05</th>\n",
              "      <td>0.344454</td>\n",
              "      <td>-0.037259</td>\n",
              "    </tr>\n",
              "  </tbody>\n",
              "</table>\n",
              "</div>"
            ],
            "text/plain": [
              "                   A         B\n",
              "2021-04-30  0.352021 -2.203265\n",
              "2021-05-01 -1.137996  0.890365\n",
              "2021-05-02  0.094112  0.565322\n",
              "2021-05-03 -0.955251 -0.742422\n",
              "2021-05-04  0.995478 -1.084858\n",
              "2021-05-05  0.344454 -0.037259"
            ]
          },
          "metadata": {
            "tags": []
          },
          "execution_count": 94
        }
      ]
    },
    {
      "cell_type": "code",
      "metadata": {
        "colab": {
          "base_uri": "https://localhost:8080/",
          "height": 173
        },
        "id": "CNT-zDCgtgVC",
        "outputId": "03db91e4-de61-4002-9221-2ec8ab534307"
      },
      "source": [
        "df.loc['20210430':'20210503',['A']]"
      ],
      "execution_count": 97,
      "outputs": [
        {
          "output_type": "execute_result",
          "data": {
            "text/html": [
              "<div>\n",
              "<style scoped>\n",
              "    .dataframe tbody tr th:only-of-type {\n",
              "        vertical-align: middle;\n",
              "    }\n",
              "\n",
              "    .dataframe tbody tr th {\n",
              "        vertical-align: top;\n",
              "    }\n",
              "\n",
              "    .dataframe thead th {\n",
              "        text-align: right;\n",
              "    }\n",
              "</style>\n",
              "<table border=\"1\" class=\"dataframe\">\n",
              "  <thead>\n",
              "    <tr style=\"text-align: right;\">\n",
              "      <th></th>\n",
              "      <th>A</th>\n",
              "    </tr>\n",
              "  </thead>\n",
              "  <tbody>\n",
              "    <tr>\n",
              "      <th>2021-04-30</th>\n",
              "      <td>0.352021</td>\n",
              "    </tr>\n",
              "    <tr>\n",
              "      <th>2021-05-01</th>\n",
              "      <td>-1.137996</td>\n",
              "    </tr>\n",
              "    <tr>\n",
              "      <th>2021-05-02</th>\n",
              "      <td>0.094112</td>\n",
              "    </tr>\n",
              "    <tr>\n",
              "      <th>2021-05-03</th>\n",
              "      <td>-0.955251</td>\n",
              "    </tr>\n",
              "  </tbody>\n",
              "</table>\n",
              "</div>"
            ],
            "text/plain": [
              "                   A\n",
              "2021-04-30  0.352021\n",
              "2021-05-01 -1.137996\n",
              "2021-05-02  0.094112\n",
              "2021-05-03 -0.955251"
            ]
          },
          "metadata": {
            "tags": []
          },
          "execution_count": 97
        }
      ]
    },
    {
      "cell_type": "code",
      "metadata": {
        "colab": {
          "base_uri": "https://localhost:8080/",
          "height": 173
        },
        "id": "cWRZI6mut1i8",
        "outputId": "203c57ed-360e-4f9c-d8dc-ab3a04aad33c"
      },
      "source": [
        "df.loc['20210430':'20210503',['A','B','C']]"
      ],
      "execution_count": 98,
      "outputs": [
        {
          "output_type": "execute_result",
          "data": {
            "text/html": [
              "<div>\n",
              "<style scoped>\n",
              "    .dataframe tbody tr th:only-of-type {\n",
              "        vertical-align: middle;\n",
              "    }\n",
              "\n",
              "    .dataframe tbody tr th {\n",
              "        vertical-align: top;\n",
              "    }\n",
              "\n",
              "    .dataframe thead th {\n",
              "        text-align: right;\n",
              "    }\n",
              "</style>\n",
              "<table border=\"1\" class=\"dataframe\">\n",
              "  <thead>\n",
              "    <tr style=\"text-align: right;\">\n",
              "      <th></th>\n",
              "      <th>A</th>\n",
              "      <th>B</th>\n",
              "      <th>C</th>\n",
              "    </tr>\n",
              "  </thead>\n",
              "  <tbody>\n",
              "    <tr>\n",
              "      <th>2021-04-30</th>\n",
              "      <td>0.352021</td>\n",
              "      <td>-2.203265</td>\n",
              "      <td>-1.316091</td>\n",
              "    </tr>\n",
              "    <tr>\n",
              "      <th>2021-05-01</th>\n",
              "      <td>-1.137996</td>\n",
              "      <td>0.890365</td>\n",
              "      <td>0.026084</td>\n",
              "    </tr>\n",
              "    <tr>\n",
              "      <th>2021-05-02</th>\n",
              "      <td>0.094112</td>\n",
              "      <td>0.565322</td>\n",
              "      <td>0.092218</td>\n",
              "    </tr>\n",
              "    <tr>\n",
              "      <th>2021-05-03</th>\n",
              "      <td>-0.955251</td>\n",
              "      <td>-0.742422</td>\n",
              "      <td>-1.490762</td>\n",
              "    </tr>\n",
              "  </tbody>\n",
              "</table>\n",
              "</div>"
            ],
            "text/plain": [
              "                   A         B         C\n",
              "2021-04-30  0.352021 -2.203265 -1.316091\n",
              "2021-05-01 -1.137996  0.890365  0.026084\n",
              "2021-05-02  0.094112  0.565322  0.092218\n",
              "2021-05-03 -0.955251 -0.742422 -1.490762"
            ]
          },
          "metadata": {
            "tags": []
          },
          "execution_count": 98
        }
      ]
    },
    {
      "cell_type": "code",
      "metadata": {
        "colab": {
          "base_uri": "https://localhost:8080/"
        },
        "id": "SbN6Yn51t58b",
        "outputId": "ba32f2b4-badd-4d0b-d423-0b84a900dc13"
      },
      "source": [
        "df.loc[dates[0], 'A']"
      ],
      "execution_count": 99,
      "outputs": [
        {
          "output_type": "execute_result",
          "data": {
            "text/plain": [
              "0.35202074337626765"
            ]
          },
          "metadata": {
            "tags": []
          },
          "execution_count": 99
        }
      ]
    },
    {
      "cell_type": "code",
      "metadata": {
        "colab": {
          "base_uri": "https://localhost:8080/"
        },
        "id": "xTTdNRhnuGTD",
        "outputId": "0469c5a4-95b0-4159-f5ae-b50337991b76"
      },
      "source": [
        "df.iloc[3]"
      ],
      "execution_count": 101,
      "outputs": [
        {
          "output_type": "execute_result",
          "data": {
            "text/plain": [
              "A   -0.955251\n",
              "B   -0.742422\n",
              "C   -1.490762\n",
              "D   -0.301218\n",
              "Name: 2021-05-03 00:00:00, dtype: float64"
            ]
          },
          "metadata": {
            "tags": []
          },
          "execution_count": 101
        }
      ]
    },
    {
      "cell_type": "code",
      "metadata": {
        "colab": {
          "base_uri": "https://localhost:8080/",
          "height": 235
        },
        "id": "aGFyjgeDuRcq",
        "outputId": "3f32fad0-949c-4cc3-97f3-b31753a35b74"
      },
      "source": [
        "df"
      ],
      "execution_count": 102,
      "outputs": [
        {
          "output_type": "execute_result",
          "data": {
            "text/html": [
              "<div>\n",
              "<style scoped>\n",
              "    .dataframe tbody tr th:only-of-type {\n",
              "        vertical-align: middle;\n",
              "    }\n",
              "\n",
              "    .dataframe tbody tr th {\n",
              "        vertical-align: top;\n",
              "    }\n",
              "\n",
              "    .dataframe thead th {\n",
              "        text-align: right;\n",
              "    }\n",
              "</style>\n",
              "<table border=\"1\" class=\"dataframe\">\n",
              "  <thead>\n",
              "    <tr style=\"text-align: right;\">\n",
              "      <th></th>\n",
              "      <th>A</th>\n",
              "      <th>B</th>\n",
              "      <th>C</th>\n",
              "      <th>D</th>\n",
              "    </tr>\n",
              "  </thead>\n",
              "  <tbody>\n",
              "    <tr>\n",
              "      <th>2021-04-30</th>\n",
              "      <td>0.352021</td>\n",
              "      <td>-2.203265</td>\n",
              "      <td>-1.316091</td>\n",
              "      <td>1.607138</td>\n",
              "    </tr>\n",
              "    <tr>\n",
              "      <th>2021-05-01</th>\n",
              "      <td>-1.137996</td>\n",
              "      <td>0.890365</td>\n",
              "      <td>0.026084</td>\n",
              "      <td>0.020032</td>\n",
              "    </tr>\n",
              "    <tr>\n",
              "      <th>2021-05-02</th>\n",
              "      <td>0.094112</td>\n",
              "      <td>0.565322</td>\n",
              "      <td>0.092218</td>\n",
              "      <td>-2.480276</td>\n",
              "    </tr>\n",
              "    <tr>\n",
              "      <th>2021-05-03</th>\n",
              "      <td>-0.955251</td>\n",
              "      <td>-0.742422</td>\n",
              "      <td>-1.490762</td>\n",
              "      <td>-0.301218</td>\n",
              "    </tr>\n",
              "    <tr>\n",
              "      <th>2021-05-04</th>\n",
              "      <td>0.995478</td>\n",
              "      <td>-1.084858</td>\n",
              "      <td>-0.291364</td>\n",
              "      <td>0.685045</td>\n",
              "    </tr>\n",
              "    <tr>\n",
              "      <th>2021-05-05</th>\n",
              "      <td>0.344454</td>\n",
              "      <td>-0.037259</td>\n",
              "      <td>2.203731</td>\n",
              "      <td>1.671975</td>\n",
              "    </tr>\n",
              "  </tbody>\n",
              "</table>\n",
              "</div>"
            ],
            "text/plain": [
              "                   A         B         C         D\n",
              "2021-04-30  0.352021 -2.203265 -1.316091  1.607138\n",
              "2021-05-01 -1.137996  0.890365  0.026084  0.020032\n",
              "2021-05-02  0.094112  0.565322  0.092218 -2.480276\n",
              "2021-05-03 -0.955251 -0.742422 -1.490762 -0.301218\n",
              "2021-05-04  0.995478 -1.084858 -0.291364  0.685045\n",
              "2021-05-05  0.344454 -0.037259  2.203731  1.671975"
            ]
          },
          "metadata": {
            "tags": []
          },
          "execution_count": 102
        }
      ]
    },
    {
      "cell_type": "code",
      "metadata": {
        "colab": {
          "base_uri": "https://localhost:8080/"
        },
        "id": "W9D7XInBubo7",
        "outputId": "051034c1-ea87-44bc-ba7c-4364eb9d1cc9"
      },
      "source": [
        "df.loc[dates[3]]"
      ],
      "execution_count": 103,
      "outputs": [
        {
          "output_type": "execute_result",
          "data": {
            "text/plain": [
              "A   -0.955251\n",
              "B   -0.742422\n",
              "C   -1.490762\n",
              "D   -0.301218\n",
              "Name: 2021-05-03 00:00:00, dtype: float64"
            ]
          },
          "metadata": {
            "tags": []
          },
          "execution_count": 103
        }
      ]
    },
    {
      "cell_type": "code",
      "metadata": {
        "colab": {
          "base_uri": "https://localhost:8080/"
        },
        "id": "w6loKVE5ueha",
        "outputId": "74e82f74-6756-4747-b7b7-5420a0f04e33"
      },
      "source": [
        "df.iloc[3]"
      ],
      "execution_count": 105,
      "outputs": [
        {
          "output_type": "execute_result",
          "data": {
            "text/plain": [
              "A   -0.955251\n",
              "B   -0.742422\n",
              "C   -1.490762\n",
              "D   -0.301218\n",
              "Name: 2021-05-03 00:00:00, dtype: float64"
            ]
          },
          "metadata": {
            "tags": []
          },
          "execution_count": 105
        }
      ]
    },
    {
      "cell_type": "code",
      "metadata": {
        "colab": {
          "base_uri": "https://localhost:8080/"
        },
        "id": "TwGP95yduggC",
        "outputId": "f12ecd01-9c3d-47e6-c233-05f63cb09537"
      },
      "source": [
        "df.loc[dates[3]]"
      ],
      "execution_count": 106,
      "outputs": [
        {
          "output_type": "execute_result",
          "data": {
            "text/plain": [
              "A   -0.955251\n",
              "B   -0.742422\n",
              "C   -1.490762\n",
              "D   -0.301218\n",
              "Name: 2021-05-03 00:00:00, dtype: float64"
            ]
          },
          "metadata": {
            "tags": []
          },
          "execution_count": 106
        }
      ]
    },
    {
      "cell_type": "code",
      "metadata": {
        "colab": {
          "base_uri": "https://localhost:8080/",
          "height": 142
        },
        "id": "GW6RPNuxusEc",
        "outputId": "88076f9f-0d53-4f2a-ef55-94e86ea955d3"
      },
      "source": [
        "df.iloc[0:3,]"
      ],
      "execution_count": 110,
      "outputs": [
        {
          "output_type": "execute_result",
          "data": {
            "text/html": [
              "<div>\n",
              "<style scoped>\n",
              "    .dataframe tbody tr th:only-of-type {\n",
              "        vertical-align: middle;\n",
              "    }\n",
              "\n",
              "    .dataframe tbody tr th {\n",
              "        vertical-align: top;\n",
              "    }\n",
              "\n",
              "    .dataframe thead th {\n",
              "        text-align: right;\n",
              "    }\n",
              "</style>\n",
              "<table border=\"1\" class=\"dataframe\">\n",
              "  <thead>\n",
              "    <tr style=\"text-align: right;\">\n",
              "      <th></th>\n",
              "      <th>A</th>\n",
              "      <th>B</th>\n",
              "      <th>C</th>\n",
              "      <th>D</th>\n",
              "    </tr>\n",
              "  </thead>\n",
              "  <tbody>\n",
              "    <tr>\n",
              "      <th>2021-04-30</th>\n",
              "      <td>0.352021</td>\n",
              "      <td>-2.203265</td>\n",
              "      <td>-1.316091</td>\n",
              "      <td>1.607138</td>\n",
              "    </tr>\n",
              "    <tr>\n",
              "      <th>2021-05-01</th>\n",
              "      <td>-1.137996</td>\n",
              "      <td>0.890365</td>\n",
              "      <td>0.026084</td>\n",
              "      <td>0.020032</td>\n",
              "    </tr>\n",
              "    <tr>\n",
              "      <th>2021-05-02</th>\n",
              "      <td>0.094112</td>\n",
              "      <td>0.565322</td>\n",
              "      <td>0.092218</td>\n",
              "      <td>-2.480276</td>\n",
              "    </tr>\n",
              "  </tbody>\n",
              "</table>\n",
              "</div>"
            ],
            "text/plain": [
              "                   A         B         C         D\n",
              "2021-04-30  0.352021 -2.203265 -1.316091  1.607138\n",
              "2021-05-01 -1.137996  0.890365  0.026084  0.020032\n",
              "2021-05-02  0.094112  0.565322  0.092218 -2.480276"
            ]
          },
          "metadata": {
            "tags": []
          },
          "execution_count": 110
        }
      ]
    },
    {
      "cell_type": "code",
      "metadata": {
        "colab": {
          "base_uri": "https://localhost:8080/"
        },
        "id": "a8TfOi3Qutxk",
        "outputId": "70644239-7273-427d-faca-d99bbc425480"
      },
      "source": [
        "df.A >0"
      ],
      "execution_count": 112,
      "outputs": [
        {
          "output_type": "execute_result",
          "data": {
            "text/plain": [
              "2021-04-30     True\n",
              "2021-05-01    False\n",
              "2021-05-02     True\n",
              "2021-05-03    False\n",
              "2021-05-04     True\n",
              "2021-05-05     True\n",
              "Freq: D, Name: A, dtype: bool"
            ]
          },
          "metadata": {
            "tags": []
          },
          "execution_count": 112
        }
      ]
    },
    {
      "cell_type": "code",
      "metadata": {
        "colab": {
          "base_uri": "https://localhost:8080/",
          "height": 173
        },
        "id": "fDyF9RI_vmPD",
        "outputId": "3b62db19-2b8e-4f73-dbd6-b82813ac50ea"
      },
      "source": [
        "df[df.A > 0]"
      ],
      "execution_count": 113,
      "outputs": [
        {
          "output_type": "execute_result",
          "data": {
            "text/html": [
              "<div>\n",
              "<style scoped>\n",
              "    .dataframe tbody tr th:only-of-type {\n",
              "        vertical-align: middle;\n",
              "    }\n",
              "\n",
              "    .dataframe tbody tr th {\n",
              "        vertical-align: top;\n",
              "    }\n",
              "\n",
              "    .dataframe thead th {\n",
              "        text-align: right;\n",
              "    }\n",
              "</style>\n",
              "<table border=\"1\" class=\"dataframe\">\n",
              "  <thead>\n",
              "    <tr style=\"text-align: right;\">\n",
              "      <th></th>\n",
              "      <th>A</th>\n",
              "      <th>B</th>\n",
              "      <th>C</th>\n",
              "      <th>D</th>\n",
              "    </tr>\n",
              "  </thead>\n",
              "  <tbody>\n",
              "    <tr>\n",
              "      <th>2021-04-30</th>\n",
              "      <td>0.352021</td>\n",
              "      <td>-2.203265</td>\n",
              "      <td>-1.316091</td>\n",
              "      <td>1.607138</td>\n",
              "    </tr>\n",
              "    <tr>\n",
              "      <th>2021-05-02</th>\n",
              "      <td>0.094112</td>\n",
              "      <td>0.565322</td>\n",
              "      <td>0.092218</td>\n",
              "      <td>-2.480276</td>\n",
              "    </tr>\n",
              "    <tr>\n",
              "      <th>2021-05-04</th>\n",
              "      <td>0.995478</td>\n",
              "      <td>-1.084858</td>\n",
              "      <td>-0.291364</td>\n",
              "      <td>0.685045</td>\n",
              "    </tr>\n",
              "    <tr>\n",
              "      <th>2021-05-05</th>\n",
              "      <td>0.344454</td>\n",
              "      <td>-0.037259</td>\n",
              "      <td>2.203731</td>\n",
              "      <td>1.671975</td>\n",
              "    </tr>\n",
              "  </tbody>\n",
              "</table>\n",
              "</div>"
            ],
            "text/plain": [
              "                   A         B         C         D\n",
              "2021-04-30  0.352021 -2.203265 -1.316091  1.607138\n",
              "2021-05-02  0.094112  0.565322  0.092218 -2.480276\n",
              "2021-05-04  0.995478 -1.084858 -0.291364  0.685045\n",
              "2021-05-05  0.344454 -0.037259  2.203731  1.671975"
            ]
          },
          "metadata": {
            "tags": []
          },
          "execution_count": 113
        }
      ]
    },
    {
      "cell_type": "code",
      "metadata": {
        "colab": {
          "base_uri": "https://localhost:8080/"
        },
        "id": "UsjJk4Pqv1wb",
        "outputId": "d02855aa-32cd-489f-c4ff-82bb85c613e7"
      },
      "source": [
        "print(df[df > 0]);print()"
      ],
      "execution_count": 114,
      "outputs": [
        {
          "output_type": "stream",
          "text": [
            "                   A         B         C         D\n",
            "2021-04-30  0.352021       NaN       NaN  1.607138\n",
            "2021-05-01       NaN  0.890365  0.026084  0.020032\n",
            "2021-05-02  0.094112  0.565322  0.092218       NaN\n",
            "2021-05-03       NaN       NaN       NaN       NaN\n",
            "2021-05-04  0.995478       NaN       NaN  0.685045\n",
            "2021-05-05  0.344454       NaN  2.203731  1.671975\n",
            "\n"
          ],
          "name": "stdout"
        }
      ]
    },
    {
      "cell_type": "code",
      "metadata": {
        "colab": {
          "base_uri": "https://localhost:8080/",
          "height": 235
        },
        "id": "GKzc0HsiwKOj",
        "outputId": "db0c5b9d-7b0d-4142-e1d7-6ea4702140ee"
      },
      "source": [
        "df[df > 0]"
      ],
      "execution_count": 117,
      "outputs": [
        {
          "output_type": "execute_result",
          "data": {
            "text/html": [
              "<div>\n",
              "<style scoped>\n",
              "    .dataframe tbody tr th:only-of-type {\n",
              "        vertical-align: middle;\n",
              "    }\n",
              "\n",
              "    .dataframe tbody tr th {\n",
              "        vertical-align: top;\n",
              "    }\n",
              "\n",
              "    .dataframe thead th {\n",
              "        text-align: right;\n",
              "    }\n",
              "</style>\n",
              "<table border=\"1\" class=\"dataframe\">\n",
              "  <thead>\n",
              "    <tr style=\"text-align: right;\">\n",
              "      <th></th>\n",
              "      <th>A</th>\n",
              "      <th>B</th>\n",
              "      <th>C</th>\n",
              "      <th>D</th>\n",
              "    </tr>\n",
              "  </thead>\n",
              "  <tbody>\n",
              "    <tr>\n",
              "      <th>2021-04-30</th>\n",
              "      <td>0.352021</td>\n",
              "      <td>NaN</td>\n",
              "      <td>NaN</td>\n",
              "      <td>1.607138</td>\n",
              "    </tr>\n",
              "    <tr>\n",
              "      <th>2021-05-01</th>\n",
              "      <td>NaN</td>\n",
              "      <td>0.890365</td>\n",
              "      <td>0.026084</td>\n",
              "      <td>0.020032</td>\n",
              "    </tr>\n",
              "    <tr>\n",
              "      <th>2021-05-02</th>\n",
              "      <td>0.094112</td>\n",
              "      <td>0.565322</td>\n",
              "      <td>0.092218</td>\n",
              "      <td>NaN</td>\n",
              "    </tr>\n",
              "    <tr>\n",
              "      <th>2021-05-03</th>\n",
              "      <td>NaN</td>\n",
              "      <td>NaN</td>\n",
              "      <td>NaN</td>\n",
              "      <td>NaN</td>\n",
              "    </tr>\n",
              "    <tr>\n",
              "      <th>2021-05-04</th>\n",
              "      <td>0.995478</td>\n",
              "      <td>NaN</td>\n",
              "      <td>NaN</td>\n",
              "      <td>0.685045</td>\n",
              "    </tr>\n",
              "    <tr>\n",
              "      <th>2021-05-05</th>\n",
              "      <td>0.344454</td>\n",
              "      <td>NaN</td>\n",
              "      <td>2.203731</td>\n",
              "      <td>1.671975</td>\n",
              "    </tr>\n",
              "  </tbody>\n",
              "</table>\n",
              "</div>"
            ],
            "text/plain": [
              "                   A         B         C         D\n",
              "2021-04-30  0.352021       NaN       NaN  1.607138\n",
              "2021-05-01       NaN  0.890365  0.026084  0.020032\n",
              "2021-05-02  0.094112  0.565322  0.092218       NaN\n",
              "2021-05-03       NaN       NaN       NaN       NaN\n",
              "2021-05-04  0.995478       NaN       NaN  0.685045\n",
              "2021-05-05  0.344454       NaN  2.203731  1.671975"
            ]
          },
          "metadata": {
            "tags": []
          },
          "execution_count": 117
        }
      ]
    },
    {
      "cell_type": "code",
      "metadata": {
        "id": "EqnwxD3uwMcz"
      },
      "source": [
        ""
      ],
      "execution_count": null,
      "outputs": []
    }
  ]
}