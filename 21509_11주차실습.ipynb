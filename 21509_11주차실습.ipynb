{
  "nbformat": 4,
  "nbformat_minor": 0,
  "metadata": {
    "colab": {
      "name": "21509 11주차실습.ipynb",
      "provenance": [],
      "authorship_tag": "ABX9TyMDO/ntbgky+BNobIJMBgv1",
      "include_colab_link": true
    },
    "kernelspec": {
      "name": "python3",
      "display_name": "Python 3"
    },
    "language_info": {
      "name": "python"
    }
  },
  "cells": [
    {
      "cell_type": "markdown",
      "metadata": {
        "id": "view-in-github",
        "colab_type": "text"
      },
      "source": [
        "<a href=\"https://colab.research.google.com/github/bmt21409/bmt_pyson/blob/main/21509_11%EC%A3%BC%EC%B0%A8%EC%8B%A4%EC%8A%B5.ipynb\" target=\"_parent\"><img src=\"https://colab.research.google.com/assets/colab-badge.svg\" alt=\"Open In Colab\"/></a>"
      ]
    },
    {
      "cell_type": "code",
      "metadata": {
        "id": "XzoN0FYDJIiG"
      },
      "source": [
        "import pandas as pd\n",
        "import numpy as np\n",
        "import matplotlib.pyplot as plt"
      ],
      "execution_count": 1,
      "outputs": []
    },
    {
      "cell_type": "code",
      "metadata": {
        "colab": {
          "base_uri": "https://localhost:8080/"
        },
        "id": "naHTnfqpLEGm",
        "outputId": "a04ef5fa-5ecb-409f-c040-b727e8c232c0"
      },
      "source": [
        "dates = pd.date_range('20210514', periods=6)\n",
        "dates"
      ],
      "execution_count": 5,
      "outputs": [
        {
          "output_type": "execute_result",
          "data": {
            "text/plain": [
              "DatetimeIndex(['2021-05-14', '2021-05-15', '2021-05-16', '2021-05-17',\n",
              "               '2021-05-18', '2021-05-19'],\n",
              "              dtype='datetime64[ns]', freq='D')"
            ]
          },
          "metadata": {
            "tags": []
          },
          "execution_count": 5
        }
      ]
    },
    {
      "cell_type": "code",
      "metadata": {
        "colab": {
          "base_uri": "https://localhost:8080/",
          "height": 235
        },
        "id": "5rjkOvqHLM6d",
        "outputId": "30aba98c-e445-49b7-b8ff-e4b8a6145327"
      },
      "source": [
        "df = pd.DataFrame(np.random.randn(6,4), index=dates, columns=list('ABCD'))\n",
        "df"
      ],
      "execution_count": 7,
      "outputs": [
        {
          "output_type": "execute_result",
          "data": {
            "text/html": [
              "<div>\n",
              "<style scoped>\n",
              "    .dataframe tbody tr th:only-of-type {\n",
              "        vertical-align: middle;\n",
              "    }\n",
              "\n",
              "    .dataframe tbody tr th {\n",
              "        vertical-align: top;\n",
              "    }\n",
              "\n",
              "    .dataframe thead th {\n",
              "        text-align: right;\n",
              "    }\n",
              "</style>\n",
              "<table border=\"1\" class=\"dataframe\">\n",
              "  <thead>\n",
              "    <tr style=\"text-align: right;\">\n",
              "      <th></th>\n",
              "      <th>A</th>\n",
              "      <th>B</th>\n",
              "      <th>C</th>\n",
              "      <th>D</th>\n",
              "    </tr>\n",
              "  </thead>\n",
              "  <tbody>\n",
              "    <tr>\n",
              "      <th>2021-05-14</th>\n",
              "      <td>0.643941</td>\n",
              "      <td>1.173239</td>\n",
              "      <td>-0.366353</td>\n",
              "      <td>0.024181</td>\n",
              "    </tr>\n",
              "    <tr>\n",
              "      <th>2021-05-15</th>\n",
              "      <td>2.173249</td>\n",
              "      <td>0.838348</td>\n",
              "      <td>-1.266536</td>\n",
              "      <td>-0.446157</td>\n",
              "    </tr>\n",
              "    <tr>\n",
              "      <th>2021-05-16</th>\n",
              "      <td>-1.609722</td>\n",
              "      <td>0.949268</td>\n",
              "      <td>1.138516</td>\n",
              "      <td>-1.468912</td>\n",
              "    </tr>\n",
              "    <tr>\n",
              "      <th>2021-05-17</th>\n",
              "      <td>-0.077989</td>\n",
              "      <td>-0.239116</td>\n",
              "      <td>-1.558163</td>\n",
              "      <td>1.068749</td>\n",
              "    </tr>\n",
              "    <tr>\n",
              "      <th>2021-05-18</th>\n",
              "      <td>0.114556</td>\n",
              "      <td>-0.636178</td>\n",
              "      <td>1.369699</td>\n",
              "      <td>-0.339155</td>\n",
              "    </tr>\n",
              "    <tr>\n",
              "      <th>2021-05-19</th>\n",
              "      <td>-0.336557</td>\n",
              "      <td>0.768569</td>\n",
              "      <td>1.092082</td>\n",
              "      <td>-0.857373</td>\n",
              "    </tr>\n",
              "  </tbody>\n",
              "</table>\n",
              "</div>"
            ],
            "text/plain": [
              "                   A         B         C         D\n",
              "2021-05-14  0.643941  1.173239 -0.366353  0.024181\n",
              "2021-05-15  2.173249  0.838348 -1.266536 -0.446157\n",
              "2021-05-16 -1.609722  0.949268  1.138516 -1.468912\n",
              "2021-05-17 -0.077989 -0.239116 -1.558163  1.068749\n",
              "2021-05-18  0.114556 -0.636178  1.369699 -0.339155\n",
              "2021-05-19 -0.336557  0.768569  1.092082 -0.857373"
            ]
          },
          "metadata": {
            "tags": []
          },
          "execution_count": 7
        }
      ]
    },
    {
      "cell_type": "code",
      "metadata": {
        "colab": {
          "base_uri": "https://localhost:8080/"
        },
        "id": "ccuSI-8eLsTA",
        "outputId": "33c4059c-c6ca-4fad-babf-6ebf196d82df"
      },
      "source": [
        "df.mean(1)"
      ],
      "execution_count": 9,
      "outputs": [
        {
          "output_type": "execute_result",
          "data": {
            "text/plain": [
              "2021-05-14    0.368752\n",
              "2021-05-15    0.324726\n",
              "2021-05-16   -0.247712\n",
              "2021-05-17   -0.201630\n",
              "2021-05-18    0.127230\n",
              "2021-05-19    0.166680\n",
              "Freq: D, dtype: float64"
            ]
          },
          "metadata": {
            "tags": []
          },
          "execution_count": 9
        }
      ]
    },
    {
      "cell_type": "code",
      "metadata": {
        "colab": {
          "base_uri": "https://localhost:8080/"
        },
        "id": "-rFvbxsSMhu9",
        "outputId": "9f9026d6-63df-45db-a18b-d9f24739092e"
      },
      "source": [
        "df.mean()"
      ],
      "execution_count": 10,
      "outputs": [
        {
          "output_type": "execute_result",
          "data": {
            "text/plain": [
              "A    0.151246\n",
              "B    0.475688\n",
              "C    0.068208\n",
              "D   -0.336445\n",
              "dtype: float64"
            ]
          },
          "metadata": {
            "tags": []
          },
          "execution_count": 10
        }
      ]
    },
    {
      "cell_type": "code",
      "metadata": {
        "colab": {
          "base_uri": "https://localhost:8080/",
          "height": 235
        },
        "id": "xl3aO45NNDCs",
        "outputId": "fdba56e8-77b7-4626-c5f9-619939c023d4"
      },
      "source": [
        "df.apply(np.cumsum)"
      ],
      "execution_count": 11,
      "outputs": [
        {
          "output_type": "execute_result",
          "data": {
            "text/html": [
              "<div>\n",
              "<style scoped>\n",
              "    .dataframe tbody tr th:only-of-type {\n",
              "        vertical-align: middle;\n",
              "    }\n",
              "\n",
              "    .dataframe tbody tr th {\n",
              "        vertical-align: top;\n",
              "    }\n",
              "\n",
              "    .dataframe thead th {\n",
              "        text-align: right;\n",
              "    }\n",
              "</style>\n",
              "<table border=\"1\" class=\"dataframe\">\n",
              "  <thead>\n",
              "    <tr style=\"text-align: right;\">\n",
              "      <th></th>\n",
              "      <th>A</th>\n",
              "      <th>B</th>\n",
              "      <th>C</th>\n",
              "      <th>D</th>\n",
              "    </tr>\n",
              "  </thead>\n",
              "  <tbody>\n",
              "    <tr>\n",
              "      <th>2021-05-14</th>\n",
              "      <td>0.643941</td>\n",
              "      <td>1.173239</td>\n",
              "      <td>-0.366353</td>\n",
              "      <td>0.024181</td>\n",
              "    </tr>\n",
              "    <tr>\n",
              "      <th>2021-05-15</th>\n",
              "      <td>2.817190</td>\n",
              "      <td>2.011587</td>\n",
              "      <td>-1.632889</td>\n",
              "      <td>-0.421976</td>\n",
              "    </tr>\n",
              "    <tr>\n",
              "      <th>2021-05-16</th>\n",
              "      <td>1.207468</td>\n",
              "      <td>2.960855</td>\n",
              "      <td>-0.494373</td>\n",
              "      <td>-1.890889</td>\n",
              "    </tr>\n",
              "    <tr>\n",
              "      <th>2021-05-17</th>\n",
              "      <td>1.129479</td>\n",
              "      <td>2.721739</td>\n",
              "      <td>-2.052536</td>\n",
              "      <td>-0.822140</td>\n",
              "    </tr>\n",
              "    <tr>\n",
              "      <th>2021-05-18</th>\n",
              "      <td>1.244035</td>\n",
              "      <td>2.085561</td>\n",
              "      <td>-0.682837</td>\n",
              "      <td>-1.161295</td>\n",
              "    </tr>\n",
              "    <tr>\n",
              "      <th>2021-05-19</th>\n",
              "      <td>0.907477</td>\n",
              "      <td>2.854130</td>\n",
              "      <td>0.409245</td>\n",
              "      <td>-2.018668</td>\n",
              "    </tr>\n",
              "  </tbody>\n",
              "</table>\n",
              "</div>"
            ],
            "text/plain": [
              "                   A         B         C         D\n",
              "2021-05-14  0.643941  1.173239 -0.366353  0.024181\n",
              "2021-05-15  2.817190  2.011587 -1.632889 -0.421976\n",
              "2021-05-16  1.207468  2.960855 -0.494373 -1.890889\n",
              "2021-05-17  1.129479  2.721739 -2.052536 -0.822140\n",
              "2021-05-18  1.244035  2.085561 -0.682837 -1.161295\n",
              "2021-05-19  0.907477  2.854130  0.409245 -2.018668"
            ]
          },
          "metadata": {
            "tags": []
          },
          "execution_count": 11
        }
      ]
    },
    {
      "cell_type": "code",
      "metadata": {
        "colab": {
          "base_uri": "https://localhost:8080/"
        },
        "id": "dOndcr13NKWs",
        "outputId": "8d36289c-8472-4da5-c147-bfc2295821b0"
      },
      "source": [
        "df.apply(lambda x: x.max() - x.min())"
      ],
      "execution_count": 13,
      "outputs": [
        {
          "output_type": "execute_result",
          "data": {
            "text/plain": [
              "A    3.782971\n",
              "B    1.809417\n",
              "C    2.927862\n",
              "D    2.537661\n",
              "dtype: float64"
            ]
          },
          "metadata": {
            "tags": []
          },
          "execution_count": 13
        }
      ]
    },
    {
      "cell_type": "code",
      "metadata": {
        "colab": {
          "base_uri": "https://localhost:8080/"
        },
        "id": "1uXmzjarN0hc",
        "outputId": "997cbf26-c4e0-42c1-a320-137603d7a625"
      },
      "source": [
        "df.apply(lambda x: x.max() - x.min(), axis=0)"
      ],
      "execution_count": 14,
      "outputs": [
        {
          "output_type": "execute_result",
          "data": {
            "text/plain": [
              "A    3.782971\n",
              "B    1.809417\n",
              "C    2.927862\n",
              "D    2.537661\n",
              "dtype: float64"
            ]
          },
          "metadata": {
            "tags": []
          },
          "execution_count": 14
        }
      ]
    },
    {
      "cell_type": "code",
      "metadata": {
        "colab": {
          "base_uri": "https://localhost:8080/"
        },
        "id": "1k8G7PqRONw8",
        "outputId": "aedd910e-ac71-403b-eb8a-933d9d8d5075"
      },
      "source": [
        "df.apply(lambda x: x.max() - x.min(), axis=1)"
      ],
      "execution_count": 15,
      "outputs": [
        {
          "output_type": "execute_result",
          "data": {
            "text/plain": [
              "2021-05-14    1.539593\n",
              "2021-05-15    3.439785\n",
              "2021-05-16    2.748238\n",
              "2021-05-17    2.626912\n",
              "2021-05-18    2.005876\n",
              "2021-05-19    1.949455\n",
              "Freq: D, dtype: float64"
            ]
          },
          "metadata": {
            "tags": []
          },
          "execution_count": 15
        }
      ]
    },
    {
      "cell_type": "code",
      "metadata": {
        "colab": {
          "base_uri": "https://localhost:8080/"
        },
        "id": "R6t1pnRkOP0t",
        "outputId": "e6a9a601-cc16-403e-e788-9ee2636bdbdd"
      },
      "source": [
        "s= pd. Series(np.random.randint(0,7, size = 10))\n",
        "s"
      ],
      "execution_count": 20,
      "outputs": [
        {
          "output_type": "execute_result",
          "data": {
            "text/plain": [
              "0    1\n",
              "1    3\n",
              "2    0\n",
              "3    4\n",
              "4    1\n",
              "5    5\n",
              "6    5\n",
              "7    6\n",
              "8    5\n",
              "9    5\n",
              "dtype: int64"
            ]
          },
          "metadata": {
            "tags": []
          },
          "execution_count": 20
        }
      ]
    },
    {
      "cell_type": "code",
      "metadata": {
        "colab": {
          "base_uri": "https://localhost:8080/"
        },
        "id": "3gGlWgmrOzjN",
        "outputId": "09bad04c-680c-44ab-8281-1995b1bf727b"
      },
      "source": [
        "s= pd. Series(np.random.randint(1,6, size = 6))\n",
        "s"
      ],
      "execution_count": 21,
      "outputs": [
        {
          "output_type": "execute_result",
          "data": {
            "text/plain": [
              "0    2\n",
              "1    4\n",
              "2    1\n",
              "3    1\n",
              "4    4\n",
              "5    4\n",
              "dtype: int64"
            ]
          },
          "metadata": {
            "tags": []
          },
          "execution_count": 21
        }
      ]
    },
    {
      "cell_type": "code",
      "metadata": {
        "colab": {
          "base_uri": "https://localhost:8080/"
        },
        "id": "KhrB6nwlO6zt",
        "outputId": "b4dcaa89-0350-4db1-edfd-faf8a7791c26"
      },
      "source": [
        "s= pd. Series(np.random.randint(1,6, size = 6))\n",
        "s.value_counts()"
      ],
      "execution_count": 22,
      "outputs": [
        {
          "output_type": "execute_result",
          "data": {
            "text/plain": [
              "5    3\n",
              "4    1\n",
              "2    1\n",
              "1    1\n",
              "dtype: int64"
            ]
          },
          "metadata": {
            "tags": []
          },
          "execution_count": 22
        }
      ]
    },
    {
      "cell_type": "code",
      "metadata": {
        "colab": {
          "base_uri": "https://localhost:8080/"
        },
        "id": "W07YeIzmPGBM",
        "outputId": "f2e5ee49-bd97-40cb-998d-f4f41dd57e63"
      },
      "source": [
        "s.value_counts()"
      ],
      "execution_count": 23,
      "outputs": [
        {
          "output_type": "execute_result",
          "data": {
            "text/plain": [
              "5    3\n",
              "4    1\n",
              "2    1\n",
              "1    1\n",
              "dtype: int64"
            ]
          },
          "metadata": {
            "tags": []
          },
          "execution_count": 23
        }
      ]
    },
    {
      "cell_type": "code",
      "metadata": {
        "colab": {
          "base_uri": "https://localhost:8080/",
          "height": 235
        },
        "id": "HtJncvWBPPhc",
        "outputId": "f14ed817-d4be-43e8-d7c8-75ce146d5814"
      },
      "source": [
        "df - pd.DataFrame(np.random.randn(10,4))\n",
        "df"
      ],
      "execution_count": 25,
      "outputs": [
        {
          "output_type": "execute_result",
          "data": {
            "text/html": [
              "<div>\n",
              "<style scoped>\n",
              "    .dataframe tbody tr th:only-of-type {\n",
              "        vertical-align: middle;\n",
              "    }\n",
              "\n",
              "    .dataframe tbody tr th {\n",
              "        vertical-align: top;\n",
              "    }\n",
              "\n",
              "    .dataframe thead th {\n",
              "        text-align: right;\n",
              "    }\n",
              "</style>\n",
              "<table border=\"1\" class=\"dataframe\">\n",
              "  <thead>\n",
              "    <tr style=\"text-align: right;\">\n",
              "      <th></th>\n",
              "      <th>A</th>\n",
              "      <th>B</th>\n",
              "      <th>C</th>\n",
              "      <th>D</th>\n",
              "    </tr>\n",
              "  </thead>\n",
              "  <tbody>\n",
              "    <tr>\n",
              "      <th>2021-05-14</th>\n",
              "      <td>0.643941</td>\n",
              "      <td>1.173239</td>\n",
              "      <td>-0.366353</td>\n",
              "      <td>0.024181</td>\n",
              "    </tr>\n",
              "    <tr>\n",
              "      <th>2021-05-15</th>\n",
              "      <td>2.173249</td>\n",
              "      <td>0.838348</td>\n",
              "      <td>-1.266536</td>\n",
              "      <td>-0.446157</td>\n",
              "    </tr>\n",
              "    <tr>\n",
              "      <th>2021-05-16</th>\n",
              "      <td>-1.609722</td>\n",
              "      <td>0.949268</td>\n",
              "      <td>1.138516</td>\n",
              "      <td>-1.468912</td>\n",
              "    </tr>\n",
              "    <tr>\n",
              "      <th>2021-05-17</th>\n",
              "      <td>-0.077989</td>\n",
              "      <td>-0.239116</td>\n",
              "      <td>-1.558163</td>\n",
              "      <td>1.068749</td>\n",
              "    </tr>\n",
              "    <tr>\n",
              "      <th>2021-05-18</th>\n",
              "      <td>0.114556</td>\n",
              "      <td>-0.636178</td>\n",
              "      <td>1.369699</td>\n",
              "      <td>-0.339155</td>\n",
              "    </tr>\n",
              "    <tr>\n",
              "      <th>2021-05-19</th>\n",
              "      <td>-0.336557</td>\n",
              "      <td>0.768569</td>\n",
              "      <td>1.092082</td>\n",
              "      <td>-0.857373</td>\n",
              "    </tr>\n",
              "  </tbody>\n",
              "</table>\n",
              "</div>"
            ],
            "text/plain": [
              "                   A         B         C         D\n",
              "2021-05-14  0.643941  1.173239 -0.366353  0.024181\n",
              "2021-05-15  2.173249  0.838348 -1.266536 -0.446157\n",
              "2021-05-16 -1.609722  0.949268  1.138516 -1.468912\n",
              "2021-05-17 -0.077989 -0.239116 -1.558163  1.068749\n",
              "2021-05-18  0.114556 -0.636178  1.369699 -0.339155\n",
              "2021-05-19 -0.336557  0.768569  1.092082 -0.857373"
            ]
          },
          "metadata": {
            "tags": []
          },
          "execution_count": 25
        }
      ]
    },
    {
      "cell_type": "code",
      "metadata": {
        "colab": {
          "base_uri": "https://localhost:8080/",
          "height": 142
        },
        "id": "8siNPKEwQDVc",
        "outputId": "a0066745-732e-428f-9cd6-83281b759cac"
      },
      "source": [
        "df[:3]"
      ],
      "execution_count": 26,
      "outputs": [
        {
          "output_type": "execute_result",
          "data": {
            "text/html": [
              "<div>\n",
              "<style scoped>\n",
              "    .dataframe tbody tr th:only-of-type {\n",
              "        vertical-align: middle;\n",
              "    }\n",
              "\n",
              "    .dataframe tbody tr th {\n",
              "        vertical-align: top;\n",
              "    }\n",
              "\n",
              "    .dataframe thead th {\n",
              "        text-align: right;\n",
              "    }\n",
              "</style>\n",
              "<table border=\"1\" class=\"dataframe\">\n",
              "  <thead>\n",
              "    <tr style=\"text-align: right;\">\n",
              "      <th></th>\n",
              "      <th>A</th>\n",
              "      <th>B</th>\n",
              "      <th>C</th>\n",
              "      <th>D</th>\n",
              "    </tr>\n",
              "  </thead>\n",
              "  <tbody>\n",
              "    <tr>\n",
              "      <th>2021-05-14</th>\n",
              "      <td>0.643941</td>\n",
              "      <td>1.173239</td>\n",
              "      <td>-0.366353</td>\n",
              "      <td>0.024181</td>\n",
              "    </tr>\n",
              "    <tr>\n",
              "      <th>2021-05-15</th>\n",
              "      <td>2.173249</td>\n",
              "      <td>0.838348</td>\n",
              "      <td>-1.266536</td>\n",
              "      <td>-0.446157</td>\n",
              "    </tr>\n",
              "    <tr>\n",
              "      <th>2021-05-16</th>\n",
              "      <td>-1.609722</td>\n",
              "      <td>0.949268</td>\n",
              "      <td>1.138516</td>\n",
              "      <td>-1.468912</td>\n",
              "    </tr>\n",
              "  </tbody>\n",
              "</table>\n",
              "</div>"
            ],
            "text/plain": [
              "                   A         B         C         D\n",
              "2021-05-14  0.643941  1.173239 -0.366353  0.024181\n",
              "2021-05-15  2.173249  0.838348 -1.266536 -0.446157\n",
              "2021-05-16 -1.609722  0.949268  1.138516 -1.468912"
            ]
          },
          "metadata": {
            "tags": []
          },
          "execution_count": 26
        }
      ]
    },
    {
      "cell_type": "code",
      "metadata": {
        "colab": {
          "base_uri": "https://localhost:8080/",
          "height": 142
        },
        "id": "yD2df8rMQSzc",
        "outputId": "2c320730-23f2-4f2a-d10a-7c4417b7d6a3"
      },
      "source": [
        "df[3:7]"
      ],
      "execution_count": 27,
      "outputs": [
        {
          "output_type": "execute_result",
          "data": {
            "text/html": [
              "<div>\n",
              "<style scoped>\n",
              "    .dataframe tbody tr th:only-of-type {\n",
              "        vertical-align: middle;\n",
              "    }\n",
              "\n",
              "    .dataframe tbody tr th {\n",
              "        vertical-align: top;\n",
              "    }\n",
              "\n",
              "    .dataframe thead th {\n",
              "        text-align: right;\n",
              "    }\n",
              "</style>\n",
              "<table border=\"1\" class=\"dataframe\">\n",
              "  <thead>\n",
              "    <tr style=\"text-align: right;\">\n",
              "      <th></th>\n",
              "      <th>A</th>\n",
              "      <th>B</th>\n",
              "      <th>C</th>\n",
              "      <th>D</th>\n",
              "    </tr>\n",
              "  </thead>\n",
              "  <tbody>\n",
              "    <tr>\n",
              "      <th>2021-05-17</th>\n",
              "      <td>-0.077989</td>\n",
              "      <td>-0.239116</td>\n",
              "      <td>-1.558163</td>\n",
              "      <td>1.068749</td>\n",
              "    </tr>\n",
              "    <tr>\n",
              "      <th>2021-05-18</th>\n",
              "      <td>0.114556</td>\n",
              "      <td>-0.636178</td>\n",
              "      <td>1.369699</td>\n",
              "      <td>-0.339155</td>\n",
              "    </tr>\n",
              "    <tr>\n",
              "      <th>2021-05-19</th>\n",
              "      <td>-0.336557</td>\n",
              "      <td>0.768569</td>\n",
              "      <td>1.092082</td>\n",
              "      <td>-0.857373</td>\n",
              "    </tr>\n",
              "  </tbody>\n",
              "</table>\n",
              "</div>"
            ],
            "text/plain": [
              "                   A         B         C         D\n",
              "2021-05-17 -0.077989 -0.239116 -1.558163  1.068749\n",
              "2021-05-18  0.114556 -0.636178  1.369699 -0.339155\n",
              "2021-05-19 -0.336557  0.768569  1.092082 -0.857373"
            ]
          },
          "metadata": {
            "tags": []
          },
          "execution_count": 27
        }
      ]
    },
    {
      "cell_type": "code",
      "metadata": {
        "colab": {
          "base_uri": "https://localhost:8080/",
          "height": 49
        },
        "id": "BdosSTqYQUu8",
        "outputId": "2b46b17c-4d03-4ad3-86f8-ea74ddceb4b8"
      },
      "source": [
        "df[7:]"
      ],
      "execution_count": 29,
      "outputs": [
        {
          "output_type": "execute_result",
          "data": {
            "text/html": [
              "<div>\n",
              "<style scoped>\n",
              "    .dataframe tbody tr th:only-of-type {\n",
              "        vertical-align: middle;\n",
              "    }\n",
              "\n",
              "    .dataframe tbody tr th {\n",
              "        vertical-align: top;\n",
              "    }\n",
              "\n",
              "    .dataframe thead th {\n",
              "        text-align: right;\n",
              "    }\n",
              "</style>\n",
              "<table border=\"1\" class=\"dataframe\">\n",
              "  <thead>\n",
              "    <tr style=\"text-align: right;\">\n",
              "      <th></th>\n",
              "      <th>A</th>\n",
              "      <th>B</th>\n",
              "      <th>C</th>\n",
              "      <th>D</th>\n",
              "    </tr>\n",
              "  </thead>\n",
              "  <tbody>\n",
              "  </tbody>\n",
              "</table>\n",
              "</div>"
            ],
            "text/plain": [
              "Empty DataFrame\n",
              "Columns: [A, B, C, D]\n",
              "Index: []"
            ]
          },
          "metadata": {
            "tags": []
          },
          "execution_count": 29
        }
      ]
    },
    {
      "cell_type": "code",
      "metadata": {
        "colab": {
          "base_uri": "https://localhost:8080/"
        },
        "id": "V8pOrrmxQW_8",
        "outputId": "54bcfc34-bab7-4a07-a02a-b2e4c0f8102b"
      },
      "source": [
        "pieces = [df[:3], df[3:7], df[7:]]\n",
        "pieces"
      ],
      "execution_count": 30,
      "outputs": [
        {
          "output_type": "execute_result",
          "data": {
            "text/plain": [
              "[                   A         B         C         D\n",
              " 2021-05-14  0.643941  1.173239 -0.366353  0.024181\n",
              " 2021-05-15  2.173249  0.838348 -1.266536 -0.446157\n",
              " 2021-05-16 -1.609722  0.949268  1.138516 -1.468912,\n",
              "                    A         B         C         D\n",
              " 2021-05-17 -0.077989 -0.239116 -1.558163  1.068749\n",
              " 2021-05-18  0.114556 -0.636178  1.369699 -0.339155\n",
              " 2021-05-19 -0.336557  0.768569  1.092082 -0.857373,\n",
              " Empty DataFrame\n",
              " Columns: [A, B, C, D]\n",
              " Index: []]"
            ]
          },
          "metadata": {
            "tags": []
          },
          "execution_count": 30
        }
      ]
    },
    {
      "cell_type": "code",
      "metadata": {
        "colab": {
          "base_uri": "https://localhost:8080/",
          "height": 235
        },
        "id": "P7rv_fdNQs_c",
        "outputId": "82a1724a-dd5e-4675-b57f-fd66ed4f1b17"
      },
      "source": [
        "pd. concat(pieces)"
      ],
      "execution_count": 32,
      "outputs": [
        {
          "output_type": "execute_result",
          "data": {
            "text/html": [
              "<div>\n",
              "<style scoped>\n",
              "    .dataframe tbody tr th:only-of-type {\n",
              "        vertical-align: middle;\n",
              "    }\n",
              "\n",
              "    .dataframe tbody tr th {\n",
              "        vertical-align: top;\n",
              "    }\n",
              "\n",
              "    .dataframe thead th {\n",
              "        text-align: right;\n",
              "    }\n",
              "</style>\n",
              "<table border=\"1\" class=\"dataframe\">\n",
              "  <thead>\n",
              "    <tr style=\"text-align: right;\">\n",
              "      <th></th>\n",
              "      <th>A</th>\n",
              "      <th>B</th>\n",
              "      <th>C</th>\n",
              "      <th>D</th>\n",
              "    </tr>\n",
              "  </thead>\n",
              "  <tbody>\n",
              "    <tr>\n",
              "      <th>2021-05-14</th>\n",
              "      <td>0.643941</td>\n",
              "      <td>1.173239</td>\n",
              "      <td>-0.366353</td>\n",
              "      <td>0.024181</td>\n",
              "    </tr>\n",
              "    <tr>\n",
              "      <th>2021-05-15</th>\n",
              "      <td>2.173249</td>\n",
              "      <td>0.838348</td>\n",
              "      <td>-1.266536</td>\n",
              "      <td>-0.446157</td>\n",
              "    </tr>\n",
              "    <tr>\n",
              "      <th>2021-05-16</th>\n",
              "      <td>-1.609722</td>\n",
              "      <td>0.949268</td>\n",
              "      <td>1.138516</td>\n",
              "      <td>-1.468912</td>\n",
              "    </tr>\n",
              "    <tr>\n",
              "      <th>2021-05-17</th>\n",
              "      <td>-0.077989</td>\n",
              "      <td>-0.239116</td>\n",
              "      <td>-1.558163</td>\n",
              "      <td>1.068749</td>\n",
              "    </tr>\n",
              "    <tr>\n",
              "      <th>2021-05-18</th>\n",
              "      <td>0.114556</td>\n",
              "      <td>-0.636178</td>\n",
              "      <td>1.369699</td>\n",
              "      <td>-0.339155</td>\n",
              "    </tr>\n",
              "    <tr>\n",
              "      <th>2021-05-19</th>\n",
              "      <td>-0.336557</td>\n",
              "      <td>0.768569</td>\n",
              "      <td>1.092082</td>\n",
              "      <td>-0.857373</td>\n",
              "    </tr>\n",
              "  </tbody>\n",
              "</table>\n",
              "</div>"
            ],
            "text/plain": [
              "                   A         B         C         D\n",
              "2021-05-14  0.643941  1.173239 -0.366353  0.024181\n",
              "2021-05-15  2.173249  0.838348 -1.266536 -0.446157\n",
              "2021-05-16 -1.609722  0.949268  1.138516 -1.468912\n",
              "2021-05-17 -0.077989 -0.239116 -1.558163  1.068749\n",
              "2021-05-18  0.114556 -0.636178  1.369699 -0.339155\n",
              "2021-05-19 -0.336557  0.768569  1.092082 -0.857373"
            ]
          },
          "metadata": {
            "tags": []
          },
          "execution_count": 32
        }
      ]
    },
    {
      "cell_type": "code",
      "metadata": {
        "id": "L2byGQNRQ3uc"
      },
      "source": [
        "left = pd.DataFrame(\n",
        "    {\n",
        "    'key':['foo', 'foo'], \n",
        "    'lval': [1, 2]\n",
        "    }\n",
        "    )\n",
        "right = pd.DataFrame({'key':['foo', 'foo'], 'rval': [4, 5]})"
      ],
      "execution_count": 35,
      "outputs": []
    },
    {
      "cell_type": "code",
      "metadata": {
        "colab": {
          "base_uri": "https://localhost:8080/",
          "height": 111
        },
        "id": "gnjn55jiRfIs",
        "outputId": "ffa7ebce-b985-4a62-fa39-5be46e487125"
      },
      "source": [
        "left"
      ],
      "execution_count": 38,
      "outputs": [
        {
          "output_type": "execute_result",
          "data": {
            "text/html": [
              "<div>\n",
              "<style scoped>\n",
              "    .dataframe tbody tr th:only-of-type {\n",
              "        vertical-align: middle;\n",
              "    }\n",
              "\n",
              "    .dataframe tbody tr th {\n",
              "        vertical-align: top;\n",
              "    }\n",
              "\n",
              "    .dataframe thead th {\n",
              "        text-align: right;\n",
              "    }\n",
              "</style>\n",
              "<table border=\"1\" class=\"dataframe\">\n",
              "  <thead>\n",
              "    <tr style=\"text-align: right;\">\n",
              "      <th></th>\n",
              "      <th>key</th>\n",
              "      <th>lval</th>\n",
              "    </tr>\n",
              "  </thead>\n",
              "  <tbody>\n",
              "    <tr>\n",
              "      <th>0</th>\n",
              "      <td>foo</td>\n",
              "      <td>1</td>\n",
              "    </tr>\n",
              "    <tr>\n",
              "      <th>1</th>\n",
              "      <td>foo</td>\n",
              "      <td>2</td>\n",
              "    </tr>\n",
              "  </tbody>\n",
              "</table>\n",
              "</div>"
            ],
            "text/plain": [
              "   key  lval\n",
              "0  foo     1\n",
              "1  foo     2"
            ]
          },
          "metadata": {
            "tags": []
          },
          "execution_count": 38
        }
      ]
    },
    {
      "cell_type": "code",
      "metadata": {
        "colab": {
          "base_uri": "https://localhost:8080/",
          "height": 111
        },
        "id": "onxhRz5geiV6",
        "outputId": "6aaa55db-747a-40fa-8845-fe13409a90a2"
      },
      "source": [
        "right"
      ],
      "execution_count": 39,
      "outputs": [
        {
          "output_type": "execute_result",
          "data": {
            "text/html": [
              "<div>\n",
              "<style scoped>\n",
              "    .dataframe tbody tr th:only-of-type {\n",
              "        vertical-align: middle;\n",
              "    }\n",
              "\n",
              "    .dataframe tbody tr th {\n",
              "        vertical-align: top;\n",
              "    }\n",
              "\n",
              "    .dataframe thead th {\n",
              "        text-align: right;\n",
              "    }\n",
              "</style>\n",
              "<table border=\"1\" class=\"dataframe\">\n",
              "  <thead>\n",
              "    <tr style=\"text-align: right;\">\n",
              "      <th></th>\n",
              "      <th>key</th>\n",
              "      <th>rval</th>\n",
              "    </tr>\n",
              "  </thead>\n",
              "  <tbody>\n",
              "    <tr>\n",
              "      <th>0</th>\n",
              "      <td>foo</td>\n",
              "      <td>4</td>\n",
              "    </tr>\n",
              "    <tr>\n",
              "      <th>1</th>\n",
              "      <td>foo</td>\n",
              "      <td>5</td>\n",
              "    </tr>\n",
              "  </tbody>\n",
              "</table>\n",
              "</div>"
            ],
            "text/plain": [
              "   key  rval\n",
              "0  foo     4\n",
              "1  foo     5"
            ]
          },
          "metadata": {
            "tags": []
          },
          "execution_count": 39
        }
      ]
    },
    {
      "cell_type": "code",
      "metadata": {
        "colab": {
          "base_uri": "https://localhost:8080/",
          "height": 173
        },
        "id": "h34xsE5Neosr",
        "outputId": "c107b844-f422-4a22-aa91-a7091d91b661"
      },
      "source": [
        "pd.merge(left, right, on = 'key')"
      ],
      "execution_count": 40,
      "outputs": [
        {
          "output_type": "execute_result",
          "data": {
            "text/html": [
              "<div>\n",
              "<style scoped>\n",
              "    .dataframe tbody tr th:only-of-type {\n",
              "        vertical-align: middle;\n",
              "    }\n",
              "\n",
              "    .dataframe tbody tr th {\n",
              "        vertical-align: top;\n",
              "    }\n",
              "\n",
              "    .dataframe thead th {\n",
              "        text-align: right;\n",
              "    }\n",
              "</style>\n",
              "<table border=\"1\" class=\"dataframe\">\n",
              "  <thead>\n",
              "    <tr style=\"text-align: right;\">\n",
              "      <th></th>\n",
              "      <th>key</th>\n",
              "      <th>lval</th>\n",
              "      <th>rval</th>\n",
              "    </tr>\n",
              "  </thead>\n",
              "  <tbody>\n",
              "    <tr>\n",
              "      <th>0</th>\n",
              "      <td>foo</td>\n",
              "      <td>1</td>\n",
              "      <td>4</td>\n",
              "    </tr>\n",
              "    <tr>\n",
              "      <th>1</th>\n",
              "      <td>foo</td>\n",
              "      <td>1</td>\n",
              "      <td>5</td>\n",
              "    </tr>\n",
              "    <tr>\n",
              "      <th>2</th>\n",
              "      <td>foo</td>\n",
              "      <td>2</td>\n",
              "      <td>4</td>\n",
              "    </tr>\n",
              "    <tr>\n",
              "      <th>3</th>\n",
              "      <td>foo</td>\n",
              "      <td>2</td>\n",
              "      <td>5</td>\n",
              "    </tr>\n",
              "  </tbody>\n",
              "</table>\n",
              "</div>"
            ],
            "text/plain": [
              "   key  lval  rval\n",
              "0  foo     1     4\n",
              "1  foo     1     5\n",
              "2  foo     2     4\n",
              "3  foo     2     5"
            ]
          },
          "metadata": {
            "tags": []
          },
          "execution_count": 40
        }
      ]
    },
    {
      "cell_type": "code",
      "metadata": {
        "colab": {
          "base_uri": "https://localhost:8080/"
        },
        "id": "7nexgi37e3-b",
        "outputId": "905a3d40-e3ff-44cf-a17f-5a8f3a85eb5d"
      },
      "source": [
        "s = df. iloc[3]\n",
        "s"
      ],
      "execution_count": 42,
      "outputs": [
        {
          "output_type": "execute_result",
          "data": {
            "text/plain": [
              "A   -0.077989\n",
              "B   -0.239116\n",
              "C   -1.558163\n",
              "D    1.068749\n",
              "Name: 2021-05-17 00:00:00, dtype: float64"
            ]
          },
          "metadata": {
            "tags": []
          },
          "execution_count": 42
        }
      ]
    },
    {
      "cell_type": "code",
      "metadata": {
        "colab": {
          "base_uri": "https://localhost:8080/",
          "height": 266
        },
        "id": "BNnn3hm4fSh7",
        "outputId": "8c0bf2e2-b916-4c9c-f4e3-647586960563"
      },
      "source": [
        "df.append(s, ignore_index=True)"
      ],
      "execution_count": 43,
      "outputs": [
        {
          "output_type": "execute_result",
          "data": {
            "text/html": [
              "<div>\n",
              "<style scoped>\n",
              "    .dataframe tbody tr th:only-of-type {\n",
              "        vertical-align: middle;\n",
              "    }\n",
              "\n",
              "    .dataframe tbody tr th {\n",
              "        vertical-align: top;\n",
              "    }\n",
              "\n",
              "    .dataframe thead th {\n",
              "        text-align: right;\n",
              "    }\n",
              "</style>\n",
              "<table border=\"1\" class=\"dataframe\">\n",
              "  <thead>\n",
              "    <tr style=\"text-align: right;\">\n",
              "      <th></th>\n",
              "      <th>A</th>\n",
              "      <th>B</th>\n",
              "      <th>C</th>\n",
              "      <th>D</th>\n",
              "    </tr>\n",
              "  </thead>\n",
              "  <tbody>\n",
              "    <tr>\n",
              "      <th>0</th>\n",
              "      <td>0.643941</td>\n",
              "      <td>1.173239</td>\n",
              "      <td>-0.366353</td>\n",
              "      <td>0.024181</td>\n",
              "    </tr>\n",
              "    <tr>\n",
              "      <th>1</th>\n",
              "      <td>2.173249</td>\n",
              "      <td>0.838348</td>\n",
              "      <td>-1.266536</td>\n",
              "      <td>-0.446157</td>\n",
              "    </tr>\n",
              "    <tr>\n",
              "      <th>2</th>\n",
              "      <td>-1.609722</td>\n",
              "      <td>0.949268</td>\n",
              "      <td>1.138516</td>\n",
              "      <td>-1.468912</td>\n",
              "    </tr>\n",
              "    <tr>\n",
              "      <th>3</th>\n",
              "      <td>-0.077989</td>\n",
              "      <td>-0.239116</td>\n",
              "      <td>-1.558163</td>\n",
              "      <td>1.068749</td>\n",
              "    </tr>\n",
              "    <tr>\n",
              "      <th>4</th>\n",
              "      <td>0.114556</td>\n",
              "      <td>-0.636178</td>\n",
              "      <td>1.369699</td>\n",
              "      <td>-0.339155</td>\n",
              "    </tr>\n",
              "    <tr>\n",
              "      <th>5</th>\n",
              "      <td>-0.336557</td>\n",
              "      <td>0.768569</td>\n",
              "      <td>1.092082</td>\n",
              "      <td>-0.857373</td>\n",
              "    </tr>\n",
              "    <tr>\n",
              "      <th>6</th>\n",
              "      <td>-0.077989</td>\n",
              "      <td>-0.239116</td>\n",
              "      <td>-1.558163</td>\n",
              "      <td>1.068749</td>\n",
              "    </tr>\n",
              "  </tbody>\n",
              "</table>\n",
              "</div>"
            ],
            "text/plain": [
              "          A         B         C         D\n",
              "0  0.643941  1.173239 -0.366353  0.024181\n",
              "1  2.173249  0.838348 -1.266536 -0.446157\n",
              "2 -1.609722  0.949268  1.138516 -1.468912\n",
              "3 -0.077989 -0.239116 -1.558163  1.068749\n",
              "4  0.114556 -0.636178  1.369699 -0.339155\n",
              "5 -0.336557  0.768569  1.092082 -0.857373\n",
              "6 -0.077989 -0.239116 -1.558163  1.068749"
            ]
          },
          "metadata": {
            "tags": []
          },
          "execution_count": 43
        }
      ]
    },
    {
      "cell_type": "code",
      "metadata": {
        "id": "piBxwxeBfhZr"
      },
      "source": [
        ""
      ],
      "execution_count": null,
      "outputs": []
    }
  ]
}